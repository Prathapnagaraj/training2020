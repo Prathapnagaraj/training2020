{
  "nbformat": 4,
  "nbformat_minor": 0,
  "metadata": {
    "colab": {
      "name": "Object_Oriented_Programming.ipynb",
      "provenance": [],
      "collapsed_sections": [],
      "toc_visible": true,
      "authorship_tag": "ABX9TyNyT1B9Ahg+FqvTG8IfOjpz",
      "include_colab_link": true
    },
    "kernelspec": {
      "name": "python3",
      "display_name": "Python 3"
    }
  },
  "cells": [
    {
      "cell_type": "markdown",
      "metadata": {
        "id": "view-in-github",
        "colab_type": "text"
      },
      "source": [
        "<a href=\"https://colab.research.google.com/github/Prathapnagaraj/training2020/blob/master/Object_Oriented_Programming.ipynb\" target=\"_parent\"><img src=\"https://colab.research.google.com/assets/colab-badge.svg\" alt=\"Open In Colab\"/></a>"
      ]
    },
    {
      "cell_type": "markdown",
      "metadata": {
        "id": "X75YCXIBgET3",
        "colab_type": "text"
      },
      "source": [
        "# Object Oriented Programming"
      ]
    },
    {
      "cell_type": "markdown",
      "metadata": {
        "id": "iNk8YQYR2OxJ",
        "colab_type": "text"
      },
      "source": [
        "Object oriented programming is programming paradigm. This approach becomes more valuable the more your program grows in size and complexity.\n",
        "OOPs make code more modular. Modular code is easier to understand modify , reuse and maintain it . it also reduces development time\n",
        " "
      ]
    },
    {
      "cell_type": "markdown",
      "metadata": {
        "id": "0_rJyxtXMmZm",
        "colab_type": "text"
      },
      "source": [
        "The basic entities in object-oriented programming are classes and objects\n",
        "\n",
        "\n",
        "*   Class - A blueprint created by a programmer for an object. This defines a set of attributes and methods that will characterize any object that is instantiated from this class\n",
        "*   Object - An instance of a class a real programming entity encapsulate attributes and methods  \n",
        "\n"
      ]
    },
    {
      "cell_type": "code",
      "metadata": {
        "id": "avGQswWFakf5",
        "colab_type": "code",
        "colab": {
          "base_uri": "https://localhost:8080/",
          "height": 34
        },
        "outputId": "407e8320-96f8-4c86-b7e3-26bb6c4e615f"
      },
      "source": [
        "# defining class \n",
        "class Account:\n",
        "  x=10\n",
        "\n",
        "\n",
        "# creating instance for class\n",
        "a = Account()\n",
        "print(a)"
      ],
      "execution_count": 3,
      "outputs": [
        {
          "output_type": "stream",
          "text": [
            "<__main__.Account object at 0x7f0e4f85a048>\n"
          ],
          "name": "stdout"
        }
      ]
    },
    {
      "cell_type": "code",
      "metadata": {
        "id": "zu0g17VoxAtr",
        "colab_type": "code",
        "colab": {
          "base_uri": "https://localhost:8080/",
          "height": 470
        },
        "outputId": "4ab5ecc3-425e-4e21-8cf5-1cc81fb60c4a"
      },
      "source": [
        "dir(a)"
      ],
      "execution_count": 4,
      "outputs": [
        {
          "output_type": "execute_result",
          "data": {
            "text/plain": [
              "['__class__',\n",
              " '__delattr__',\n",
              " '__dict__',\n",
              " '__dir__',\n",
              " '__doc__',\n",
              " '__eq__',\n",
              " '__format__',\n",
              " '__ge__',\n",
              " '__getattribute__',\n",
              " '__gt__',\n",
              " '__hash__',\n",
              " '__init__',\n",
              " '__init_subclass__',\n",
              " '__le__',\n",
              " '__lt__',\n",
              " '__module__',\n",
              " '__ne__',\n",
              " '__new__',\n",
              " '__reduce__',\n",
              " '__reduce_ex__',\n",
              " '__repr__',\n",
              " '__setattr__',\n",
              " '__sizeof__',\n",
              " '__str__',\n",
              " '__subclasshook__',\n",
              " '__weakref__',\n",
              " 'x']"
            ]
          },
          "metadata": {
            "tags": []
          },
          "execution_count": 4
        }
      ]
    },
    {
      "cell_type": "markdown",
      "metadata": {
        "id": "gUnqjDM-bdEm",
        "colab_type": "text"
      },
      "source": [
        "class consists of attributes and methods\n",
        "\n",
        "\n",
        "*   Attributes - characteristic of objects \n",
        "*   Methods - Functions which manupulates objects characteristic\n",
        "\n",
        "\n"
      ]
    },
    {
      "cell_type": "markdown",
      "metadata": {
        "id": "7GQmEXGaIije",
        "colab_type": "text"
      },
      "source": [
        "There are two types of attribute\n",
        "\n",
        "\n",
        "1.   class attributes - can be access with classname or instance\n",
        "2.   instance attributes - can be accessed only through instance\n",
        "\n"
      ]
    },
    {
      "cell_type": "code",
      "metadata": {
        "id": "Kx1ipF01gF9s",
        "colab_type": "code",
        "colab": {}
      },
      "source": [
        "# example class\n",
        "class Employee:\n",
        "   'Common base class for all employees'\n",
        "   empCount = 0\n",
        "\n",
        "   def __init__(self, name, salary):\n",
        "      print(\"creating object with %s and %s\"%(name, salary))\n",
        "      self.name = name\n",
        "      self.salary = salary\n",
        "      Employee.empCount += 1\n",
        "   \n",
        "   def displayCount(self):\n",
        "     print(\"Total Employee %d\" % Employee.empCount)\n",
        "\n",
        "   def displayEmployee(self):\n",
        "      print(\"Name : \", self.name,  \", Salary: \", self.salary)"
      ],
      "execution_count": 5,
      "outputs": []
    },
    {
      "cell_type": "code",
      "metadata": {
        "id": "PN4RmBXW_FpS",
        "colab_type": "code",
        "colab": {
          "base_uri": "https://localhost:8080/",
          "height": 34
        },
        "outputId": "2c7db808-9e04-4161-9bee-8a55c5424077"
      },
      "source": [
        "# Accessing class variable\n",
        "Employee.empCount"
      ],
      "execution_count": 6,
      "outputs": [
        {
          "output_type": "execute_result",
          "data": {
            "text/plain": [
              "0"
            ]
          },
          "metadata": {
            "tags": []
          },
          "execution_count": 6
        }
      ]
    },
    {
      "cell_type": "code",
      "metadata": {
        "id": "QbQlWNc8gR9C",
        "colab_type": "code",
        "colab": {
          "base_uri": "https://localhost:8080/",
          "height": 50
        },
        "outputId": "3de6bc7b-6fcc-4b04-a3c7-32280ccd1710"
      },
      "source": [
        "# Creating 1st object of class\n",
        "emp1 = Employee(\"Ram\", 10000)\n",
        "print(emp1)"
      ],
      "execution_count": 7,
      "outputs": [
        {
          "output_type": "stream",
          "text": [
            "creating object with Ram and 10000\n",
            "<__main__.Employee object at 0x7f0e4f006a58>\n"
          ],
          "name": "stdout"
        }
      ]
    },
    {
      "cell_type": "code",
      "metadata": {
        "id": "uCC0AtTLAcDA",
        "colab_type": "code",
        "colab": {
          "base_uri": "https://localhost:8080/",
          "height": 50
        },
        "outputId": "e8a5ea2a-5330-4765-c9ca-1e16ee96ab75"
      },
      "source": [
        "# accessing object attributes\n",
        "print(\"name   : %s\"%(emp1.name))\n",
        "print(\"salary : %s\"%(emp1.salary))"
      ],
      "execution_count": 8,
      "outputs": [
        {
          "output_type": "stream",
          "text": [
            "name   : Ram\n",
            "salary : 10000\n"
          ],
          "name": "stdout"
        }
      ]
    },
    {
      "cell_type": "code",
      "metadata": {
        "id": "EKfXyBzRA_p-",
        "colab_type": "code",
        "colab": {
          "base_uri": "https://localhost:8080/",
          "height": 34
        },
        "outputId": "e178d31a-0001-498f-c292-c1a3b062a7d6"
      },
      "source": [
        "# Accessing instance method\n",
        "emp1.displayEmployee()"
      ],
      "execution_count": 9,
      "outputs": [
        {
          "output_type": "stream",
          "text": [
            "Name :  Ram , Salary:  10000\n"
          ],
          "name": "stdout"
        }
      ]
    },
    {
      "cell_type": "code",
      "metadata": {
        "id": "oi2Cwyrbggva",
        "colab_type": "code",
        "colab": {
          "base_uri": "https://localhost:8080/",
          "height": 67
        },
        "outputId": "bb3accfd-3215-41ee-b45a-bbe07678ceab"
      },
      "source": [
        "emp2 = Employee(\"Andy\", 20000)\n",
        "emp2.displayEmployee()\n",
        "emp2"
      ],
      "execution_count": 10,
      "outputs": [
        {
          "output_type": "stream",
          "text": [
            "creating object with Andy and 20000\n",
            "Name :  Andy , Salary:  20000\n"
          ],
          "name": "stdout"
        },
        {
          "output_type": "execute_result",
          "data": {
            "text/plain": [
              "<__main__.Employee at 0x7f0e4f006ac8>"
            ]
          },
          "metadata": {
            "tags": []
          },
          "execution_count": 10
        }
      ]
    },
    {
      "cell_type": "code",
      "metadata": {
        "id": "zmnRyC3AjtMv",
        "colab_type": "code",
        "colab": {
          "base_uri": "https://localhost:8080/",
          "height": 50
        },
        "outputId": "9908bf22-d789-466a-e2ac-4736abc1ce1c"
      },
      "source": [
        "emp3 = Employee(\"Jos\", 20000)\n",
        "emp3"
      ],
      "execution_count": 11,
      "outputs": [
        {
          "output_type": "stream",
          "text": [
            "creating object with Jos and 20000\n"
          ],
          "name": "stdout"
        },
        {
          "output_type": "execute_result",
          "data": {
            "text/plain": [
              "<__main__.Employee at 0x7f0e4f006d30>"
            ]
          },
          "metadata": {
            "tags": []
          },
          "execution_count": 11
        }
      ]
    },
    {
      "cell_type": "code",
      "metadata": {
        "id": "N0f1xKk1jV7A",
        "colab_type": "code",
        "colab": {
          "base_uri": "https://localhost:8080/",
          "height": 67
        },
        "outputId": "59c02d61-6c3a-4f54-c6ff-be8c37b71c88"
      },
      "source": [
        "print(Employee.empCount)\n",
        "print(emp1.empCount)\n",
        "print(emp2.empCount)\n"
      ],
      "execution_count": 12,
      "outputs": [
        {
          "output_type": "stream",
          "text": [
            "3\n",
            "3\n",
            "3\n"
          ],
          "name": "stdout"
        }
      ]
    },
    {
      "cell_type": "markdown",
      "metadata": {
        "id": "gwqMb2p7SlOm",
        "colab_type": "text"
      },
      "source": [
        "## Constructor"
      ]
    },
    {
      "cell_type": "markdown",
      "metadata": {
        "id": "ZCt5q_-SM0JE",
        "colab_type": "text"
      },
      "source": [
        "\n",
        "The \\_\\_init\\_\\_ Method is constructor method used to define the attributes of instance right after instatiation. \\_\\_init\\_\\_() method is called immediately and automatically after instace is created  "
      ]
    },
    {
      "cell_type": "markdown",
      "metadata": {
        "id": "9rbr2DPwSnuP",
        "colab_type": "text"
      },
      "source": [
        "## Destructor"
      ]
    },
    {
      "cell_type": "markdown",
      "metadata": {
        "id": "WX8DYvnNNGER",
        "colab_type": "text"
      },
      "source": [
        "\n",
        "The \\_\\_del\\_\\_ Method is destructor method used to do clean up activity just before destroying object"
      ]
    },
    {
      "cell_type": "markdown",
      "metadata": {
        "id": "FU19ejFuO4Gs",
        "colab_type": "text"
      },
      "source": [
        "##  "
      ]
    },
    {
      "cell_type": "code",
      "metadata": {
        "id": "xBJHZsaqN-iE",
        "colab_type": "code",
        "colab": {
          "base_uri": "https://localhost:8080/",
          "height": 101
        },
        "outputId": "62af89a3-e839-40e6-d761-428d63a690a3"
      },
      "source": [
        "class Employee:\n",
        "   'Common base class for all employees'\n",
        "   empCount = 0\n",
        "\n",
        "   def __init__(self, name, salary):\n",
        "      print(\"creating object with %s and %s\"%(name, salary))\n",
        "      self.name = name\n",
        "      self.salary = salary\n",
        "      Employee.empCount += 1\n",
        "   \n",
        "   def displayCount(self):\n",
        "     print(\"Total Employee %d\" % Employee.empCount)\n",
        "\n",
        "   def displayEmployee(self):\n",
        "      print(\"Name : \", self.name,  \", Salary: \", self.salary)\n",
        "  \n",
        "   def __del__(self):\n",
        "      print(\"object %s will be deleted \"%(self))\n",
        "      Employee.empCount=Employee.empCount-1\n",
        "      print(\"Total emp is %s\"%(Employee.empCount))\n",
        "  \n",
        "print(\"Total emps %s \"%(Employee.empCount))\n",
        "emp1 = Employee(\"Ram\", 10000)\n",
        "emp1.displayCount()\n",
        "del emp1 \n"
      ],
      "execution_count": 14,
      "outputs": [
        {
          "output_type": "stream",
          "text": [
            "Total emps 0 \n",
            "creating object with Ram and 10000\n",
            "Total Employee 1\n",
            "object <__main__.Employee object at 0x7f0e4f85a6d8> will be deleted \n",
            "Total emp is 0\n"
          ],
          "name": "stdout"
        }
      ]
    },
    {
      "cell_type": "markdown",
      "metadata": {
        "id": "KCbLtJ52vC4Y",
        "colab_type": "text"
      },
      "source": [
        "###### Problems 1. create student class with attributes name , standard, age, subject and methods to show student details , total number of student , define destructor to reduce student number when student object is deleted"
      ]
    },
    {
      "cell_type": "code",
      "metadata": {
        "id": "qc1NmFUbv54s",
        "colab_type": "code",
        "colab": {
          "base_uri": "https://localhost:8080/",
          "height": 101
        },
        "outputId": "2d058475-6fe9-402a-ee1f-dc1d06c25343"
      },
      "source": [
        "class Student:\n",
        "   'Common base class for all students'\n",
        "   studentCount = 0\n",
        "\n",
        "   def __init__(self, name, age, standard , subjects=[]):\n",
        "      print(\"creating object with %s, %s, %s, %s\"%(name, age, standard, subjects))\n",
        "      self.name = name\n",
        "      self.age = age\n",
        "      self.standard = standard\n",
        "      self.subjects = subjects\n",
        "      Student.studentCount += 1\n",
        "\n",
        "   def displayCount(self):\n",
        "     print(\"Total students %d\" % Student.studentCount)\n",
        "\n",
        "   def displayStudent(self):\n",
        "      print(\"Name : \", self.name,  \", Age: \", self.age, \", Std :\", self.standard, \", subject :\", str(self.subjects))\n",
        "\n",
        "   def __del__(self):\n",
        "      print(\"object %s will be deleted \"%(self))\n",
        "      Student.studentCount=Student.studentCount-1\n",
        "      print(\"Total students is %s\"%(Student.studentCount))\n",
        "\n",
        "print(\"Total students %s \"%(Student.studentCount))\n",
        "s1 = Student(\"Ram\", 12, \"6th\", [\"English\", \"Math\", \"science\"])\n",
        "s1.displayCount()\n",
        "del s1"
      ],
      "execution_count": 16,
      "outputs": [
        {
          "output_type": "stream",
          "text": [
            "Total students 0 \n",
            "creating object with Ram, 12, 6th, ['English', 'Math', 'science']\n",
            "Total students 1\n",
            "object <__main__.Student object at 0x7f0e4f011278> will be deleted \n",
            "Total students is 0\n"
          ],
          "name": "stdout"
        }
      ]
    },
    {
      "cell_type": "markdown",
      "metadata": {
        "id": "WSbEejJ6TJyK",
        "colab_type": "text"
      },
      "source": [
        "## Instance method, Class method and Static method "
      ]
    },
    {
      "cell_type": "markdown",
      "metadata": {
        "id": "2wSWmR1EbncG",
        "colab_type": "text"
      },
      "source": [
        "### Instance Methods"
      ]
    },
    {
      "cell_type": "markdown",
      "metadata": {
        "id": "xhXPxK2an7vL",
        "colab_type": "text"
      },
      "source": [
        "Instance method receives the instance of the class as the first argument, which by convention is called self. we can access the class attributes, and can change the class state as well. Therefore, instance methods gives us control of changing the object as well as the class state"
      ]
    },
    {
      "cell_type": "code",
      "metadata": {
        "id": "GIfTU3fOoYvX",
        "colab_type": "code",
        "colab": {}
      },
      "source": [
        "class Person:\n",
        "  count=0\n",
        "  def __init__(self, name, age):\n",
        "        self.name = name\n",
        "        self.age = age\n",
        "        Person.count+=1\n",
        "\n",
        "  def getDetails(self):\n",
        "      return self.name, self.age"
      ],
      "execution_count": 17,
      "outputs": []
    },
    {
      "cell_type": "code",
      "metadata": {
        "id": "WAst17b6onfI",
        "colab_type": "code",
        "colab": {
          "base_uri": "https://localhost:8080/",
          "height": 50
        },
        "outputId": "4ed1245c-3171-4b4f-eee6-2d65a03a9aaa"
      },
      "source": [
        "p = Person(\"Jon\", 28)\n",
        "print(p.getDetails())\n",
        "p.count"
      ],
      "execution_count": 18,
      "outputs": [
        {
          "output_type": "stream",
          "text": [
            "('Jon', 28)\n"
          ],
          "name": "stdout"
        },
        {
          "output_type": "execute_result",
          "data": {
            "text/plain": [
              "1"
            ]
          },
          "metadata": {
            "tags": []
          },
          "execution_count": 18
        }
      ]
    },
    {
      "cell_type": "code",
      "metadata": {
        "id": "5NEaM1vepPX7",
        "colab_type": "code",
        "colab": {
          "base_uri": "https://localhost:8080/",
          "height": 50
        },
        "outputId": "a3e35995-7b52-4508-b9a3-25d2d3910af5"
      },
      "source": [
        "p2 = Person(\"Sam\", 28)\n",
        "print(p2.getDetails())\n",
        "p2.count"
      ],
      "execution_count": 20,
      "outputs": [
        {
          "output_type": "stream",
          "text": [
            "('Sam', 28)\n"
          ],
          "name": "stdout"
        },
        {
          "output_type": "execute_result",
          "data": {
            "text/plain": [
              "3"
            ]
          },
          "metadata": {
            "tags": []
          },
          "execution_count": 20
        }
      ]
    },
    {
      "cell_type": "markdown",
      "metadata": {
        "id": "uRxbaxfzqIjQ",
        "colab_type": "text"
      },
      "source": [
        "### Class Method"
      ]
    },
    {
      "cell_type": "markdown",
      "metadata": {
        "id": "pN4hpemYqQjU",
        "colab_type": "text"
      },
      "source": [
        "A class method accepts the class as an argument to it which by convention is called cls. It take the cls parameter. It is declared with the @classmethod decorator. Class methods are bound to the class and not to the object of the class. They can alter the class state that would apply across all instances of class but not the object state."
      ]
    },
    {
      "cell_type": "code",
      "metadata": {
        "id": "V185dSmvrBuz",
        "colab_type": "code",
        "colab": {}
      },
      "source": [
        "from datetime import date\n",
        "class Person:\n",
        "  count=0\n",
        "  def __init__(self, name, age):\n",
        "        self.name = name\n",
        "        self.age = age\n",
        "        Person.count+=1\n",
        "\n",
        "  def getDetails(self):\n",
        "      return self.name, self.age\n",
        "\n",
        "  @classmethod\n",
        "  def from_birth_year(cls, name, year):\n",
        "      return cls(name, date.today().year - year)\n",
        "\n",
        "  "
      ],
      "execution_count": 22,
      "outputs": []
    },
    {
      "cell_type": "code",
      "metadata": {
        "id": "blUcN9Alr4un",
        "colab_type": "code",
        "colab": {
          "base_uri": "https://localhost:8080/",
          "height": 34
        },
        "outputId": "9aa2662a-b534-414e-b7bf-a5ca95e165f1"
      },
      "source": [
        "p2 = Person.from_birth_year('Ram', 1994)\n",
        "print(p2.getDetails())\n"
      ],
      "execution_count": 23,
      "outputs": [
        {
          "output_type": "stream",
          "text": [
            "('Ram', 26)\n"
          ],
          "name": "stdout"
        }
      ]
    },
    {
      "cell_type": "markdown",
      "metadata": {
        "id": "SB5Jl3jPu4Es",
        "colab_type": "text"
      },
      "source": [
        "### Static Method"
      ]
    },
    {
      "cell_type": "markdown",
      "metadata": {
        "id": "owXbpdTqvBaq",
        "colab_type": "text"
      },
      "source": [
        "A static method is marked with a @staticmethod decorator to flag it as static. It does not receive an implicit first argument (neither self nor cls).static method is merely attached for convenience to the class object. Hence static methods can neither modify the object state nor class state"
      ]
    },
    {
      "cell_type": "code",
      "metadata": {
        "id": "uytERxU0v37D",
        "colab_type": "code",
        "colab": {}
      },
      "source": [
        "from datetime import date\n",
        "class Person:\n",
        "  count=0\n",
        "  def __init__(self, name, age):\n",
        "        self.name = name\n",
        "        self.age = age\n",
        "        Person.count+=1\n",
        "\n",
        "  def getDetails(self):\n",
        "      return self.name, self.age\n",
        "\n",
        "  @classmethod\n",
        "  def from_birth_year(cls, name, year):\n",
        "      return cls(name, date.today().year - year)\n",
        "  \n",
        "  @staticmethod\n",
        "  def is_adult(age):\n",
        "        return age > 18"
      ],
      "execution_count": 1,
      "outputs": []
    },
    {
      "cell_type": "code",
      "metadata": {
        "id": "JQvaz0IexSyk",
        "colab_type": "code",
        "colab": {
          "base_uri": "https://localhost:8080/",
          "height": 34
        },
        "outputId": "6063a120-ed4e-4d4e-b7b9-202da2b439ae"
      },
      "source": [
        "Person.is_adult(26)"
      ],
      "execution_count": 2,
      "outputs": [
        {
          "output_type": "execute_result",
          "data": {
            "text/plain": [
              "True"
            ]
          },
          "metadata": {
            "tags": []
          },
          "execution_count": 2
        }
      ]
    },
    {
      "cell_type": "code",
      "metadata": {
        "id": "GTKneqGdxYVf",
        "colab_type": "code",
        "colab": {
          "base_uri": "https://localhost:8080/",
          "height": 34
        },
        "outputId": "e1d4c099-5a92-4a0b-80b4-856283853dc3"
      },
      "source": [
        "p = Person(\"Ram\", 25)\n",
        "p.is_adult(25)"
      ],
      "execution_count": 3,
      "outputs": [
        {
          "output_type": "execute_result",
          "data": {
            "text/plain": [
              "('Ram', 25)"
            ]
          },
          "metadata": {
            "tags": []
          },
          "execution_count": 3
        }
      ]
    },
    {
      "cell_type": "markdown",
      "metadata": {
        "id": "CU0G0uFj6J2E",
        "colab_type": "text"
      },
      "source": [
        "## \\_\\_str\\_\\_ and \\_\\_repr\\_\\_ Methods"
      ]
    },
    {
      "cell_type": "markdown",
      "metadata": {
        "id": "P4YF7Crb6ZHm",
        "colab_type": "text"
      },
      "source": [
        "We want to introduce two important magic methods \"\\_\\_str\\_\\_\" and \"\\_\\_repr\\_\\_\", which are help to represent object in readable object information "
      ]
    },
    {
      "cell_type": "code",
      "metadata": {
        "id": "ASIw1DLD6olW",
        "colab_type": "code",
        "colab": {}
      },
      "source": [
        "class Employee:\n",
        "   'Common base class for all employees'\n",
        "   empCount = 0\n",
        "\n",
        "   def __init__(self, name, salary):\n",
        "      print(\"creating object with %s and %s\"%(name, salary))\n",
        "      self.name = name\n",
        "      self.salary = salary\n",
        "      Employee.empCount += 1\n",
        "   \n",
        "   def displayCount(self):\n",
        "     print(\"Total Employee %d\" % Employee.empCount)\n",
        "\n",
        "   def displayEmployee(self):\n",
        "      print(\"Name : \", self.name,  \", Salary: \", self.salary)\n",
        "  \n",
        "   def __del__(self):\n",
        "      print(\"object %s will be deleted \"%(self))\n",
        "      Employee.empCount=Employee.empCount-1\n",
        "      print(\"Total emp is %s\"%(Employee.empCount))"
      ],
      "execution_count": 4,
      "outputs": []
    },
    {
      "cell_type": "code",
      "metadata": {
        "id": "4pQpw8BN6ql2",
        "colab_type": "code",
        "colab": {
          "base_uri": "https://localhost:8080/",
          "height": 67
        },
        "outputId": "5138c4da-515e-498b-c8c7-8dc3bb55f4e0"
      },
      "source": [
        "emp1 = Employee(\"Ram\", 10000)\n",
        "print(emp1)\n",
        "emp1"
      ],
      "execution_count": 5,
      "outputs": [
        {
          "output_type": "stream",
          "text": [
            "creating object with Ram and 10000\n",
            "<__main__.Employee object at 0x7f1c360f6ba8>\n"
          ],
          "name": "stdout"
        },
        {
          "output_type": "execute_result",
          "data": {
            "text/plain": [
              "<__main__.Employee at 0x7f1c360f6ba8>"
            ]
          },
          "metadata": {
            "tags": []
          },
          "execution_count": 5
        }
      ]
    },
    {
      "cell_type": "code",
      "metadata": {
        "id": "HmMLWO4N65x8",
        "colab_type": "code",
        "colab": {}
      },
      "source": [
        "# Lets redefine same code with __str__ and __repr__\n",
        "class Employee:\n",
        "   'Common base class for all employees'\n",
        "   empCount = 0\n",
        "\n",
        "   def __init__(self, name, salary):\n",
        "      print(\"creating object with %s and %s\"%(name, salary))\n",
        "      self.name = name\n",
        "      self.salary = salary\n",
        "      Employee.empCount += 1\n",
        "   \n",
        "   def displayCount(self):\n",
        "     print(\"Total Employee %d\" % Employee.empCount)\n",
        "\n",
        "   def displayEmployee(self):\n",
        "      print(\"Name : \", self.name,  \", Salary: \", self.salary)\n",
        "  \n",
        "   def __del__(self):\n",
        "      print(\"object %s will be deleted \"%(self))\n",
        "      Employee.empCount=Employee.empCount-1\n",
        "      print(\"Total emp is %s\"%(Employee.empCount))\n",
        "\n",
        "   def __str__(self):\n",
        "     return \"Name : \"+self.name +\", \"+ str(self.salary)+\" \"\n",
        "\n",
        "   def __repr__(self):\n",
        "     return \"Employee('\"+self.name +\"', \"+ str(self.salary)+\" )\""
      ],
      "execution_count": 7,
      "outputs": []
    },
    {
      "cell_type": "code",
      "metadata": {
        "id": "Nb_q-06u957G",
        "colab_type": "code",
        "colab": {
          "base_uri": "https://localhost:8080/",
          "height": 67
        },
        "outputId": "2564f3bb-4aaf-4108-cefb-541e906a7dcb"
      },
      "source": [
        "emp1 = Employee(\"Ram\", 10000)\n",
        "print(emp1)\n",
        "emp1"
      ],
      "execution_count": 8,
      "outputs": [
        {
          "output_type": "stream",
          "text": [
            "creating object with Ram and 10000\n",
            "Name : Ram, 10000 \n"
          ],
          "name": "stdout"
        },
        {
          "output_type": "execute_result",
          "data": {
            "text/plain": [
              "Employee('Ram', 10000 )"
            ]
          },
          "metadata": {
            "tags": []
          },
          "execution_count": 8
        }
      ]
    },
    {
      "cell_type": "markdown",
      "metadata": {
        "id": "w_VnGNnXfYm2",
        "colab_type": "text"
      },
      "source": [
        "## Data Abstraction, Data Encapsulation, and Information Hiding"
      ]
    },
    {
      "cell_type": "markdown",
      "metadata": {
        "id": "FNyOa3OjgFrt",
        "colab_type": "text"
      },
      "source": [
        "Encapsulation is seen as the bundling of data with the methods that operate on that data. Information hiding on the other hand is the principle that some internal information or data is \"hidden\", so that it can't be accidentally changed.  You might be capable of accessing and seeing the data anyway, but using the methods is recommended. Finally, data abstraction is present, if both data hiding and data encapsulation is used"
      ]
    },
    {
      "cell_type": "markdown",
      "metadata": {
        "id": "lIf0VRF0h083",
        "colab_type": "text"
      },
      "source": [
        "Data Abstraction = Data Encapsulation + Data Hiding"
      ]
    },
    {
      "cell_type": "markdown",
      "metadata": {
        "id": "ucMIuMvIT_Hu",
        "colab_type": "text"
      },
      "source": [
        "### Encapsulation"
      ]
    },
    {
      "cell_type": "code",
      "metadata": {
        "id": "-dqa9ro0UDKA",
        "colab_type": "code",
        "colab": {}
      },
      "source": [
        "class Employee:\n",
        "   'Common base class for all employees'\n",
        "   empCount = 0\n",
        "\n",
        "   def __init__(self, name, salary):\n",
        "      print(\"creating object with %s and %s\"%(name, salary))\n",
        "      self.name = name\n",
        "      self.salary = salary\n",
        "      Employee.empCount += 1\n",
        "   \n",
        "   def displayCount(self):\n",
        "     print(\"Total Employee %d\" % Employee.empCount)\n",
        "\n",
        "   def displayEmployee(self):\n",
        "      print(\"Name : \", self.name,  \", Salary: \", self.salary)\n",
        "  \n",
        "   def __del__(self):\n",
        "      print(\"object %s will be deleted \"%(self))\n",
        "      Employee.empCount=Employee.empCount-1\n",
        "      print(\"Total emp is %s\"%(Employee.empCount))\n",
        "\n",
        "   def __str__(self):\n",
        "     return \"Name : \"+self.name +\", \"+ str(self.salary)+\" \"\n",
        "\n",
        "   def __repr__(self):\n",
        "     return \"Emplpyee('\"+self.name +\"', \"+ str(self.salary)+\" )\""
      ],
      "execution_count": 9,
      "outputs": []
    },
    {
      "cell_type": "code",
      "metadata": {
        "id": "u8F9J8ciUZtj",
        "colab_type": "code",
        "colab": {
          "base_uri": "https://localhost:8080/",
          "height": 70
        },
        "outputId": "b7fac58d-5cd6-4548-ac15-0f36f6ea00ed"
      },
      "source": [
        "emp1 = Employee(\"Ram\", 10000)\n",
        "print(dir(emp1))"
      ],
      "execution_count": 10,
      "outputs": [
        {
          "output_type": "stream",
          "text": [
            "creating object with Ram and 10000\n",
            "['__class__', '__del__', '__delattr__', '__dict__', '__dir__', '__doc__', '__eq__', '__format__', '__ge__', '__getattribute__', '__gt__', '__hash__', '__init__', '__init_subclass__', '__le__', '__lt__', '__module__', '__ne__', '__new__', '__reduce__', '__reduce_ex__', '__repr__', '__setattr__', '__sizeof__', '__str__', '__subclasshook__', '__weakref__', 'displayCount', 'displayEmployee', 'empCount', 'name', 'salary']\n"
          ],
          "name": "stdout"
        }
      ]
    },
    {
      "cell_type": "code",
      "metadata": {
        "id": "gRM12_m6UtVl",
        "colab_type": "code",
        "colab": {
          "base_uri": "https://localhost:8080/",
          "height": 50
        },
        "outputId": "9e544565-e05d-44ca-c79a-adb84b0029c8"
      },
      "source": [
        "print(emp1.name)\n",
        "emp1.displayEmployee()"
      ],
      "execution_count": 11,
      "outputs": [
        {
          "output_type": "stream",
          "text": [
            "Ram\n",
            "Name :  Ram , Salary:  10000\n"
          ],
          "name": "stdout"
        }
      ]
    },
    {
      "cell_type": "markdown",
      "metadata": {
        "id": "d3yXb9RpVCVK",
        "colab_type": "text"
      },
      "source": [
        "### Data Hiding"
      ]
    },
    {
      "cell_type": "markdown",
      "metadata": {
        "id": "aQKXjlBYe-JT",
        "colab_type": "text"
      },
      "source": [
        "To define data hiding we have classified attributes in 3 types. Python uses a special naming scheme for attributes to control the accessibility of the attributes\n",
        "\n",
        "*   Public Attributes - These attributes can be freely used inside or outside a class definition\n",
        "      egs: name\n",
        "\n",
        "*   Protected (restricted) Attributes - Protected attributes should not be used outside the class definition, unless inside a subclass definition\n",
        "      egs: _name\n",
        "*   Private attributes - This kind of attribute is inaccessible and invisible. It's neither possible to read nor write to those attributes, except inside the class definition itself\n",
        "      egs: __name\n",
        "\n",
        "\n",
        "\n"
      ]
    },
    {
      "cell_type": "code",
      "metadata": {
        "id": "7USH-WZfoFyj",
        "colab_type": "code",
        "colab": {}
      },
      "source": [
        "# defining a class Employee\n",
        "class Employee:\n",
        "    # constructor\n",
        "    def __init__(self, name, work, password):\n",
        "        self.name = name;\n",
        "        self._work = work;\n",
        "        self.__password = password\n",
        "\n",
        "    def show_password(self):\n",
        "      print(\"password : %s\"%(self.__password))"
      ],
      "execution_count": 13,
      "outputs": []
    },
    {
      "cell_type": "code",
      "metadata": {
        "id": "SXkhTM5Io5lj",
        "colab_type": "code",
        "colab": {
          "base_uri": "https://localhost:8080/",
          "height": 262
        },
        "outputId": "6646bd4b-5406-4d71-f27d-ddf2837914c3"
      },
      "source": [
        "emp = Employee('Sam', 'Software Engineer', \"Xyz#\")\n",
        "print(emp.name)\n",
        "print(emp._work)\n",
        "print(emp.show_password())\n",
        "print(emp.__password)"
      ],
      "execution_count": 14,
      "outputs": [
        {
          "output_type": "stream",
          "text": [
            "Sam\n",
            "Software Engineer\n",
            "password : Xyz#\n",
            "None\n"
          ],
          "name": "stdout"
        },
        {
          "output_type": "error",
          "ename": "AttributeError",
          "evalue": "ignored",
          "traceback": [
            "\u001b[0;31m---------------------------------------------------------------------------\u001b[0m",
            "\u001b[0;31mAttributeError\u001b[0m                            Traceback (most recent call last)",
            "\u001b[0;32m<ipython-input-14-ff1bd4de59aa>\u001b[0m in \u001b[0;36m<module>\u001b[0;34m()\u001b[0m\n\u001b[1;32m      3\u001b[0m \u001b[0mprint\u001b[0m\u001b[0;34m(\u001b[0m\u001b[0memp\u001b[0m\u001b[0;34m.\u001b[0m\u001b[0m_work\u001b[0m\u001b[0;34m)\u001b[0m\u001b[0;34m\u001b[0m\u001b[0;34m\u001b[0m\u001b[0m\n\u001b[1;32m      4\u001b[0m \u001b[0mprint\u001b[0m\u001b[0;34m(\u001b[0m\u001b[0memp\u001b[0m\u001b[0;34m.\u001b[0m\u001b[0mshow_password\u001b[0m\u001b[0;34m(\u001b[0m\u001b[0;34m)\u001b[0m\u001b[0;34m)\u001b[0m\u001b[0;34m\u001b[0m\u001b[0;34m\u001b[0m\u001b[0m\n\u001b[0;32m----> 5\u001b[0;31m \u001b[0mprint\u001b[0m\u001b[0;34m(\u001b[0m\u001b[0memp\u001b[0m\u001b[0;34m.\u001b[0m\u001b[0m__password\u001b[0m\u001b[0;34m)\u001b[0m\u001b[0;34m\u001b[0m\u001b[0;34m\u001b[0m\u001b[0m\n\u001b[0m",
            "\u001b[0;31mAttributeError\u001b[0m: 'Employee' object has no attribute '__password'"
          ]
        }
      ]
    },
    {
      "cell_type": "code",
      "metadata": {
        "id": "uYWIlGepp_Xv",
        "colab_type": "code",
        "colab": {
          "base_uri": "https://localhost:8080/",
          "height": 521
        },
        "outputId": "54c34333-a590-412d-d273-b6a86f131255"
      },
      "source": [
        "dir(emp)"
      ],
      "execution_count": 15,
      "outputs": [
        {
          "output_type": "execute_result",
          "data": {
            "text/plain": [
              "['_Employee__password',\n",
              " '__class__',\n",
              " '__delattr__',\n",
              " '__dict__',\n",
              " '__dir__',\n",
              " '__doc__',\n",
              " '__eq__',\n",
              " '__format__',\n",
              " '__ge__',\n",
              " '__getattribute__',\n",
              " '__gt__',\n",
              " '__hash__',\n",
              " '__init__',\n",
              " '__init_subclass__',\n",
              " '__le__',\n",
              " '__lt__',\n",
              " '__module__',\n",
              " '__ne__',\n",
              " '__new__',\n",
              " '__reduce__',\n",
              " '__reduce_ex__',\n",
              " '__repr__',\n",
              " '__setattr__',\n",
              " '__sizeof__',\n",
              " '__str__',\n",
              " '__subclasshook__',\n",
              " '__weakref__',\n",
              " '_work',\n",
              " 'name',\n",
              " 'show_password']"
            ]
          },
          "metadata": {
            "tags": []
          },
          "execution_count": 15
        }
      ]
    },
    {
      "cell_type": "code",
      "metadata": {
        "id": "X0XciLvIqN8I",
        "colab_type": "code",
        "colab": {
          "base_uri": "https://localhost:8080/",
          "height": 35
        },
        "outputId": "8937a558-d25a-46ca-a77e-00ba6e5f80ff"
      },
      "source": [
        "emp._Employee__password"
      ],
      "execution_count": 16,
      "outputs": [
        {
          "output_type": "execute_result",
          "data": {
            "application/vnd.google.colaboratory.intrinsic": {
              "type": "string"
            },
            "text/plain": [
              "'Xyz#'"
            ]
          },
          "metadata": {
            "tags": []
          },
          "execution_count": 16
        }
      ]
    },
    {
      "cell_type": "markdown",
      "metadata": {
        "id": "cJPgChiNJNDH",
        "colab_type": "text"
      },
      "source": [
        "We will provide getter and setter method to every private attributes. So that we can avoid direct access to private attributes outside the class."
      ]
    },
    {
      "cell_type": "code",
      "metadata": {
        "id": "PSCVUxT9KVqS",
        "colab_type": "code",
        "colab": {}
      },
      "source": [
        "class Employee():\n",
        "  def __init__(self, username, password):\n",
        "    self.username = username\n",
        "    self.__password = password\n",
        "\n",
        "  def setPassword(self, password):  # setter method\n",
        "    self.__password = password\n",
        "\n",
        "  def getPassword(self):            # getter method\n",
        "    return self.__password"
      ],
      "execution_count": 19,
      "outputs": []
    },
    {
      "cell_type": "code",
      "metadata": {
        "id": "6n70TzJ7LTFy",
        "colab_type": "code",
        "colab": {
          "base_uri": "https://localhost:8080/",
          "height": 50
        },
        "outputId": "e6fc9dc1-81ff-4255-b98c-b5c7c744df1e"
      },
      "source": [
        "emp1 = Employee(\"Jon\", \"Xyz#\")\n",
        "print(emp1.getPassword())\n",
        "emp1.setPassword(\"Abc@EB\")\n",
        "print(emp1.getPassword())"
      ],
      "execution_count": 20,
      "outputs": [
        {
          "output_type": "stream",
          "text": [
            "Xyz#\n",
            "Abc@EB\n"
          ],
          "name": "stdout"
        }
      ]
    },
    {
      "cell_type": "markdown",
      "metadata": {
        "id": "sYXbVpLASrc3",
        "colab_type": "text"
      },
      "source": [
        "## Inheritance"
      ]
    },
    {
      "cell_type": "markdown",
      "metadata": {
        "id": "lI-drjs8OzPJ",
        "colab_type": "text"
      },
      "source": [
        "Inheritance allows programmers to create classes that are built upon existing classes, and this enables a class created through inheritance to inherit the attributes and methods of the parent class. This means that inheritance supports code reusability. The methods or generally speaking the software inherited by a subclass is considered to be reused in the subclass. The relationships of objects or classes through inheritance give rise to a directed graph.\n",
        "\n",
        "While programming, many a times, situations arise where we have to write a few classes with some common features and some unique, class-specific features, which include both variables and methods.\n",
        "\n",
        "In such situations, as per object oriented programming, we can take out the common part and put it in a separate class, and make all the other classes inherit this class, to use its methods and variables, hence reducing re-writing the common features in every class, again and again.\n",
        "\n",
        "The class which inherits another class is generally known as the Child class, while the class which is inherited by other classes is called as the Parent class.\n",
        "\n",
        "![alt text](https://media.geeksforgeeks.org/wp-content/uploads/20200108135809/inheritance11.png)"
      ]
    },
    {
      "cell_type": "markdown",
      "metadata": {
        "id": "y3fgEp4fQT27",
        "colab_type": "text"
      },
      "source": [
        "\n",
        "Syntax\n",
        "```\n",
        "class SubClassName (ParentClass1[, ParentClass2, ...]):\n",
        "   'Optional class documentation string'\n",
        "   class_suite\n",
        "```\n",
        "\n"
      ]
    },
    {
      "cell_type": "code",
      "metadata": {
        "id": "tyq0iR60bZ5l",
        "colab_type": "code",
        "colab": {}
      },
      "source": [
        "# example 1\n",
        "class Parent():\n",
        "       def first(self):\n",
        "           print('first function')\n",
        "\n",
        "class Child(Parent):\n",
        "       def second(self):\n",
        "          print('second function')"
      ],
      "execution_count": 21,
      "outputs": []
    },
    {
      "cell_type": "code",
      "metadata": {
        "id": "FZkhpxgYbelI",
        "colab_type": "code",
        "colab": {
          "base_uri": "https://localhost:8080/",
          "height": 50
        },
        "outputId": "2f403f92-f505-47a6-9379-ffa4c427f25d"
      },
      "source": [
        "ob = Child()\n",
        "ob.first()\n",
        "ob.second()"
      ],
      "execution_count": 22,
      "outputs": [
        {
          "output_type": "stream",
          "text": [
            "first function\n",
            "second function\n"
          ],
          "name": "stdout"
        }
      ]
    },
    {
      "cell_type": "markdown",
      "metadata": {
        "id": "ZTHZrYeagkJn",
        "colab_type": "text"
      },
      "source": [
        "example 2: let consider impelementaion for employees of company  "
      ]
    },
    {
      "cell_type": "code",
      "metadata": {
        "id": "pMsrl405g1zS",
        "colab_type": "code",
        "colab": {}
      },
      "source": [
        "class Engineer:\n",
        "  def __init__(self, id, name, role, sal):\n",
        "    self._id = id\n",
        "    self._name = name\n",
        "    self._role = role\n",
        "    self._sal = sal\n",
        "\n",
        "  def task(self):\n",
        "    print(\"I manage project tasks\")\n",
        "\n",
        "class Manager:\n",
        "  def __init__(self, id, name, role, sal):\n",
        "    self._id = id\n",
        "    self._name = name\n",
        "    self._role = role\n",
        "    self._sal = sal\n",
        "\n",
        "  def task(self):\n",
        "    print(\"I manage project and people who works for project\")\n",
        "\n",
        "class HR:\n",
        "  def __init__(self, id, name, role, sal):\n",
        "    self._id = id\n",
        "    self._name = name\n",
        "    self._role = role\n",
        "    self._sal = sal\n",
        "\n",
        "  def task(self):\n",
        "    print(\"I manage Hiring/Payrole/Policy ...\")"
      ],
      "execution_count": 24,
      "outputs": []
    },
    {
      "cell_type": "code",
      "metadata": {
        "id": "V1CydkkIh-0d",
        "colab_type": "code",
        "colab": {
          "base_uri": "https://localhost:8080/",
          "height": 34
        },
        "outputId": "cd01089e-db08-4b28-af38-358330eed1dd"
      },
      "source": [
        "e1=Engineer(101, \"Ram\", \"Senior software eng\", \"8LPA\")\n",
        "e1.task()"
      ],
      "execution_count": 25,
      "outputs": [
        {
          "output_type": "stream",
          "text": [
            "I manage project tasks\n"
          ],
          "name": "stdout"
        }
      ]
    },
    {
      "cell_type": "code",
      "metadata": {
        "id": "-FW8ivFDidzg",
        "colab_type": "code",
        "colab": {
          "base_uri": "https://localhost:8080/",
          "height": 34
        },
        "outputId": "72ad32b1-3e8e-4c87-d107-e4fb247b9313"
      },
      "source": [
        "m1=Manager(101, \"Ram\", \"Senior software eng\", \"8LPA\")\n",
        "m1.task()"
      ],
      "execution_count": 26,
      "outputs": [
        {
          "output_type": "stream",
          "text": [
            "I manage project and people who works for project\n"
          ],
          "name": "stdout"
        }
      ]
    },
    {
      "cell_type": "code",
      "metadata": {
        "id": "F8qaUVxJioqf",
        "colab_type": "code",
        "colab": {
          "base_uri": "https://localhost:8080/",
          "height": 34
        },
        "outputId": "ef67af2d-f4b7-49f8-c073-7bf581033023"
      },
      "source": [
        "hr1=HR(101, \"Ram\", \"Senior software eng\", \"8LPA\")\n",
        "hr1.task()"
      ],
      "execution_count": 27,
      "outputs": [
        {
          "output_type": "stream",
          "text": [
            "I manage Hiring/Payrole/Policy ...\n"
          ],
          "name": "stdout"
        }
      ]
    },
    {
      "cell_type": "markdown",
      "metadata": {
        "id": "7iJPA_uiivwS",
        "colab_type": "text"
      },
      "source": [
        "Lets try to put above problem using inheritance"
      ]
    },
    {
      "cell_type": "code",
      "metadata": {
        "id": "-8Jd2CLoi1uV",
        "colab_type": "code",
        "colab": {}
      },
      "source": [
        "class Employee:\n",
        "  def __init__(self, id, name, role, sal):\n",
        "    self._id = id\n",
        "    self._name = name\n",
        "    self._role = role\n",
        "    self._sal = sal\n",
        "\n",
        "  def task(self):\n",
        "    pass\n",
        "\n",
        "class Engineer(Employee):\n",
        "  def task(self):\n",
        "    print(\"I do project tasks\")\n",
        "\n",
        "class Manager(Employee):\n",
        "  def task(self):\n",
        "    print(\"I manage project and people who works for project\")\n",
        "\n",
        "class HR(Employee):\n",
        "  def task(self):\n",
        "    print(\"I manage Hiring/Payrole/Policy ...\")"
      ],
      "execution_count": 28,
      "outputs": []
    },
    {
      "cell_type": "code",
      "metadata": {
        "id": "T_46lhoekHSJ",
        "colab_type": "code",
        "colab": {
          "base_uri": "https://localhost:8080/",
          "height": 52
        },
        "outputId": "8a819886-b4e3-40e0-9ec1-35d858ac29e4"
      },
      "source": [
        "e1=Engineer(101, \"Ram\", \"Senior software eng\", \"8LPA\")\n",
        "e1.task()\n",
        "e1._name"
      ],
      "execution_count": 29,
      "outputs": [
        {
          "output_type": "stream",
          "text": [
            "I do project tasks\n"
          ],
          "name": "stdout"
        },
        {
          "output_type": "execute_result",
          "data": {
            "application/vnd.google.colaboratory.intrinsic": {
              "type": "string"
            },
            "text/plain": [
              "'Ram'"
            ]
          },
          "metadata": {
            "tags": []
          },
          "execution_count": 29
        }
      ]
    },
    {
      "cell_type": "code",
      "metadata": {
        "id": "DKI3Z4P8kNQZ",
        "colab_type": "code",
        "colab": {
          "base_uri": "https://localhost:8080/",
          "height": 34
        },
        "outputId": "0a2315dc-8901-47d9-ac00-d69e9b98b80e"
      },
      "source": [
        "m1=Manager(101, \"Ram\", \"Senior software eng\", \"8LPA\")\n",
        "m1.task()"
      ],
      "execution_count": 30,
      "outputs": [
        {
          "output_type": "stream",
          "text": [
            "I manage project and people who works for project\n"
          ],
          "name": "stdout"
        }
      ]
    },
    {
      "cell_type": "code",
      "metadata": {
        "id": "PLvRMOY6kRVb",
        "colab_type": "code",
        "colab": {
          "base_uri": "https://localhost:8080/",
          "height": 34
        },
        "outputId": "38a0ef2d-65c1-4509-ebfa-1b3ee8988e35"
      },
      "source": [
        "hr1=HR(101, \"Ram\", \"Senior software eng\", \"8LPA\")\n",
        "hr1.task()"
      ],
      "execution_count": 31,
      "outputs": [
        {
          "output_type": "stream",
          "text": [
            "I manage Hiring/Payrole/Policy ...\n"
          ],
          "name": "stdout"
        }
      ]
    },
    {
      "cell_type": "markdown",
      "metadata": {
        "id": "RtmpQTwTdLWI",
        "colab_type": "text"
      },
      "source": [
        "Benefits of Inheritance\n",
        "\n",
        "*   Code reuseability\n",
        "*   Structured Code: By dividing the code into classes, we can structure our software better by dividing functionality into classes\n",
        "\n",
        "\n"
      ]
    },
    {
      "cell_type": "markdown",
      "metadata": {
        "id": "CoBGt6wbBRHr",
        "colab_type": "text"
      },
      "source": [
        "### Method Overriding"
      ]
    },
    {
      "cell_type": "markdown",
      "metadata": {
        "id": "jcTtr2RXBUNV",
        "colab_type": "text"
      },
      "source": [
        "It is ability of child class to change the implementation of any method inherited from parent class to child class "
      ]
    },
    {
      "cell_type": "code",
      "metadata": {
        "id": "EluvUsLEB_rT",
        "colab_type": "code",
        "colab": {}
      },
      "source": [
        "class Employee:\n",
        "  def __init__(self, id, name, role, sal):\n",
        "    self._id = id\n",
        "    self._name = name\n",
        "    self._role = role\n",
        "    self._sal = sal\n",
        "\n",
        "  def task(self):\n",
        "    pass\n",
        "\n",
        "class Engineer(Employee):\n",
        "  def task(self):                  # inherited method is overriden \n",
        "    print(\"I do project tasks\")\n",
        "\n",
        "class Manager(Employee):\n",
        "  def task(self):                  # inherited method is overriden\n",
        "    print(\"I manage project and people who works for project\")"
      ],
      "execution_count": 32,
      "outputs": []
    },
    {
      "cell_type": "code",
      "metadata": {
        "id": "J72hln4UCaGS",
        "colab_type": "code",
        "colab": {
          "base_uri": "https://localhost:8080/",
          "height": 35
        },
        "outputId": "19348ff8-5ed4-4d75-a154-28f32e82cea5"
      },
      "source": [
        "e1=Engineer(101, \"Ram\", \"Senior software eng\", \"8LPA\")\n",
        "e1.task()"
      ],
      "execution_count": null,
      "outputs": [
        {
          "output_type": "stream",
          "text": [
            "I do project tasks\n"
          ],
          "name": "stdout"
        }
      ]
    },
    {
      "cell_type": "code",
      "metadata": {
        "id": "Ak3a-TwcChVd",
        "colab_type": "code",
        "colab": {
          "base_uri": "https://localhost:8080/",
          "height": 35
        },
        "outputId": "b4b27fa2-3afd-44f6-c6dd-3f80005beb56"
      },
      "source": [
        "m1=Manager(101, \"Ram\", \"Senior software eng\", \"8LPA\")\n",
        "m1.task()"
      ],
      "execution_count": null,
      "outputs": [
        {
          "output_type": "stream",
          "text": [
            "I manage project and people who works for project\n"
          ],
          "name": "stdout"
        }
      ]
    },
    {
      "cell_type": "markdown",
      "metadata": {
        "id": "2ATu3gwJHkYi",
        "colab_type": "text"
      },
      "source": [
        "### Polymorphism"
      ]
    },
    {
      "cell_type": "markdown",
      "metadata": {
        "id": "mgtrAs8QHpFN",
        "colab_type": "text"
      },
      "source": [
        "Polymorphism is concept of OOPs which means more than one form. It enables to function/method to take different inputs with differents type/class/number of inputs and generates correspnding results"
      ]
    },
    {
      "cell_type": "code",
      "metadata": {
        "id": "TzZdrqGOcBBu",
        "colab_type": "code",
        "colab": {
          "base_uri": "https://localhost:8080/",
          "height": 67
        },
        "outputId": "dafbb87f-e299-47b9-f54f-94443072706c"
      },
      "source": [
        "print(len(\"hello\"))\n",
        "print(len([1,2,3,4,5]))\n",
        "print(len({1:2,3:4,5:6}))"
      ],
      "execution_count": 34,
      "outputs": [
        {
          "output_type": "stream",
          "text": [
            "5\n",
            "5\n",
            "3\n"
          ],
          "name": "stdout"
        }
      ]
    },
    {
      "cell_type": "markdown",
      "metadata": {
        "id": "Me59fKzOcmMn",
        "colab_type": "text"
      },
      "source": [
        "#### Method Overloading"
      ]
    },
    {
      "cell_type": "markdown",
      "metadata": {
        "id": "BTg6tPFFctEL",
        "colab_type": "text"
      },
      "source": [
        "Method overloading or function overloading is a type of polymorphism in which we can define a number of methods with the same name but with a different number of parameters as well as parameters can be of different types. These methods can perform a similar or different function"
      ]
    },
    {
      "cell_type": "markdown",
      "metadata": {
        "id": "YupXymf1hYg8",
        "colab_type": "text"
      },
      "source": [
        "Imagine a situation in which we have a different class for shapes like Square, Triangle etc which serves as a resource to calculate the area of that shape"
      ]
    },
    {
      "cell_type": "code",
      "metadata": {
        "id": "kGKoc6pKhZzs",
        "colab_type": "code",
        "colab": {}
      },
      "source": [
        "class Square:\n",
        "    side = 5     \n",
        "    def calculate_area(self):\n",
        "        return self.side * self.side\n",
        "\n",
        "class Triangle:\n",
        "    base = 5\n",
        "    height = 4\n",
        "    def calculate_area(self):\n",
        "        return 0.5 * self.base * self.height\n"
      ],
      "execution_count": 36,
      "outputs": []
    },
    {
      "cell_type": "code",
      "metadata": {
        "id": "vuQ70z0dhlYD",
        "colab_type": "code",
        "colab": {
          "base_uri": "https://localhost:8080/",
          "height": 50
        },
        "outputId": "6ff8f053-fd8c-4c94-c1a5-18d5ba479f84"
      },
      "source": [
        "def find_area(obj):\n",
        "  return obj.calculate_area()\n",
        "\n",
        "sq = Square()\n",
        "tri = Triangle()\n",
        "print(find_area(sq))\n",
        "print(find_area(tri))"
      ],
      "execution_count": 38,
      "outputs": [
        {
          "output_type": "stream",
          "text": [
            "25\n",
            "10.0\n"
          ],
          "name": "stdout"
        }
      ]
    },
    {
      "cell_type": "markdown",
      "metadata": {
        "id": "wE9lDIyZ4Pek",
        "colab_type": "text"
      },
      "source": [
        "#### Operator overloading"
      ]
    },
    {
      "cell_type": "markdown",
      "metadata": {
        "id": "XbDZbDwL4Uzb",
        "colab_type": "text"
      },
      "source": [
        "The single operator can behave differently for different types of data inputs is called Operator overloading"
      ]
    },
    {
      "cell_type": "code",
      "metadata": {
        "id": "b51Bl17745oF",
        "colab_type": "code",
        "colab": {
          "base_uri": "https://localhost:8080/",
          "height": 34
        },
        "outputId": "999113bc-ad69-4ec3-a75e-cba75f47d166"
      },
      "source": [
        "1+2"
      ],
      "execution_count": 39,
      "outputs": [
        {
          "output_type": "execute_result",
          "data": {
            "text/plain": [
              "3"
            ]
          },
          "metadata": {
            "tags": []
          },
          "execution_count": 39
        }
      ]
    },
    {
      "cell_type": "code",
      "metadata": {
        "id": "Bf26ArgX48iF",
        "colab_type": "code",
        "colab": {
          "base_uri": "https://localhost:8080/",
          "height": 35
        },
        "outputId": "3201eca1-858d-4abb-d438-5c6e59cedc01"
      },
      "source": [
        "\"Hello \" + \"world\""
      ],
      "execution_count": 40,
      "outputs": [
        {
          "output_type": "execute_result",
          "data": {
            "application/vnd.google.colaboratory.intrinsic": {
              "type": "string"
            },
            "text/plain": [
              "'Hello world'"
            ]
          },
          "metadata": {
            "tags": []
          },
          "execution_count": 40
        }
      ]
    },
    {
      "cell_type": "code",
      "metadata": {
        "id": "n0rclJ9s5B95",
        "colab_type": "code",
        "colab": {
          "base_uri": "https://localhost:8080/",
          "height": 34
        },
        "outputId": "74542b68-ffb5-420d-a5fd-b96f28ac3de6"
      },
      "source": [
        "[1,2,3,4,5] + [6,7,8,9]"
      ],
      "execution_count": 42,
      "outputs": [
        {
          "output_type": "execute_result",
          "data": {
            "text/plain": [
              "[1, 2, 3, 4, 5, 6, 7, 8, 9]"
            ]
          },
          "metadata": {
            "tags": []
          },
          "execution_count": 42
        }
      ]
    },
    {
      "cell_type": "code",
      "metadata": {
        "id": "LlHVTb3r8tTR",
        "colab_type": "code",
        "colab": {
          "base_uri": "https://localhost:8080/",
          "height": 34
        },
        "outputId": "c5676e88-c965-4e21-e258-1ec7e0eb2c52"
      },
      "source": [
        "class Complex:\n",
        "    def __init__(self, r, i):\n",
        "        self.real = r\n",
        "        self.img = i\n",
        "\n",
        "c1 = Complex(5,3)\n",
        "c2 = Complex(2,4)\n",
        "c1,c2"
      ],
      "execution_count": 43,
      "outputs": [
        {
          "output_type": "execute_result",
          "data": {
            "text/plain": [
              "(<__main__.Complex at 0x7f1c360a76d8>, <__main__.Complex at 0x7f1c360a7f98>)"
            ]
          },
          "metadata": {
            "tags": []
          },
          "execution_count": 43
        }
      ]
    },
    {
      "cell_type": "code",
      "metadata": {
        "id": "-g3tud5D86b8",
        "colab_type": "code",
        "colab": {
          "base_uri": "https://localhost:8080/",
          "height": 162
        },
        "outputId": "bf693460-7147-42a8-d84b-6cb142c47060"
      },
      "source": [
        "print(\"sum = \", c1+c2)"
      ],
      "execution_count": 44,
      "outputs": [
        {
          "output_type": "error",
          "ename": "TypeError",
          "evalue": "ignored",
          "traceback": [
            "\u001b[0;31m---------------------------------------------------------------------------\u001b[0m",
            "\u001b[0;31mTypeError\u001b[0m                                 Traceback (most recent call last)",
            "\u001b[0;32m<ipython-input-44-b2b0d41c42df>\u001b[0m in \u001b[0;36m<module>\u001b[0;34m()\u001b[0m\n\u001b[0;32m----> 1\u001b[0;31m \u001b[0mprint\u001b[0m\u001b[0;34m(\u001b[0m\u001b[0;34m\"sum = \"\u001b[0m\u001b[0;34m,\u001b[0m \u001b[0mc1\u001b[0m\u001b[0;34m+\u001b[0m\u001b[0mc2\u001b[0m\u001b[0;34m)\u001b[0m\u001b[0;34m\u001b[0m\u001b[0;34m\u001b[0m\u001b[0m\n\u001b[0m",
            "\u001b[0;31mTypeError\u001b[0m: unsupported operand type(s) for +: 'Complex' and 'Complex'"
          ]
        }
      ]
    },
    {
      "cell_type": "markdown",
      "metadata": {
        "id": "ZqVmVJl49THn",
        "colab_type": "text"
      },
      "source": [
        "Some special functions used for overloading the operators are shown below:\n",
        "\n",
        "*   Addition    (+) ->  \\_\\_add\\_\\_(self, other)\n",
        "*   Subtraction (-) ->  \\_\\_sub\\_\\_(self, other)\n",
        "*   Division    (/) ->  \\_\\_div\\_\\_(self, other)\n",
        "*   Modulus(or Remainder) % -> \\_\\_mod\\_\\_(self, other)\n"
      ]
    },
    {
      "cell_type": "code",
      "metadata": {
        "id": "vPtUEZTF-Xc4",
        "colab_type": "code",
        "colab": {}
      },
      "source": [
        "class Complex:\n",
        "    # defining init method for class\n",
        "    def __init__(self, r, i):\n",
        "        self.real = r\n",
        "        self.img = i\n",
        "\n",
        "    # overloading the add operator using special function\n",
        "    def __add__(self, sec):\n",
        "        r = self.real + sec.real\n",
        "        i = self.img + sec.img\n",
        "        return complex(r,i)\n",
        "\n",
        "    # string function to print object of Complex class\n",
        "    def __str__(self):\n",
        "        return str(self.real)+' + '+str(self.img)+'i'\n",
        "    \n",
        "    def __repr__(self):\n",
        "        return str(self.real)+' + '+str(self.img)+'i'"
      ],
      "execution_count": 47,
      "outputs": []
    },
    {
      "cell_type": "code",
      "metadata": {
        "id": "1WvLUjtq-cU3",
        "colab_type": "code",
        "colab": {}
      },
      "source": [
        "c1 = Complex(5,3)\n",
        "c2 = Complex(2,4)"
      ],
      "execution_count": 48,
      "outputs": []
    },
    {
      "cell_type": "code",
      "metadata": {
        "id": "Jl7hZ85E-ecw",
        "colab_type": "code",
        "colab": {
          "base_uri": "https://localhost:8080/",
          "height": 34
        },
        "outputId": "75e9313d-ddfe-495b-db62-3f0f1ae82a19"
      },
      "source": [
        "c1"
      ],
      "execution_count": 49,
      "outputs": [
        {
          "output_type": "execute_result",
          "data": {
            "text/plain": [
              "5 + 3i"
            ]
          },
          "metadata": {
            "tags": []
          },
          "execution_count": 49
        }
      ]
    },
    {
      "cell_type": "code",
      "metadata": {
        "id": "eIijXfxJ-03z",
        "colab_type": "code",
        "colab": {
          "base_uri": "https://localhost:8080/",
          "height": 35
        },
        "outputId": "9e142fc3-acdd-472a-abf6-09b7642e4c7f"
      },
      "source": [
        "c2"
      ],
      "execution_count": null,
      "outputs": [
        {
          "output_type": "execute_result",
          "data": {
            "text/plain": [
              "2 + 4i"
            ]
          },
          "metadata": {
            "tags": []
          },
          "execution_count": 78
        }
      ]
    },
    {
      "cell_type": "code",
      "metadata": {
        "id": "LIZd55W0-2XI",
        "colab_type": "code",
        "colab": {
          "base_uri": "https://localhost:8080/",
          "height": 34
        },
        "outputId": "cac28845-acf8-4937-ee52-0dcc2922b8d4"
      },
      "source": [
        "print(\"sum = \",c1+c2)"
      ],
      "execution_count": 50,
      "outputs": [
        {
          "output_type": "stream",
          "text": [
            "sum =  (7+7j)\n"
          ],
          "name": "stdout"
        }
      ]
    },
    {
      "cell_type": "markdown",
      "metadata": {
        "id": "xIVehI4sRAue",
        "colab_type": "text"
      },
      "source": [
        "### Multiple inheritance\n"
      ]
    },
    {
      "cell_type": "markdown",
      "metadata": {
        "id": "PGqZjG2MRLlt",
        "colab_type": "text"
      },
      "source": [
        "When a class can be derived from more than one base classes this type of inheritance is called multiple inheritance. In multiple inheritance, all the features of the base classes are inherited into the derived class\n",
        "\n",
        "![alt text](https://media.geeksforgeeks.org/wp-content/uploads/20200108144424/multiple-inheritance1.png)"
      ]
    },
    {
      "cell_type": "code",
      "metadata": {
        "id": "MEsEifVCYN08",
        "colab_type": "code",
        "colab": {}
      },
      "source": [
        "class Employee:\n",
        "  def __init__(self, name, role, salary):\n",
        "    self.name = name\n",
        "    self.role = role\n",
        "    self.salary = salary\n",
        "  \n",
        "  def getEmpDetails(self):\n",
        "      return self.name, self.role, self.salary\n",
        "  \n",
        "  def setRole(self, role):\n",
        "      self.role=role\n",
        "  \n",
        "  def getRole(self):\n",
        "      return self.role\n",
        "\n",
        "class ProjectEngineer:\n",
        "  def __init__(self, projectRole, superviser, projectResources):\n",
        "      self.projectRole = projectRole\n",
        "      self.superviser = superviser\n",
        "      self.projectResources = projectResources\n",
        "\n",
        "  def getProjectRole(self):\n",
        "      return self.projectRole\n",
        "\n",
        "  def setProjectRole(self, role):\n",
        "      self.projectRole = role\n",
        "  \n",
        "class Engineer(Employee, ProjectEngineer):\n",
        "  def __init__(self, name, role, salary,  projectRole, superviser, projectResources):\n",
        "      Employee.__init__(self, name, role, salary)\n",
        "      ProjectEngineer.__init__(self, projectRole, superviser, projectResources)\n"
      ],
      "execution_count": null,
      "outputs": []
    },
    {
      "cell_type": "code",
      "metadata": {
        "id": "Q-WXFHFvYZiY",
        "colab_type": "code",
        "colab": {
          "base_uri": "https://localhost:8080/",
          "height": 87
        },
        "outputId": "c95243ba-1acb-4d1a-e98b-2075919725ac"
      },
      "source": [
        "e1=Engineer(\"Jon\", \"Senior Engineer\", 700000, \"build engineer\", \"Sam\", \"build infrastructure\" )\n",
        "print(e1.getEmpDetails())\n",
        "e1.setRole(\"Module lead\")\n",
        "print(e1.getRole())\n",
        "print(e1.getProjectRole())\n",
        "e1.setProjectRole(\"Build lead\")\n",
        "print(e1.getProjectRole())\n"
      ],
      "execution_count": null,
      "outputs": [
        {
          "output_type": "stream",
          "text": [
            "('Jon', 'Senior Engineer', 700000)\n",
            "Module lead\n",
            "build engineer\n",
            "Build lead\n"
          ],
          "name": "stdout"
        }
      ]
    },
    {
      "cell_type": "markdown",
      "metadata": {
        "id": "21oMrzlxuIuE",
        "colab_type": "text"
      },
      "source": [
        "### Multilevel Inheritance"
      ]
    },
    {
      "cell_type": "markdown",
      "metadata": {
        "id": "RXldHPw9uN8u",
        "colab_type": "text"
      },
      "source": [
        "In multilevel inheritance, we inherit the classes at multiple separate levels.\n",
        " We have three classes A, B and C, where A is the super class, B is its sub(child) class and C is the sub class of B.\n",
        " \n",
        "![alt text](https://media.geeksforgeeks.org/wp-content/uploads/20200108144705/Multilevel-inheritance1.png)"
      ]
    },
    {
      "cell_type": "code",
      "metadata": {
        "id": "exDJMNTS89iu",
        "colab_type": "code",
        "colab": {}
      },
      "source": [
        "# egs\n",
        "class QuadriLateral:\n",
        "    def __init__(self, a, b, c, d):\n",
        "        self.side1=a\n",
        "        self.side2=b\n",
        "        self.side3=c\n",
        "        self.side4=d\n",
        "\n",
        "    def perimeter(self):\n",
        "        p=self.side1 + self.side2 + self.side3 + self.side4\n",
        "        print(\"perimeter=\",p)\n",
        "\n",
        "class rectangle(QuadriLateral):\n",
        "    def __init__(self, a,b):\n",
        "        super().__init__(a, b, a, b)\n",
        "\n",
        "    def area(self):\n",
        "        a = self.side1 * self.side2\n",
        "        print(\"area of rectangle=\", a)\n",
        "\n",
        "class square(rectangle):\n",
        "    def __init__(self, a):\n",
        "        super().__init__(a, a)\n",
        "    def area(self):\n",
        "        a=pow(self.side1, 2)\n",
        "        print('Area of Square: ', a)"
      ],
      "execution_count": 51,
      "outputs": []
    },
    {
      "cell_type": "code",
      "metadata": {
        "id": "58keK5o_9h25",
        "colab_type": "code",
        "colab": {
          "base_uri": "https://localhost:8080/",
          "height": 50
        },
        "outputId": "829f7614-ff4b-4844-eaaf-352b1b1f0afd"
      },
      "source": [
        "r=rectangle(10, 20)\n",
        "r.perimeter()\n",
        "r.area()"
      ],
      "execution_count": 52,
      "outputs": [
        {
          "output_type": "stream",
          "text": [
            "perimeter= 60\n",
            "area of rectangle= 200\n"
          ],
          "name": "stdout"
        }
      ]
    },
    {
      "cell_type": "code",
      "metadata": {
        "id": "6g9iuawa96vi",
        "colab_type": "code",
        "colab": {
          "base_uri": "https://localhost:8080/",
          "height": 34
        },
        "outputId": "50069f34-2a60-42c9-af3d-99016a069770"
      },
      "source": [
        "s=square(20)\n",
        "s.area()"
      ],
      "execution_count": 53,
      "outputs": [
        {
          "output_type": "stream",
          "text": [
            "Area of Square:  400\n"
          ],
          "name": "stdout"
        }
      ]
    },
    {
      "cell_type": "markdown",
      "metadata": {
        "id": "0BXjGa4w_BLl",
        "colab_type": "text"
      },
      "source": [
        "### Hybrid Inheritance"
      ]
    },
    {
      "cell_type": "markdown",
      "metadata": {
        "id": "PAbC7fdR_FTj",
        "colab_type": "text"
      },
      "source": [
        "When we combine both feature of multi-level and multiple inheritance we can call it as hybrid inheritance.\n",
        "![alt text](https://media.geeksforgeeks.org/wp-content/uploads/20200108145243/Hybrid-inheritance1.png)"
      ]
    },
    {
      "cell_type": "code",
      "metadata": {
        "id": "1ZQYXRLg_vHN",
        "colab_type": "code",
        "colab": {
          "base_uri": "https://localhost:8080/",
          "height": 84
        },
        "outputId": "c7cbbda5-fdab-4638-b78a-8ae711032c29"
      },
      "source": [
        "class Parent:\n",
        "    def func1(self):\n",
        "        print(\"this is function one\")\n",
        " \n",
        "class Child1(Parent):\n",
        "    def func2(self):\n",
        "        print(\"this is function 2\")\n",
        " \n",
        "class Child2(Parent):\n",
        "    def func3(self):\n",
        "        print(\" this is function 3\")\n",
        " \n",
        "class Child3(Child1, Child2):\n",
        "    def func4(self):\n",
        "        print(\" this is function 4\")\n",
        "\n",
        "ob = Child3()\n",
        "ob.func1()\n",
        "ob.func2()\n",
        "ob.func3()\n",
        "ob.func4()"
      ],
      "execution_count": 54,
      "outputs": [
        {
          "output_type": "stream",
          "text": [
            "this is function one\n",
            "this is function 2\n",
            " this is function 3\n",
            " this is function 4\n"
          ],
          "name": "stdout"
        }
      ]
    },
    {
      "cell_type": "markdown",
      "metadata": {
        "id": "0tyfKm7fCbqa",
        "colab_type": "text"
      },
      "source": [
        "### Resolving the Conflicts with python inheritance"
      ]
    },
    {
      "cell_type": "markdown",
      "metadata": {
        "id": "R2R8kVOeCi5M",
        "colab_type": "text"
      },
      "source": [
        "Let’s have a look at example."
      ]
    },
    {
      "cell_type": "code",
      "metadata": {
        "id": "ay9EoD2WCrXf",
        "colab_type": "code",
        "colab": {
          "base_uri": "https://localhost:8080/",
          "height": 34
        },
        "outputId": "e9fca21e-b3fc-4966-c7b9-871b335799d1"
      },
      "source": [
        "class A:  \n",
        "    def __init__(self):  \n",
        "        self.name = 'John'  \n",
        "        self.age = 23  \n",
        "\n",
        "    def getName(self):  \n",
        "        return self.name  \n",
        "  \n",
        "class B:  \n",
        "    def __init__(self):  \n",
        "        self.name = 'Richard'  \n",
        "        self.id = '32'  \n",
        "  \n",
        "    def getName(self):  \n",
        "        return self.name  \n",
        "  \n",
        "  \n",
        "class C(A, B):  \n",
        "    pass\n",
        "  \n",
        "C1 = C()  \n",
        "print(C1.getName())  "
      ],
      "execution_count": 55,
      "outputs": [
        {
          "output_type": "stream",
          "text": [
            "John\n"
          ],
          "name": "stdout"
        }
      ]
    },
    {
      "cell_type": "code",
      "metadata": {
        "id": "V94DUnGBCzqk",
        "colab_type": "code",
        "colab": {
          "base_uri": "https://localhost:8080/",
          "height": 34
        },
        "outputId": "a05fd800-320e-464f-9f6c-3d0b9e5d49ab"
      },
      "source": [
        "class C(A, B):  \n",
        "    def __init__(self):  \n",
        "        A.__init__(self)  \n",
        "        B.__init__(self)  \n",
        "  \n",
        "    def getName(self):  \n",
        "        return self.name  \n",
        "  \n",
        "C1 = C()  \n",
        "print(C1.getName()) "
      ],
      "execution_count": 57,
      "outputs": [
        {
          "output_type": "stream",
          "text": [
            "Richard\n"
          ],
          "name": "stdout"
        }
      ]
    },
    {
      "cell_type": "markdown",
      "metadata": {
        "id": "2289_6dpDADT",
        "colab_type": "text"
      },
      "source": [
        "Class C inherits both A and B. And both of them has an attribute ‘name’. From which class the value of name will be inherited in C?\n",
        "\n",
        "The name when printed is ‘Richard’ instead of ‘John’. Let’s try to understand what’s happening here. In the constructor of C, the first constructor called is the one of A. So, the value of name in C becomes same as the value of name in A. But after that, when the constructor of B is called, the value of name in C is overwritten by the value of name in B. So, the name attribute of C retains the value ‘Richard’ when printed\n",
        "\n",
        "The hierarchy becomes completely depended on the order of init() calls inside the subclass. To deal with it perfectly, there is a protocol named MRO (Method Resolution Order)."
      ]
    },
    {
      "cell_type": "markdown",
      "metadata": {
        "id": "9vgxLiaPDM3q",
        "colab_type": "text"
      },
      "source": [
        "###### Method Resolution Order (MRO)"
      ]
    },
    {
      "cell_type": "markdown",
      "metadata": {
        "id": "oQ1p3Ao4DUPT",
        "colab_type": "text"
      },
      "source": [
        "Let’s replace the previous code with a slightly modified version."
      ]
    },
    {
      "cell_type": "code",
      "metadata": {
        "id": "O3za7njmDZmO",
        "colab_type": "code",
        "colab": {
          "base_uri": "https://localhost:8080/",
          "height": 34
        },
        "outputId": "aabc3771-18b1-46e4-8205-fd27d5865c23"
      },
      "source": [
        "class A:  \n",
        "    def __init__(self):  \n",
        "        self.name = 'John'  \n",
        "        self.age = 23  \n",
        "  \n",
        "    def getName(self):  \n",
        "        return self.name  \n",
        "  \n",
        "  \n",
        "class B:  \n",
        "    def __init__(self):  \n",
        "        self.name = 'Richard'  \n",
        "        self.id = '32'  \n",
        "  \n",
        "    def getName(self):  \n",
        "        return self.name  \n",
        "  \n",
        "  \n",
        "class C(A, B): \n",
        "    pass\n",
        "\n",
        "  \n",
        "C1 = C()  \n",
        "print(C1.getName())  "
      ],
      "execution_count": 59,
      "outputs": [
        {
          "output_type": "stream",
          "text": [
            "John\n"
          ],
          "name": "stdout"
        }
      ]
    },
    {
      "cell_type": "code",
      "metadata": {
        "id": "ukv1jDaADirb",
        "colab_type": "code",
        "colab": {
          "base_uri": "https://localhost:8080/",
          "height": 34
        },
        "outputId": "0ebdf1c9-55c5-45a9-a400-fe92ecedf546"
      },
      "source": [
        "C.__mro__"
      ],
      "execution_count": 60,
      "outputs": [
        {
          "output_type": "execute_result",
          "data": {
            "text/plain": [
              "(__main__.C, __main__.A, __main__.B, object)"
            ]
          },
          "metadata": {
            "tags": []
          },
          "execution_count": 60
        }
      ]
    },
    {
      "cell_type": "markdown",
      "metadata": {
        "id": "nvNRp9bRDvjL",
        "colab_type": "text"
      },
      "source": [
        "MRO works in a depth first left to right way. So the order in which constructors are called here is: C -> A -> B"
      ]
    },
    {
      "cell_type": "markdown",
      "metadata": {
        "id": "O2p8hXFMD0lL",
        "colab_type": "text"
      },
      "source": [
        "Once the constructor of A is called and attribute ‘name’ is accessed, it doesn’t access the attribute ‘name’ in B. A better understanding of MRO is a must in order to work with python multiple inheritance.\n",
        "\n"
      ]
    },
    {
      "cell_type": "code",
      "metadata": {
        "id": "b1i86hegD-ue",
        "colab_type": "code",
        "colab": {
          "base_uri": "https://localhost:8080/",
          "height": 101
        },
        "outputId": "a1187805-a233-4f30-80e7-1fc084db0525"
      },
      "source": [
        "# problem 2\n",
        "\n",
        "class A:\n",
        "    def m(self):\n",
        "        print(\"m of A called\")\n",
        "\n",
        "class B(A):\n",
        "    def m(self):\n",
        "        print(\"m of B called\")\n",
        "        A.m(self)\n",
        "    \n",
        "class C(A):\n",
        "    def m(self):\n",
        "        print(\"m of C called\")\n",
        "        A.m(self)\n",
        "\n",
        "class D(B,C):\n",
        "    def m(self):\n",
        "        print(\"m of D called\")\n",
        "        B.m(self)\n",
        "        C.m(self)\n",
        "\n",
        "x = D()\n",
        "x.m()"
      ],
      "execution_count": 61,
      "outputs": [
        {
          "output_type": "stream",
          "text": [
            "m of D called\n",
            "m of B called\n",
            "m of A called\n",
            "m of C called\n",
            "m of A called\n"
          ],
          "name": "stdout"
        }
      ]
    },
    {
      "cell_type": "markdown",
      "metadata": {
        "id": "NKsF7c2CELaL",
        "colab_type": "text"
      },
      "source": [
        "There is bug that the method m of A will be called twice. The optimal way to solve the problem, which is the \"super\" pythonic way, would be calling the super function"
      ]
    },
    {
      "cell_type": "code",
      "metadata": {
        "id": "EnFal6ZJEVxd",
        "colab_type": "code",
        "colab": {
          "base_uri": "https://localhost:8080/",
          "height": 84
        },
        "outputId": "06031342-0a80-4d04-86aa-6221c433b6ff"
      },
      "source": [
        "class A:\n",
        "    def m(self):\n",
        "        print(\"m of A called\")\n",
        "\n",
        "class B(A):\n",
        "    def m(self):\n",
        "        print(\"m of B called\")\n",
        "        super().m()\n",
        "    \n",
        "class C(A):\n",
        "    def m(self):\n",
        "        print(\"m of C called\")\n",
        "        super().m()\n",
        "\n",
        "class D(B,C):\n",
        "    def m(self):\n",
        "        print(\"m of D called\")\n",
        "        super().m()\n",
        "x = D()\n",
        "x.m()"
      ],
      "execution_count": 62,
      "outputs": [
        {
          "output_type": "stream",
          "text": [
            "m of D called\n",
            "m of B called\n",
            "m of C called\n",
            "m of A called\n"
          ],
          "name": "stdout"
        }
      ]
    },
    {
      "cell_type": "code",
      "metadata": {
        "id": "kpas2fGWEfrL",
        "colab_type": "code",
        "colab": {
          "base_uri": "https://localhost:8080/",
          "height": 35
        },
        "outputId": "fe72f9bf-fb66-49fa-ef5a-b00bd2427bc8"
      },
      "source": [
        "D.__mro__"
      ],
      "execution_count": null,
      "outputs": [
        {
          "output_type": "execute_result",
          "data": {
            "text/plain": [
              "(__main__.D, __main__.B, __main__.C, __main__.A, object)"
            ]
          },
          "metadata": {
            "tags": []
          },
          "execution_count": 43
        }
      ]
    },
    {
      "cell_type": "markdown",
      "metadata": {
        "id": "4snQbzySEnfy",
        "colab_type": "text"
      },
      "source": [
        "The question arises about how the super functions makes decisions. How does it decide which class has to be used? As we have already mentioned, it uses the so-called method resolution order(MRO)"
      ]
    }
  ]
}