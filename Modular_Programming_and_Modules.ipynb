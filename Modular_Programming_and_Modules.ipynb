{
  "nbformat": 4,
  "nbformat_minor": 0,
  "metadata": {
    "colab": {
      "name": "Modular_Programming_and_Modules.ipynb",
      "provenance": [],
      "collapsed_sections": [],
      "toc_visible": true,
      "mount_file_id": "1H5n9o5X9WbeZs_50cGr345wLTW_fsX9C",
      "authorship_tag": "ABX9TyNfxIcrz5Dk9hhljl4la7xr",
      "include_colab_link": true
    },
    "kernelspec": {
      "name": "python3",
      "display_name": "Python 3"
    }
  },
  "cells": [
    {
      "cell_type": "markdown",
      "metadata": {
        "id": "view-in-github",
        "colab_type": "text"
      },
      "source": [
        "<a href=\"https://colab.research.google.com/github/Prathapnagaraj/training2020/blob/master/Modular_Programming_and_Modules.ipynb\" target=\"_parent\"><img src=\"https://colab.research.google.com/assets/colab-badge.svg\" alt=\"Open In Colab\"/></a>"
      ]
    },
    {
      "cell_type": "markdown",
      "metadata": {
        "id": "vJBfYq_40FRi",
        "colab_type": "text"
      },
      "source": [
        "# Modular Programming"
      ]
    },
    {
      "cell_type": "markdown",
      "metadata": {
        "id": "D_KOPodrV6W_",
        "colab_type": "text"
      },
      "source": [
        "Modular programming is a software design technique to split your code into separate parts. These parts are called modules. The focus for this separation should be to have modules with no or just few dependencies upon other modules. In other words: Minimization of dependencies is the goal. When creating a modular system, several modules are built separately and more or less independently. The executable application will be created by putting them together."
      ]
    },
    {
      "cell_type": "markdown",
      "metadata": {
        "id": "pDQL_hVuWusG",
        "colab_type": "text"
      },
      "source": [
        "## Python modules"
      ]
    },
    {
      "cell_type": "markdown",
      "metadata": {
        "id": "HKgxOMC3Wx-4",
        "colab_type": "text"
      },
      "source": [
        "Any text file with the .py extension containing Python code is basically a module. Python has huge collection of modules . Lets try to use few of them"
      ]
    },
    {
      "cell_type": "markdown",
      "metadata": {
        "id": "-3gbGfBuZXIt",
        "colab_type": "text"
      },
      "source": [
        "### time"
      ]
    },
    {
      "cell_type": "markdown",
      "metadata": {
        "id": "iEKAB2tlZwrF",
        "colab_type": "text"
      },
      "source": [
        "The time module provides access to several different types of clocks, each useful for different purposes"
      ]
    },
    {
      "cell_type": "code",
      "metadata": {
        "id": "S0PX11zBZxw1",
        "colab_type": "code",
        "colab": {
          "base_uri": "https://localhost:8080/",
          "height": 35
        },
        "outputId": "ba82779b-d470-48b3-c653-55a3f248b95a"
      },
      "source": [
        "import time\n",
        "\n",
        "print('The time is:', time.time())"
      ],
      "execution_count": null,
      "outputs": [
        {
          "output_type": "stream",
          "text": [
            "The time is: 1594295301.7823184\n"
          ],
          "name": "stdout"
        }
      ]
    },
    {
      "cell_type": "code",
      "metadata": {
        "id": "MM1NEhtpaFIQ",
        "colab_type": "code",
        "colab": {
          "base_uri": "https://localhost:8080/",
          "height": 50
        },
        "outputId": "ab9f9b08-28c1-4369-9df8-8d0b95e2bd96"
      },
      "source": [
        "import time\n",
        "\n",
        "print('The time is      :', time.ctime())\n",
        "later = time.time() + 15\n",
        "print('15 secs from now :', time.ctime(later))"
      ],
      "execution_count": 1,
      "outputs": [
        {
          "output_type": "stream",
          "text": [
            "The time is      : Mon Jul 13 11:28:27 2020\n",
            "15 secs from now : Mon Jul 13 11:28:42 2020\n"
          ],
          "name": "stdout"
        }
      ]
    },
    {
      "cell_type": "code",
      "metadata": {
        "id": "lYbJoXWSat5J",
        "colab_type": "code",
        "colab": {
          "base_uri": "https://localhost:8080/",
          "height": 67
        },
        "outputId": "7aee3785-e4ae-417d-c263-b696eb159270"
      },
      "source": [
        "import time\n",
        "now = time.ctime()\n",
        "print('Now:', now)\n",
        "parsed = time.strptime(now)\n",
        "print('\\nFormatted:',\n",
        "      time.strftime(\"%Y %b %a %H:%M:%S\", parsed))"
      ],
      "execution_count": 2,
      "outputs": [
        {
          "output_type": "stream",
          "text": [
            "Now: Mon Jul 13 11:29:08 2020\n",
            "\n",
            "Formatted: 2020 Jul Mon 11:29:08\n"
          ],
          "name": "stdout"
        }
      ]
    },
    {
      "cell_type": "markdown",
      "metadata": {
        "id": "UR2Sia8MbfF9",
        "colab_type": "text"
      },
      "source": [
        "### datetime"
      ]
    },
    {
      "cell_type": "markdown",
      "metadata": {
        "id": "Z2sfEii9cBkh",
        "colab_type": "text"
      },
      "source": [
        "The datetime module includes functions and classes for doing date and time parsing, formatting, and arithmetic"
      ]
    },
    {
      "cell_type": "markdown",
      "metadata": {
        "id": "rOFjm6flcLvv",
        "colab_type": "text"
      },
      "source": [
        "Time values are represented with the time class. A time instance has attributes for hour, minute, second, and microsecond and can also include time zone information"
      ]
    },
    {
      "cell_type": "code",
      "metadata": {
        "id": "0_cphAwTcC3J",
        "colab_type": "code",
        "colab": {
          "base_uri": "https://localhost:8080/",
          "height": 118
        },
        "outputId": "c4da2aa5-a8c0-4a77-b6c1-7049d21d36fe"
      },
      "source": [
        "import datetime\n",
        "\n",
        "t = datetime.time(1, 2, 3)\n",
        "print(t)\n",
        "print('hour       :', t.hour)\n",
        "print('minute     :', t.minute)\n",
        "print('second     :', t.second)\n",
        "print('microsecond:', t.microsecond)\n",
        "print('tzinfo     :', t.tzinfo)\n"
      ],
      "execution_count": 3,
      "outputs": [
        {
          "output_type": "stream",
          "text": [
            "01:02:03\n",
            "hour       : 1\n",
            "minute     : 2\n",
            "second     : 3\n",
            "microsecond: 0\n",
            "tzinfo     : None\n"
          ],
          "name": "stdout"
        }
      ]
    },
    {
      "cell_type": "markdown",
      "metadata": {
        "id": "Oe6t9e61cTQ6",
        "colab_type": "text"
      },
      "source": [
        "Date math uses the standard arithmetic operators."
      ]
    },
    {
      "cell_type": "code",
      "metadata": {
        "id": "mEdEfABgcXW0",
        "colab_type": "code",
        "colab": {
          "base_uri": "https://localhost:8080/",
          "height": 134
        },
        "outputId": "4aae9228-1db4-4e96-e246-e7baf5427256"
      },
      "source": [
        "import datetime\n",
        "\n",
        "today = datetime.date.today()\n",
        "print('Today    :', today)\n",
        "\n",
        "one_day = datetime.timedelta(days=1)\n",
        "print('One day  :', one_day)\n",
        "\n",
        "yesterday = today - one_day\n",
        "print('Yesterday:', yesterday)\n",
        "\n",
        "tomorrow = today + one_day\n",
        "print('Tomorrow :', tomorrow)\n",
        "\n",
        "print()\n",
        "print('tomorrow - yesterday:', tomorrow - yesterday)\n",
        "print('yesterday - tomorrow:', yesterday - tomorrow)"
      ],
      "execution_count": 4,
      "outputs": [
        {
          "output_type": "stream",
          "text": [
            "Today    : 2020-07-13\n",
            "One day  : 1 day, 0:00:00\n",
            "Yesterday: 2020-07-12\n",
            "Tomorrow : 2020-07-14\n",
            "\n",
            "tomorrow - yesterday: 2 days, 0:00:00\n",
            "yesterday - tomorrow: -2 days, 0:00:00\n"
          ],
          "name": "stdout"
        }
      ]
    },
    {
      "cell_type": "markdown",
      "metadata": {
        "id": "OMyiGCR5crDg",
        "colab_type": "text"
      },
      "source": [
        "###random"
      ]
    },
    {
      "cell_type": "markdown",
      "metadata": {
        "id": "vrnGUiQ7cslS",
        "colab_type": "text"
      },
      "source": [
        "This module is used to generate random numbers"
      ]
    },
    {
      "cell_type": "code",
      "metadata": {
        "id": "iOOL3ODzdMaS",
        "colab_type": "code",
        "colab": {}
      },
      "source": [
        ""
      ],
      "execution_count": null,
      "outputs": []
    },
    {
      "cell_type": "code",
      "metadata": {
        "id": "nmsGxqWmdB-N",
        "colab_type": "code",
        "colab": {
          "base_uri": "https://localhost:8080/",
          "height": 34
        },
        "outputId": "13691fbb-5f73-46b1-cc8d-bcfb1876ef5c"
      },
      "source": [
        "import random\n",
        "\n",
        "for i in range(5):\n",
        "    print('%04.3f' % random.random(), end=' ') # random.random() will generate floating random values\n",
        "print()"
      ],
      "execution_count": 5,
      "outputs": [
        {
          "output_type": "stream",
          "text": [
            "0.873 0.165 0.758 0.019 0.697 \n"
          ],
          "name": "stdout"
        }
      ]
    },
    {
      "cell_type": "markdown",
      "metadata": {
        "id": "RpRlXqHedL5q",
        "colab_type": "text"
      },
      "source": [
        "Random Integers"
      ]
    },
    {
      "cell_type": "code",
      "metadata": {
        "id": "zSahBmY3dNHb",
        "colab_type": "code",
        "colab": {
          "base_uri": "https://localhost:8080/",
          "height": 50
        },
        "outputId": "5aafbe61-fcec-4548-f492-c8eae676f9ba"
      },
      "source": [
        "import random\n",
        "\n",
        "print('[1, 100]:', end=' ')\n",
        "\n",
        "for i in range(3):\n",
        "    print(random.randint(1, 100), end=' ') # random.randint(start, end) will return integer values \n",
        "\n",
        "print('\\n[-5, 5]:', end=' ')\n",
        "for i in range(3):\n",
        "    print(random.randint(-5, 5), end=' ')\n",
        "print()"
      ],
      "execution_count": 14,
      "outputs": [
        {
          "output_type": "stream",
          "text": [
            "[1, 100]: 96 20 33 \n",
            "[-5, 5]: -3 4 -4 \n"
          ],
          "name": "stdout"
        }
      ]
    },
    {
      "cell_type": "markdown",
      "metadata": {
        "id": "0YUTfu7Hi59t",
        "colab_type": "text"
      },
      "source": [
        "###os"
      ]
    },
    {
      "cell_type": "markdown",
      "metadata": {
        "id": "zfePwaoGjlMD",
        "colab_type": "text"
      },
      "source": [
        "os modules provide lot of os operation utilies"
      ]
    },
    {
      "cell_type": "code",
      "metadata": {
        "id": "hMYp4QLGjLx_",
        "colab_type": "code",
        "colab": {
          "base_uri": "https://localhost:8080/",
          "height": 54
        },
        "outputId": "3f65e55b-2a17-4742-80bc-8eb55e3ff327"
      },
      "source": [
        "import os\n",
        "print(list(dir(os)))"
      ],
      "execution_count": 15,
      "outputs": [
        {
          "output_type": "stream",
          "text": [
            "['CLD_CONTINUED', 'CLD_DUMPED', 'CLD_EXITED', 'CLD_TRAPPED', 'DirEntry', 'EX_CANTCREAT', 'EX_CONFIG', 'EX_DATAERR', 'EX_IOERR', 'EX_NOHOST', 'EX_NOINPUT', 'EX_NOPERM', 'EX_NOUSER', 'EX_OK', 'EX_OSERR', 'EX_OSFILE', 'EX_PROTOCOL', 'EX_SOFTWARE', 'EX_TEMPFAIL', 'EX_UNAVAILABLE', 'EX_USAGE', 'F_LOCK', 'F_OK', 'F_TEST', 'F_TLOCK', 'F_ULOCK', 'GRND_NONBLOCK', 'GRND_RANDOM', 'MutableMapping', 'NGROUPS_MAX', 'O_ACCMODE', 'O_APPEND', 'O_ASYNC', 'O_CLOEXEC', 'O_CREAT', 'O_DIRECT', 'O_DIRECTORY', 'O_DSYNC', 'O_EXCL', 'O_LARGEFILE', 'O_NDELAY', 'O_NOATIME', 'O_NOCTTY', 'O_NOFOLLOW', 'O_NONBLOCK', 'O_PATH', 'O_RDONLY', 'O_RDWR', 'O_RSYNC', 'O_SYNC', 'O_TMPFILE', 'O_TRUNC', 'O_WRONLY', 'POSIX_FADV_DONTNEED', 'POSIX_FADV_NOREUSE', 'POSIX_FADV_NORMAL', 'POSIX_FADV_RANDOM', 'POSIX_FADV_SEQUENTIAL', 'POSIX_FADV_WILLNEED', 'PRIO_PGRP', 'PRIO_PROCESS', 'PRIO_USER', 'P_ALL', 'P_NOWAIT', 'P_NOWAITO', 'P_PGID', 'P_PID', 'P_WAIT', 'PathLike', 'RTLD_DEEPBIND', 'RTLD_GLOBAL', 'RTLD_LAZY', 'RTLD_LOCAL', 'RTLD_NODELETE', 'RTLD_NOLOAD', 'RTLD_NOW', 'R_OK', 'SCHED_BATCH', 'SCHED_FIFO', 'SCHED_IDLE', 'SCHED_OTHER', 'SCHED_RESET_ON_FORK', 'SCHED_RR', 'SEEK_CUR', 'SEEK_DATA', 'SEEK_END', 'SEEK_HOLE', 'SEEK_SET', 'ST_APPEND', 'ST_MANDLOCK', 'ST_NOATIME', 'ST_NODEV', 'ST_NODIRATIME', 'ST_NOEXEC', 'ST_NOSUID', 'ST_RDONLY', 'ST_RELATIME', 'ST_SYNCHRONOUS', 'ST_WRITE', 'TMP_MAX', 'WCONTINUED', 'WCOREDUMP', 'WEXITED', 'WEXITSTATUS', 'WIFCONTINUED', 'WIFEXITED', 'WIFSIGNALED', 'WIFSTOPPED', 'WNOHANG', 'WNOWAIT', 'WSTOPPED', 'WSTOPSIG', 'WTERMSIG', 'WUNTRACED', 'W_OK', 'XATTR_CREATE', 'XATTR_REPLACE', 'XATTR_SIZE_MAX', 'X_OK', '_Environ', '__all__', '__builtins__', '__cached__', '__doc__', '__file__', '__loader__', '__name__', '__package__', '__spec__', '_execvpe', '_exists', '_exit', '_fspath', '_fwalk', '_get_exports_list', '_putenv', '_spawnvef', '_unsetenv', '_wrap_close', 'abc', 'abort', 'access', 'altsep', 'chdir', 'chmod', 'chown', 'chroot', 'close', 'closerange', 'confstr', 'confstr_names', 'cpu_count', 'ctermid', 'curdir', 'defpath', 'device_encoding', 'devnull', 'dup', 'dup2', 'environ', 'environb', 'errno', 'error', 'execl', 'execle', 'execlp', 'execlpe', 'execv', 'execve', 'execvp', 'execvpe', 'extsep', 'fchdir', 'fchmod', 'fchown', 'fdatasync', 'fdopen', 'fork', 'forkpty', 'fpathconf', 'fsdecode', 'fsencode', 'fspath', 'fstat', 'fstatvfs', 'fsync', 'ftruncate', 'fwalk', 'get_blocking', 'get_exec_path', 'get_inheritable', 'get_terminal_size', 'getcwd', 'getcwdb', 'getegid', 'getenv', 'getenvb', 'geteuid', 'getgid', 'getgrouplist', 'getgroups', 'getloadavg', 'getlogin', 'getpgid', 'getpgrp', 'getpid', 'getppid', 'getpriority', 'getrandom', 'getresgid', 'getresuid', 'getsid', 'getuid', 'getxattr', 'initgroups', 'isatty', 'kill', 'killpg', 'lchown', 'linesep', 'link', 'listdir', 'listxattr', 'lockf', 'lseek', 'lstat', 'major', 'makedev', 'makedirs', 'minor', 'mkdir', 'mkfifo', 'mknod', 'name', 'nice', 'open', 'openpty', 'pardir', 'path', 'pathconf', 'pathconf_names', 'pathsep', 'pipe', 'pipe2', 'popen', 'posix_fadvise', 'posix_fallocate', 'pread', 'putenv', 'pwrite', 'read', 'readlink', 'readv', 'remove', 'removedirs', 'removexattr', 'rename', 'renames', 'replace', 'rmdir', 'scandir', 'sched_get_priority_max', 'sched_get_priority_min', 'sched_getaffinity', 'sched_getparam', 'sched_getscheduler', 'sched_param', 'sched_rr_get_interval', 'sched_setaffinity', 'sched_setparam', 'sched_setscheduler', 'sched_yield', 'sendfile', 'sep', 'set_blocking', 'set_inheritable', 'setegid', 'seteuid', 'setgid', 'setgroups', 'setpgid', 'setpgrp', 'setpriority', 'setregid', 'setresgid', 'setresuid', 'setreuid', 'setsid', 'setuid', 'setxattr', 'spawnl', 'spawnle', 'spawnlp', 'spawnlpe', 'spawnv', 'spawnve', 'spawnvp', 'spawnvpe', 'st', 'stat', 'stat_float_times', 'stat_result', 'statvfs', 'statvfs_result', 'strerror', 'supports_bytes_environ', 'supports_dir_fd', 'supports_effective_ids', 'supports_fd', 'supports_follow_symlinks', 'symlink', 'sync', 'sys', 'sysconf', 'sysconf_names', 'system', 'tcgetpgrp', 'tcsetpgrp', 'terminal_size', 'times', 'times_result', 'truncate', 'ttyname', 'umask', 'uname', 'uname_result', 'unlink', 'unsetenv', 'urandom', 'utime', 'wait', 'wait3', 'wait4', 'waitid', 'waitid_result', 'waitpid', 'walk', 'write', 'writev']\n"
          ],
          "name": "stdout"
        }
      ]
    },
    {
      "cell_type": "code",
      "metadata": {
        "id": "M5AXcr3wjZi5",
        "colab_type": "code",
        "colab": {
          "base_uri": "https://localhost:8080/",
          "height": 35
        },
        "outputId": "6457f2d9-359e-412f-f2a6-aab2939a930b"
      },
      "source": [
        "os.getcwd()"
      ],
      "execution_count": 16,
      "outputs": [
        {
          "output_type": "execute_result",
          "data": {
            "application/vnd.google.colaboratory.intrinsic": {
              "type": "string"
            },
            "text/plain": [
              "'/content'"
            ]
          },
          "metadata": {
            "tags": []
          },
          "execution_count": 16
        }
      ]
    },
    {
      "cell_type": "code",
      "metadata": {
        "id": "azsCvqB3jdYE",
        "colab_type": "code",
        "colab": {
          "base_uri": "https://localhost:8080/",
          "height": 34
        },
        "outputId": "f24e1c3d-61e3-4bae-f630-9cac458b4d40"
      },
      "source": [
        "os.listdir(os.getcwd())"
      ],
      "execution_count": 19,
      "outputs": [
        {
          "output_type": "execute_result",
          "data": {
            "text/plain": [
              "['.config', 'drive', 'sample_data']"
            ]
          },
          "metadata": {
            "tags": []
          },
          "execution_count": 19
        }
      ]
    },
    {
      "cell_type": "code",
      "metadata": {
        "id": "HlSCygHaj3rf",
        "colab_type": "code",
        "colab": {}
      },
      "source": [
        "import os\n",
        "root=os.getcwd()\n",
        "for dir_name, sub_dirs, files in os.walk(root):\n",
        "    print(dir_name)\n",
        "    # Make the subdirectory names stand out with /\n",
        "    sub_dirs = [n + '/' for n in sub_dirs]\n",
        "    # Mix the directory contents together\n",
        "    contents = sub_dirs + files\n",
        "    contents.sort()\n",
        "    # Show the contents\n",
        "    for c in contents:\n",
        "        print('  {}'.format(c))\n",
        "    print()"
      ],
      "execution_count": null,
      "outputs": []
    },
    {
      "cell_type": "markdown",
      "metadata": {
        "id": "uQ_oGmldkLTG",
        "colab_type": "text"
      },
      "source": [
        "Creating and Deleting Directories"
      ]
    },
    {
      "cell_type": "code",
      "metadata": {
        "id": "NwNyzx_ykODg",
        "colab_type": "code",
        "colab": {
          "base_uri": "https://localhost:8080/",
          "height": 134
        },
        "outputId": "01865b90-cb5d-4599-fd14-eb238f825cd2"
      },
      "source": [
        "import os\n",
        "import time \n",
        "dir_name = 'os_directories_example'\n",
        "print(os.listdir(os.getcwd()))\n",
        "print('Creating', dir_name)\n",
        "os.makedirs(dir_name)\n",
        "\n",
        "file_name = os.path.join(dir_name, 'example.txt')\n",
        "print('Creating', file_name)\n",
        "with open(file_name, 'wt') as f:\n",
        "    f.write('example file')\n",
        "print(os.listdir(os.getcwd()))\n",
        "print(os.listdir(os.path.join(os.getcwd(), dir_name)))\n",
        "time.sleep(5)\n",
        "print('Cleaning up')\n",
        "os.unlink(file_name)\n",
        "os.rmdir(dir_name)\n",
        "print(os.listdir(os.getcwd()))"
      ],
      "execution_count": 20,
      "outputs": [
        {
          "output_type": "stream",
          "text": [
            "['.config', 'drive', 'sample_data']\n",
            "Creating os_directories_example\n",
            "Creating os_directories_example/example.txt\n",
            "['.config', 'drive', 'os_directories_example', 'sample_data']\n",
            "['example.txt']\n",
            "Cleaning up\n",
            "['.config', 'drive', 'sample_data']\n"
          ],
          "name": "stdout"
        }
      ]
    },
    {
      "cell_type": "markdown",
      "metadata": {
        "id": "uyOXI17trNGm",
        "colab_type": "text"
      },
      "source": [
        "### logging"
      ]
    },
    {
      "cell_type": "markdown",
      "metadata": {
        "id": "k3DrFnN7rVZ6",
        "colab_type": "text"
      },
      "source": [
        "The logging module defines a standard API for reporting errors and status information from applications and libraries"
      ]
    },
    {
      "cell_type": "code",
      "metadata": {
        "id": "3oPuO4QkpEBn",
        "colab_type": "code",
        "colab": {
          "base_uri": "https://localhost:8080/",
          "height": 84
        },
        "outputId": "baefa6ac-5ff1-4c47-fa2d-a43106a90018"
      },
      "source": [
        "import logging\n",
        "\n",
        "logging.basicConfig(level=logging.DEBUG)\n",
        "\n",
        "logging.debug('This is a debug message')\n",
        "logging.info('This is an info message')\n",
        "logging.warning('This is a warning message')\n",
        "logging.error('This is an error message')\n",
        "logging.critical('This is a critical error message')"
      ],
      "execution_count": 26,
      "outputs": [
        {
          "output_type": "stream",
          "text": [
            "INFO:root:This is an info message\n",
            "WARNING:root:This is a warning message\n",
            "ERROR:root:This is an error message\n",
            "CRITICAL:root:This is a critical error message\n"
          ],
          "name": "stderr"
        }
      ]
    },
    {
      "cell_type": "code",
      "metadata": {
        "id": "6QHc4tp9rdqw",
        "colab_type": "code",
        "colab": {}
      },
      "source": [
        "import logging\n",
        "\n",
        "LOG_FILENAME = 'logging_example.out'\n",
        "logging.basicConfig(\n",
        "    filename=LOG_FILENAME,\n",
        "    level=logging.DEBUG,\n",
        ")\n",
        "\n",
        "logging.debug('This message should go to the log file')\n",
        "\n",
        "with open(LOG_FILENAME, 'rt') as f:\n",
        "    body = f.read()\n",
        "\n",
        "print('FILE:')\n",
        "print(body)"
      ],
      "execution_count": 28,
      "outputs": []
    },
    {
      "cell_type": "markdown",
      "metadata": {
        "id": "nqnYIkvfpNtU",
        "colab_type": "text"
      },
      "source": [
        "## Creating Modules"
      ]
    },
    {
      "cell_type": "markdown",
      "metadata": {
        "id": "rml50Cl7pZmY",
        "colab_type": "text"
      },
      "source": [
        " A module in Python is just a file containing Python definitions and statements. The module name is moulded out of the file name by removing the suffix .py. For example, if the file name is fibonacci.py, the module name is fibonacci"
      ]
    },
    {
      "cell_type": "code",
      "metadata": {
        "id": "V-2z0t9UsWVu",
        "colab_type": "code",
        "colab": {}
      },
      "source": [
        "# content of fibonacci.py\n",
        "def fib(n):\n",
        "    if n == 0:\n",
        "        return 0\n",
        "    elif n == 1:\n",
        "        return 1\n",
        "    else:\n",
        "        return fib(n-1) + fib(n-2)\n",
        "def lfib(n):\n",
        "    a, b = 0, 1\n",
        "    for i in range(n):\n",
        "        a, b = b, a + b\n",
        "    return a"
      ],
      "execution_count": 29,
      "outputs": []
    },
    {
      "cell_type": "markdown",
      "metadata": {
        "id": "Jj3bweltp7w0",
        "colab_type": "text"
      },
      "source": [
        "Let's turn our Fibonacci functions into a module"
      ]
    },
    {
      "cell_type": "code",
      "metadata": {
        "id": "XjMK9kJSp8jk",
        "colab_type": "code",
        "colab": {
          "base_uri": "https://localhost:8080/",
          "height": 34
        },
        "outputId": "a4a15797-467e-40db-c866-aaf706ff2e72"
      },
      "source": [
        "import fibonacci\n",
        "fibonacci.fib(7)"
      ],
      "execution_count": 31,
      "outputs": [
        {
          "output_type": "execute_result",
          "data": {
            "text/plain": [
              "13"
            ]
          },
          "metadata": {
            "tags": []
          },
          "execution_count": 31
        }
      ]
    },
    {
      "cell_type": "code",
      "metadata": {
        "id": "pOeUJmu-qCVg",
        "colab_type": "code",
        "colab": {
          "base_uri": "https://localhost:8080/",
          "height": 34
        },
        "outputId": "9091c254-86b3-4212-da54-8c37333ebb0d"
      },
      "source": [
        "fibonacci.lfib(7)"
      ],
      "execution_count": 32,
      "outputs": [
        {
          "output_type": "execute_result",
          "data": {
            "text/plain": [
              "13"
            ]
          },
          "metadata": {
            "tags": []
          },
          "execution_count": 32
        }
      ]
    },
    {
      "cell_type": "markdown",
      "metadata": {
        "id": "-HjGDRt9qjbD",
        "colab_type": "text"
      },
      "source": [
        "Names from a module can directly be imported into the importing module's symbol table"
      ]
    },
    {
      "cell_type": "code",
      "metadata": {
        "id": "-fpdL0yeqkM0",
        "colab_type": "code",
        "colab": {
          "base_uri": "https://localhost:8080/",
          "height": 34
        },
        "outputId": "02a92154-8eac-412e-91ec-74ac05a2368a"
      },
      "source": [
        "from fibonacci import fib, lfib\n",
        "lfib(5)"
      ],
      "execution_count": 33,
      "outputs": [
        {
          "output_type": "execute_result",
          "data": {
            "text/plain": [
              "5"
            ]
          },
          "metadata": {
            "tags": []
          },
          "execution_count": 33
        }
      ]
    },
    {
      "cell_type": "code",
      "metadata": {
        "id": "FFoxmcIkrHc3",
        "colab_type": "code",
        "colab": {
          "base_uri": "https://localhost:8080/",
          "height": 34
        },
        "outputId": "79aaa723-6b70-4c8b-8ec2-9389e417ef56"
      },
      "source": [
        "from fibonacci import *\n",
        "fib(5)"
      ],
      "execution_count": 34,
      "outputs": [
        {
          "output_type": "execute_result",
          "data": {
            "text/plain": [
              "5"
            ]
          },
          "metadata": {
            "tags": []
          },
          "execution_count": 34
        }
      ]
    },
    {
      "cell_type": "markdown",
      "metadata": {
        "id": "W0N1zNMhNizZ",
        "colab_type": "text"
      },
      "source": [
        "#### Problem 1. Create a calculator module and define add(), sub(), mul(), div() function to do addtion , substraction, multiplication, division operation. import these function and test it  "
      ]
    },
    {
      "cell_type": "code",
      "metadata": {
        "id": "4PVDE9UhOJiD",
        "colab_type": "code",
        "colab": {
          "base_uri": "https://localhost:8080/",
          "height": 84
        },
        "outputId": "eba2e736-427d-40eb-dea0-10d2bb55085e"
      },
      "source": [
        ""
      ],
      "execution_count": 35,
      "outputs": [
        {
          "output_type": "stream",
          "text": [
            "3\n",
            "1\n",
            "20\n",
            "2.0\n"
          ],
          "name": "stdout"
        }
      ]
    },
    {
      "cell_type": "markdown",
      "metadata": {
        "id": "yR1iOdmTrbTT",
        "colab_type": "text"
      },
      "source": [
        "##Packages in Python"
      ]
    },
    {
      "cell_type": "markdown",
      "metadata": {
        "id": "Q1-1FQSHeWDR",
        "colab_type": "text"
      },
      "source": [
        "A package is basically a directory with Python files and a file with the name \\_\\_init\\_\\_.py. This means that every directory inside of the Python path, which contains a file named \\_\\_init\\_\\_.py, will be treated as a package by Python. It's possible to put several modules into a Package"
      ]
    },
    {
      "cell_type": "markdown",
      "metadata": {
        "id": "MWOMpxikUxIY",
        "colab_type": "text"
      },
      "source": [
        "### Creating Package"
      ]
    },
    {
      "cell_type": "markdown",
      "metadata": {
        "id": "6wmyX00Siaoq",
        "colab_type": "text"
      },
      "source": [
        "lets create package simple_package. create directory simple_package. write 2 modules a.py and b.py as show below\n"
      ]
    },
    {
      "cell_type": "markdown",
      "metadata": {
        "id": "TiYCO_s3kmi7",
        "colab_type": "text"
      },
      "source": [
        "create a.py with following content"
      ]
    },
    {
      "cell_type": "code",
      "metadata": {
        "id": "2Wl38tRNkt5J",
        "colab_type": "code",
        "colab": {}
      },
      "source": [
        "def bar():\n",
        "    print(\"Hello, function 'bar' from module 'a' calling\")"
      ],
      "execution_count": null,
      "outputs": []
    },
    {
      "cell_type": "markdown",
      "metadata": {
        "id": "sTLt53Lrk0RG",
        "colab_type": "text"
      },
      "source": [
        "create b.py with following content "
      ]
    },
    {
      "cell_type": "code",
      "metadata": {
        "id": "czLzBx_xk5ro",
        "colab_type": "code",
        "colab": {}
      },
      "source": [
        "def foo():\n",
        "    print(\"Hello, function 'foo' from module 'b' calling\")"
      ],
      "execution_count": null,
      "outputs": []
    },
    {
      "cell_type": "code",
      "metadata": {
        "id": "u_MvxUKllJ73",
        "colab_type": "code",
        "colab": {
          "base_uri": "https://localhost:8080/",
          "height": 50
        },
        "outputId": "b7ca1e98-f6c0-4a31-f571-e2b8fc2d0588"
      },
      "source": [
        "from simple_package import a, b\n",
        "a.bar()\n",
        "b.foo()\n"
      ],
      "execution_count": 37,
      "outputs": [
        {
          "output_type": "stream",
          "text": [
            "Hello, function 'bar' from module 'a' calling\n",
            "Hello, function 'foo' from module 'b' calling\n"
          ],
          "name": "stdout"
        }
      ]
    },
    {
      "cell_type": "markdown",
      "metadata": {
        "id": "apQY_JxtSxNO",
        "colab_type": "text"
      },
      "source": [
        "Problem 2. Create a calculator package and define myadd.py, mysub.py with add() and sub() function to do addition , substraction operation. import these function and test it"
      ]
    }
  ]
}