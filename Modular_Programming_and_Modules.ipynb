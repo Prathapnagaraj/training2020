{
  "nbformat": 4,
  "nbformat_minor": 0,
  "metadata": {
    "colab": {
      "name": "Modular_Programming_and_Modules.ipynb",
      "provenance": [],
      "collapsed_sections": [],
      "toc_visible": true,
      "mount_file_id": "1H5n9o5X9WbeZs_50cGr345wLTW_fsX9C",
      "authorship_tag": "ABX9TyMHIEOQkXP70AlXa4NW7iI7",
      "include_colab_link": true
    },
    "kernelspec": {
      "name": "python3",
      "display_name": "Python 3"
    }
  },
  "cells": [
    {
      "cell_type": "markdown",
      "metadata": {
        "id": "view-in-github",
        "colab_type": "text"
      },
      "source": [
        "<a href=\"https://colab.research.google.com/github/Prathapnagaraj/training2020/blob/master/Modular_Programming_and_Modules.ipynb\" target=\"_parent\"><img src=\"https://colab.research.google.com/assets/colab-badge.svg\" alt=\"Open In Colab\"/></a>"
      ]
    },
    {
      "cell_type": "markdown",
      "metadata": {
        "id": "vJBfYq_40FRi",
        "colab_type": "text"
      },
      "source": [
        "# Modular Programming"
      ]
    },
    {
      "cell_type": "markdown",
      "metadata": {
        "id": "D_KOPodrV6W_",
        "colab_type": "text"
      },
      "source": [
        "Modular programming is a software design technique to split your code into separate parts. These parts are called modules. The focus for this separation should be to have modules with no or just few dependencies upon other modules. In other words: Minimization of dependencies is the goal. When creating a modular system, several modules are built separately and more or less independently. The executable application will be created by putting them together."
      ]
    },
    {
      "cell_type": "markdown",
      "metadata": {
        "id": "pDQL_hVuWusG",
        "colab_type": "text"
      },
      "source": [
        "## Python modules"
      ]
    },
    {
      "cell_type": "markdown",
      "metadata": {
        "id": "HKgxOMC3Wx-4",
        "colab_type": "text"
      },
      "source": [
        "Any text file with the .py extension containing Python code is basically a module. Python has huge collection of modules . Lets try to use few of them"
      ]
    },
    {
      "cell_type": "markdown",
      "metadata": {
        "id": "-3gbGfBuZXIt",
        "colab_type": "text"
      },
      "source": [
        "### time"
      ]
    },
    {
      "cell_type": "markdown",
      "metadata": {
        "id": "iEKAB2tlZwrF",
        "colab_type": "text"
      },
      "source": [
        "The time module provides access to several different types of clocks, each useful for different purposes"
      ]
    },
    {
      "cell_type": "code",
      "metadata": {
        "id": "S0PX11zBZxw1",
        "colab_type": "code",
        "colab": {
          "base_uri": "https://localhost:8080/",
          "height": 34
        },
        "outputId": "34efb575-44f8-4ec5-cf00-29727449d52b"
      },
      "source": [
        "import time\n",
        "\n",
        "print('The time is:', time.time())"
      ],
      "execution_count": 1,
      "outputs": [
        {
          "output_type": "stream",
          "text": [
            "The time is: 1594708406.2736034\n"
          ],
          "name": "stdout"
        }
      ]
    },
    {
      "cell_type": "code",
      "metadata": {
        "id": "MM1NEhtpaFIQ",
        "colab_type": "code",
        "colab": {
          "base_uri": "https://localhost:8080/",
          "height": 50
        },
        "outputId": "cacce37d-880e-4ae7-845b-fa9b9c630eee"
      },
      "source": [
        "import time\n",
        "\n",
        "print('The time is      :', time.ctime())\n",
        "later = time.time() + 15\n",
        "print('15 secs from now :', time.ctime(later))"
      ],
      "execution_count": null,
      "outputs": [
        {
          "output_type": "stream",
          "text": [
            "The time is      : Tue Jul 14 03:47:05 2020\n",
            "15 secs from now : Tue Jul 14 03:47:20 2020\n"
          ],
          "name": "stdout"
        }
      ]
    },
    {
      "cell_type": "code",
      "metadata": {
        "id": "lYbJoXWSat5J",
        "colab_type": "code",
        "colab": {
          "base_uri": "https://localhost:8080/",
          "height": 67
        },
        "outputId": "dec8633d-2e2c-4f37-b890-ffdcec594179"
      },
      "source": [
        "import time\n",
        "now = time.ctime()\n",
        "print('Now:', now)\n",
        "parsed = time.strptime(now)\n",
        "print('\\nFormatted:',\n",
        "      time.strftime(\"%Y %b %a %H:%M:%S\", parsed))"
      ],
      "execution_count": null,
      "outputs": [
        {
          "output_type": "stream",
          "text": [
            "Now: Tue Jul 14 03:49:00 2020\n",
            "\n",
            "Formatted: 2020 Jul Tue 03:49:00\n"
          ],
          "name": "stdout"
        }
      ]
    },
    {
      "cell_type": "markdown",
      "metadata": {
        "id": "UR2Sia8MbfF9",
        "colab_type": "text"
      },
      "source": [
        "### datetime"
      ]
    },
    {
      "cell_type": "markdown",
      "metadata": {
        "id": "Z2sfEii9cBkh",
        "colab_type": "text"
      },
      "source": [
        "The datetime module includes functions and classes for doing date and time parsing, formatting, and arithmetic"
      ]
    },
    {
      "cell_type": "markdown",
      "metadata": {
        "id": "rOFjm6flcLvv",
        "colab_type": "text"
      },
      "source": [
        "Time values are represented with the time class. A time instance has attributes for hour, minute, second, and microsecond and can also include time zone information"
      ]
    },
    {
      "cell_type": "code",
      "metadata": {
        "id": "0_cphAwTcC3J",
        "colab_type": "code",
        "colab": {
          "base_uri": "https://localhost:8080/",
          "height": 118
        },
        "outputId": "b1378308-3894-4215-8e1e-c025f843ffa4"
      },
      "source": [
        "import datetime\n",
        "\n",
        "t = datetime.time(1, 2, 3)\n",
        "print(t)\n",
        "print('hour       :', t.hour)\n",
        "print('minute     :', t.minute)\n",
        "print('second     :', t.second)\n",
        "print('microsecond:', t.microsecond)\n",
        "print('tzinfo     :', t.tzinfo)\n"
      ],
      "execution_count": null,
      "outputs": [
        {
          "output_type": "stream",
          "text": [
            "01:02:03\n",
            "hour       : 1\n",
            "minute     : 2\n",
            "second     : 3\n",
            "microsecond: 0\n",
            "tzinfo     : None\n"
          ],
          "name": "stdout"
        }
      ]
    },
    {
      "cell_type": "markdown",
      "metadata": {
        "id": "Oe6t9e61cTQ6",
        "colab_type": "text"
      },
      "source": [
        "Date math uses the standard arithmetic operators."
      ]
    },
    {
      "cell_type": "code",
      "metadata": {
        "id": "mEdEfABgcXW0",
        "colab_type": "code",
        "colab": {
          "base_uri": "https://localhost:8080/",
          "height": 134
        },
        "outputId": "b93991b7-da94-4709-bf91-dece5dff2843"
      },
      "source": [
        "import datetime\n",
        "\n",
        "today = datetime.date.today()\n",
        "print('Today    :', today)\n",
        "\n",
        "one_day = datetime.timedelta(days=1)\n",
        "print('One day  :', one_day)\n",
        "\n",
        "yesterday = today - one_day\n",
        "print('Yesterday:', yesterday)\n",
        "\n",
        "tomorrow = today + one_day\n",
        "print('Tomorrow :', tomorrow)\n",
        "\n",
        "print()\n",
        "print('tomorrow - yesterday:', tomorrow - yesterday)\n",
        "print('yesterday - tomorrow:', yesterday - tomorrow)"
      ],
      "execution_count": null,
      "outputs": [
        {
          "output_type": "stream",
          "text": [
            "Today    : 2020-07-14\n",
            "One day  : 1 day, 0:00:00\n",
            "Yesterday: 2020-07-13\n",
            "Tomorrow : 2020-07-15\n",
            "\n",
            "tomorrow - yesterday: 2 days, 0:00:00\n",
            "yesterday - tomorrow: -2 days, 0:00:00\n"
          ],
          "name": "stdout"
        }
      ]
    },
    {
      "cell_type": "markdown",
      "metadata": {
        "id": "OMyiGCR5crDg",
        "colab_type": "text"
      },
      "source": [
        "###random"
      ]
    },
    {
      "cell_type": "markdown",
      "metadata": {
        "id": "vrnGUiQ7cslS",
        "colab_type": "text"
      },
      "source": [
        "This module is used to generate random numbers"
      ]
    },
    {
      "cell_type": "code",
      "metadata": {
        "id": "iOOL3ODzdMaS",
        "colab_type": "code",
        "colab": {}
      },
      "source": [
        ""
      ],
      "execution_count": null,
      "outputs": []
    },
    {
      "cell_type": "code",
      "metadata": {
        "id": "nmsGxqWmdB-N",
        "colab_type": "code",
        "colab": {
          "base_uri": "https://localhost:8080/",
          "height": 34
        },
        "outputId": "c3038766-12c5-483a-cd1f-fca3d8619191"
      },
      "source": [
        "import random\n",
        "\n",
        "for i in range(5):\n",
        "    print('%04.3f' % random.random(), end=' ') # random.random() will generate floating random values\n",
        "print()"
      ],
      "execution_count": null,
      "outputs": [
        {
          "output_type": "stream",
          "text": [
            "0.525 0.179 0.062 0.293 0.550 \n"
          ],
          "name": "stdout"
        }
      ]
    },
    {
      "cell_type": "markdown",
      "metadata": {
        "id": "RpRlXqHedL5q",
        "colab_type": "text"
      },
      "source": [
        "Random Integers"
      ]
    },
    {
      "cell_type": "code",
      "metadata": {
        "id": "zSahBmY3dNHb",
        "colab_type": "code",
        "colab": {
          "base_uri": "https://localhost:8080/",
          "height": 50
        },
        "outputId": "e7c1b435-23fa-48f9-f27c-547e824655f3"
      },
      "source": [
        "import random\n",
        "\n",
        "print('[1, 100]:', end=' ')\n",
        "\n",
        "for i in range(3):\n",
        "    print(random.randint(1, 100), end=' ') # random.randint(start, end) will return integer values \n",
        "\n",
        "print('\\n[-5, 5]:', end=' ')\n",
        "for i in range(3):\n",
        "    print(random.randint(-5, 5), end=' ')\n",
        "print()"
      ],
      "execution_count": null,
      "outputs": [
        {
          "output_type": "stream",
          "text": [
            "[1, 100]: 71 68 86 \n",
            "[-5, 5]: -4 -4 4 \n"
          ],
          "name": "stdout"
        }
      ]
    },
    {
      "cell_type": "markdown",
      "metadata": {
        "id": "0YUTfu7Hi59t",
        "colab_type": "text"
      },
      "source": [
        "###os"
      ]
    },
    {
      "cell_type": "markdown",
      "metadata": {
        "id": "zfePwaoGjlMD",
        "colab_type": "text"
      },
      "source": [
        "os modules provide lot of os operation utilies"
      ]
    },
    {
      "cell_type": "code",
      "metadata": {
        "id": "hMYp4QLGjLx_",
        "colab_type": "code",
        "colab": {
          "base_uri": "https://localhost:8080/",
          "height": 54
        },
        "outputId": "1e616f0f-4aa5-40c4-87e8-dd8275d340e5"
      },
      "source": [
        "import os\n",
        "print(list(dir(os)))"
      ],
      "execution_count": null,
      "outputs": [
        {
          "output_type": "stream",
          "text": [
            "['CLD_CONTINUED', 'CLD_DUMPED', 'CLD_EXITED', 'CLD_TRAPPED', 'DirEntry', 'EX_CANTCREAT', 'EX_CONFIG', 'EX_DATAERR', 'EX_IOERR', 'EX_NOHOST', 'EX_NOINPUT', 'EX_NOPERM', 'EX_NOUSER', 'EX_OK', 'EX_OSERR', 'EX_OSFILE', 'EX_PROTOCOL', 'EX_SOFTWARE', 'EX_TEMPFAIL', 'EX_UNAVAILABLE', 'EX_USAGE', 'F_LOCK', 'F_OK', 'F_TEST', 'F_TLOCK', 'F_ULOCK', 'GRND_NONBLOCK', 'GRND_RANDOM', 'MutableMapping', 'NGROUPS_MAX', 'O_ACCMODE', 'O_APPEND', 'O_ASYNC', 'O_CLOEXEC', 'O_CREAT', 'O_DIRECT', 'O_DIRECTORY', 'O_DSYNC', 'O_EXCL', 'O_LARGEFILE', 'O_NDELAY', 'O_NOATIME', 'O_NOCTTY', 'O_NOFOLLOW', 'O_NONBLOCK', 'O_PATH', 'O_RDONLY', 'O_RDWR', 'O_RSYNC', 'O_SYNC', 'O_TMPFILE', 'O_TRUNC', 'O_WRONLY', 'POSIX_FADV_DONTNEED', 'POSIX_FADV_NOREUSE', 'POSIX_FADV_NORMAL', 'POSIX_FADV_RANDOM', 'POSIX_FADV_SEQUENTIAL', 'POSIX_FADV_WILLNEED', 'PRIO_PGRP', 'PRIO_PROCESS', 'PRIO_USER', 'P_ALL', 'P_NOWAIT', 'P_NOWAITO', 'P_PGID', 'P_PID', 'P_WAIT', 'PathLike', 'RTLD_DEEPBIND', 'RTLD_GLOBAL', 'RTLD_LAZY', 'RTLD_LOCAL', 'RTLD_NODELETE', 'RTLD_NOLOAD', 'RTLD_NOW', 'R_OK', 'SCHED_BATCH', 'SCHED_FIFO', 'SCHED_IDLE', 'SCHED_OTHER', 'SCHED_RESET_ON_FORK', 'SCHED_RR', 'SEEK_CUR', 'SEEK_DATA', 'SEEK_END', 'SEEK_HOLE', 'SEEK_SET', 'ST_APPEND', 'ST_MANDLOCK', 'ST_NOATIME', 'ST_NODEV', 'ST_NODIRATIME', 'ST_NOEXEC', 'ST_NOSUID', 'ST_RDONLY', 'ST_RELATIME', 'ST_SYNCHRONOUS', 'ST_WRITE', 'TMP_MAX', 'WCONTINUED', 'WCOREDUMP', 'WEXITED', 'WEXITSTATUS', 'WIFCONTINUED', 'WIFEXITED', 'WIFSIGNALED', 'WIFSTOPPED', 'WNOHANG', 'WNOWAIT', 'WSTOPPED', 'WSTOPSIG', 'WTERMSIG', 'WUNTRACED', 'W_OK', 'XATTR_CREATE', 'XATTR_REPLACE', 'XATTR_SIZE_MAX', 'X_OK', '_Environ', '__all__', '__builtins__', '__cached__', '__doc__', '__file__', '__loader__', '__name__', '__package__', '__spec__', '_execvpe', '_exists', '_exit', '_fspath', '_fwalk', '_get_exports_list', '_putenv', '_spawnvef', '_unsetenv', '_wrap_close', 'abc', 'abort', 'access', 'altsep', 'chdir', 'chmod', 'chown', 'chroot', 'close', 'closerange', 'confstr', 'confstr_names', 'cpu_count', 'ctermid', 'curdir', 'defpath', 'device_encoding', 'devnull', 'dup', 'dup2', 'environ', 'environb', 'errno', 'error', 'execl', 'execle', 'execlp', 'execlpe', 'execv', 'execve', 'execvp', 'execvpe', 'extsep', 'fchdir', 'fchmod', 'fchown', 'fdatasync', 'fdopen', 'fork', 'forkpty', 'fpathconf', 'fsdecode', 'fsencode', 'fspath', 'fstat', 'fstatvfs', 'fsync', 'ftruncate', 'fwalk', 'get_blocking', 'get_exec_path', 'get_inheritable', 'get_terminal_size', 'getcwd', 'getcwdb', 'getegid', 'getenv', 'getenvb', 'geteuid', 'getgid', 'getgrouplist', 'getgroups', 'getloadavg', 'getlogin', 'getpgid', 'getpgrp', 'getpid', 'getppid', 'getpriority', 'getrandom', 'getresgid', 'getresuid', 'getsid', 'getuid', 'getxattr', 'initgroups', 'isatty', 'kill', 'killpg', 'lchown', 'linesep', 'link', 'listdir', 'listxattr', 'lockf', 'lseek', 'lstat', 'major', 'makedev', 'makedirs', 'minor', 'mkdir', 'mkfifo', 'mknod', 'name', 'nice', 'open', 'openpty', 'pardir', 'path', 'pathconf', 'pathconf_names', 'pathsep', 'pipe', 'pipe2', 'popen', 'posix_fadvise', 'posix_fallocate', 'pread', 'putenv', 'pwrite', 'read', 'readlink', 'readv', 'remove', 'removedirs', 'removexattr', 'rename', 'renames', 'replace', 'rmdir', 'scandir', 'sched_get_priority_max', 'sched_get_priority_min', 'sched_getaffinity', 'sched_getparam', 'sched_getscheduler', 'sched_param', 'sched_rr_get_interval', 'sched_setaffinity', 'sched_setparam', 'sched_setscheduler', 'sched_yield', 'sendfile', 'sep', 'set_blocking', 'set_inheritable', 'setegid', 'seteuid', 'setgid', 'setgroups', 'setpgid', 'setpgrp', 'setpriority', 'setregid', 'setresgid', 'setresuid', 'setreuid', 'setsid', 'setuid', 'setxattr', 'spawnl', 'spawnle', 'spawnlp', 'spawnlpe', 'spawnv', 'spawnve', 'spawnvp', 'spawnvpe', 'st', 'stat', 'stat_float_times', 'stat_result', 'statvfs', 'statvfs_result', 'strerror', 'supports_bytes_environ', 'supports_dir_fd', 'supports_effective_ids', 'supports_fd', 'supports_follow_symlinks', 'symlink', 'sync', 'sys', 'sysconf', 'sysconf_names', 'system', 'tcgetpgrp', 'tcsetpgrp', 'terminal_size', 'times', 'times_result', 'truncate', 'ttyname', 'umask', 'uname', 'uname_result', 'unlink', 'unsetenv', 'urandom', 'utime', 'wait', 'wait3', 'wait4', 'waitid', 'waitid_result', 'waitpid', 'walk', 'write', 'writev']\n"
          ],
          "name": "stdout"
        }
      ]
    },
    {
      "cell_type": "code",
      "metadata": {
        "id": "M5AXcr3wjZi5",
        "colab_type": "code",
        "colab": {
          "base_uri": "https://localhost:8080/",
          "height": 35
        },
        "outputId": "e72d3acd-4041-4c03-a526-f7c7584ae448"
      },
      "source": [
        "os.getcwd()"
      ],
      "execution_count": null,
      "outputs": [
        {
          "output_type": "execute_result",
          "data": {
            "application/vnd.google.colaboratory.intrinsic": {
              "type": "string"
            },
            "text/plain": [
              "'/content'"
            ]
          },
          "metadata": {
            "tags": []
          },
          "execution_count": 15
        }
      ]
    },
    {
      "cell_type": "code",
      "metadata": {
        "id": "azsCvqB3jdYE",
        "colab_type": "code",
        "colab": {
          "base_uri": "https://localhost:8080/",
          "height": 34
        },
        "outputId": "4edf1b47-bce4-42e1-d02b-5a14c690e974"
      },
      "source": [
        "os.listdir(os.getcwd())"
      ],
      "execution_count": null,
      "outputs": [
        {
          "output_type": "execute_result",
          "data": {
            "text/plain": [
              "['.config', 'drive', 'sample_data']"
            ]
          },
          "metadata": {
            "tags": []
          },
          "execution_count": 16
        }
      ]
    },
    {
      "cell_type": "code",
      "metadata": {
        "id": "HlSCygHaj3rf",
        "colab_type": "code",
        "colab": {
          "base_uri": "https://localhost:8080/",
          "height": 1000
        },
        "outputId": "569ec487-7333-41d2-b49b-8a7a5d296705"
      },
      "source": [
        "import os\n",
        "root=os.getcwd()\n",
        "for dir_name, sub_dirs, files in os.walk(root):\n",
        "    print(dir_name)\n",
        "    # Make the subdirectory names stand out with /\n",
        "    sub_dirs = [n + '/' for n in sub_dirs]\n",
        "    # Mix the directory contents together\n",
        "    contents = sub_dirs + files\n",
        "    contents.sort()\n",
        "    # Show the contents\n",
        "    for c in contents:\n",
        "        print('  {}'.format(c))\n",
        "    print()"
      ],
      "execution_count": null,
      "outputs": [
        {
          "output_type": "stream",
          "text": [
            "/content\n",
            "  .config/\n",
            "  drive/\n",
            "  sample_data/\n",
            "\n",
            "/content/.config\n",
            "  .last_opt_in_prompt.yaml\n",
            "  .last_survey_prompt.yaml\n",
            "  .last_update_check.json\n",
            "  .metricsUUID\n",
            "  active_config\n",
            "  config_sentinel\n",
            "  configurations/\n",
            "  gce\n",
            "  logs/\n",
            "\n",
            "/content/.config/configurations\n",
            "  config_default\n",
            "\n",
            "/content/.config/logs\n",
            "  2020.07.10/\n",
            "\n",
            "/content/.config/logs/2020.07.10\n",
            "  16.28.19.621895.log\n",
            "  16.28.38.231204.log\n",
            "  16.28.52.396365.log\n",
            "  16.28.57.265459.log\n",
            "  16.29.12.134415.log\n",
            "  16.29.12.848063.log\n",
            "\n",
            "/content/drive\n",
            "  .Trash/\n",
            "  .shortcut-targets-by-id/\n",
            "  My Drive/\n",
            "\n",
            "/content/drive/.shortcut-targets-by-id\n",
            "\n",
            "/content/drive/My Drive\n",
            "  .ipynb_checkpoints/\n",
            "  1510225432556_Joining_Report (1).odt.gdoc\n",
            "  1510225432556_Joining_Report (2).odt.gdoc\n",
            "  1510225432556_Joining_Report.odt.gdoc\n",
            "  16093738656_BDMxxxxx7G_A1.pdf\n",
            "  271025_Prathap Billava.pdf\n",
            "  Bill/\n",
            "  Colab Notebooks/\n",
            "  Copy of ProtectedSheet (1).gsheet\n",
            "  Copy of ProtectedSheet.gsheet\n",
            "  Copy of Resume Template - Table Format.gdoc\n",
            "  Copy of Sample Student Resume - Table Format.gdoc\n",
            "  Copy of Untitled4.ipynb\n",
            "  DSP.zip\n",
            "  Delete/\n",
            "  Design for Voice Interfaces.pdf\n",
            "  Emailing 659696862.pdf\n",
            "  Emailing 715568972 (1).pdf\n",
            "  Emailing 715568972.pdf\n",
            "  Form16_VARITE I-1569 (1).pdf\n",
            "  Form16_VARITE I-1569.pdf\n",
            "  Good conversation.gdoc\n",
            "  Google Keep Document (1).gdoc\n",
            "  Google Keep Document (2).gdoc\n",
            "  Google Keep Document.gdoc\n",
            "  IMG_20150326_174102875.jpg\n",
            "  IMPORTANT/\n",
            "  Lesson plan.gslides\n",
            "  MS/\n",
            "  MS_MSc Tech_Project Viva_March 22, 2014.doc\n",
            "  MS_MSc Tech_Project Viva_March 22, 2014.gdoc\n",
            "  Magnetic Torque Sensor Report.pdf\n",
            "  Mongodb.gslides\n",
            "  My New Mind Map.mind\n",
            "  My converted pictures (1).pdf\n",
            "  My converted pictures.pdf\n",
            "  Myimpdetails.gdoc\n",
            "  Mylife/\n",
            "  Myphotos/\n",
            "  Official_Formats-2016-05-05.zip\n",
            "  Online IoT Training/\n",
            "  Prathap_9845505583.doc\n",
            "  Prathap_9845505583_new.doc\n",
            "  Prathap_9845505583_new.doc.gdoc\n",
            "  Project Final.rar\n",
            "  Python /\n",
            "  Resume (1).gdoc\n",
            "  Resume (2).gdoc\n",
            "  Resume (3).gdoc\n",
            "  Resume (4).gdoc\n",
            "  Resume.gdoc\n",
            "  SSP_238.pdf\n",
            "  Save number.gdoc\n",
            "  Setup Docs for IoT Hands on session/\n",
            "  TAX/\n",
            "  Trade/\n",
            "  US192810_H265.gslides\n",
            "  Untitled document.gdoc\n",
            "  Untitled form.gform\n",
            "  Untitled presentation (1).gslides\n",
            "  Untitled presentation.gslides\n",
            "  Untitled spreadsheet (1).gsheet\n",
            "  Untitled spreadsheet.gsheet\n",
            "  Untitled0.ipynb\n",
            "  VOIP/\n",
            "  Vehicle doc/\n",
            "  Your big idea.gslides\n",
            "  app/\n",
            "  balance.gsheet\n",
            "  caesarCipher(H.C) python 2.gdoc\n",
            "  certificates/\n",
            "  cmr_b178d7ac207.pdf\n",
            "  designing-for-the-internet-of-things.pdf\n",
            "  eb/\n",
            "  eci/\n",
            "  education loan.docx\n",
            "  final report/\n",
            "  functional-programming-python.epub\n",
            "  hdfc2.pdf\n",
            "  hdfcpassbook.pdf\n",
            "  igatepatniofferletter.zip\n",
            "  learning material/\n",
            "  learning-selenium-testing-tools-with-python (1).rar\n",
            "  licence/\n",
            "  linux notes/\n",
            "  main.c\n",
            "  medical prescription/\n",
            "  my doc of word.gdoc\n",
            "  mycode.gdoc\n",
            "  office/\n",
            "  pg project/\n",
            "  professional Doc/\n",
            "  rent1.pdf\n",
            "  rufffile.gdoc\n",
            "  simple_package/\n",
            "  solar1.png\n",
            "  sound1/\n",
            "  test alarm.zip\n",
            "  test_my_alarm_test.txt.gdoc\n",
            "  trading.gsheet\n",
            "  tv.png\n",
            "  varite offer letter/\n",
            "  what-is-the-internet-of-things.pdf\n",
            "  when-hardware-meets-software.epub\n",
            "\n",
            "/content/drive/My Drive/pg project\n",
            "  Framework Development for Automation Testing Of Embedded Systems .PPT.pptx\n",
            "  Framework development for automation testing of embedded syatem.docx\n",
            "  Framework development for automation testing of embedded syatem.docx.gdoc\n",
            "  Framework development for automation testing of embedded syatem_4.pdf\n",
            "  School of Information Sciences.docx\n",
            "  Synopsis.docx\n",
            "  Synopsis.pdf\n",
            "  copy-of-blue-circles-free-prezi-template-hmuhuv1mzsb3 (3).zip\n",
            "  frant_page.docx\n",
            "\n",
            "/content/drive/My Drive/varite offer letter\n",
            "  Picture 011.jpg\n",
            "\n",
            "/content/drive/My Drive/final report\n",
            "  ACKNOWLEDGMENT.docx\n",
            "  ACKNOWLEDGMENT_2 (1).pdf\n",
            "  ACKNOWLEDGMENT_2.pdf\n",
            "  CONTENTS.docx\n",
            "  CONTENTS_2014_04_07_14_05_55_392 (1).pdf\n",
            "  CONTENTS_2014_04_07_14_05_55_392.pdf\n",
            "  certificate.docx\n",
            "  certificate_3 (1).pdf\n",
            "  certificate_3.pdf\n",
            "  complete report1now edited.docx\n",
            "  cover page.docx\n",
            "  cover page_2 (1).pdf\n",
            "  cover page_2.pdf\n",
            "  final collection.zip\n",
            "  final report (1).pdf\n",
            "  final report.docx\n",
            "  final report.pdf\n",
            "\n",
            "/content/drive/My Drive/medical prescription\n",
            "  scan.jpg\n",
            "\n",
            "/content/drive/My Drive/learning material\n",
            "  embedded linux/\n",
            "\n",
            "/content/drive/My Drive/learning material/embedded linux\n",
            "  Building.Embedded.Linux.Systems.pdf\n",
            "\n",
            "/content/drive/My Drive/MS\n",
            "  DS/\n",
            "\n",
            "/content/drive/My Drive/MS/DS\n",
            "  prog/\n",
            "\n",
            "/content/drive/My Drive/MS/DS/prog\n",
            "  1.c\n",
            "  2.c\n",
            "  3.c\n",
            "  BI_SE_TR.C\n",
            "  DDlink_sort_student.c\n",
            "  a.out\n",
            "  adj_list.c\n",
            "  ass1.c\n",
            "  ass1.o\n",
            "  ass10.c\n",
            "  ass12.c\n",
            "  ass2.c\n",
            "  ass4.c\n",
            "  ass9.c\n",
            "  bintree.c\n",
            "  bintree.c~\n",
            "  bst.c\n",
            "  btree.c\n",
            "  btree.c~\n",
            "  bubble_sort.c\n",
            "  empbtree.c\n",
            "  insertion_sort.c\n",
            "  intersection.c\n",
            "  merge_sort.c\n",
            "  quick_sort.c\n",
            "  selection_sort.c\n",
            "  splitlink.c\n",
            "  union.c\n",
            "\n",
            "/content/drive/My Drive/Python \n",
            "  Python Note/\n",
            "  Python book/\n",
            "  Python code/\n",
            "\n",
            "/content/drive/My Drive/Python /Python Note\n",
            "  helloworld.ipynb\n",
            "\n",
            "/content/drive/My Drive/Python /Python code\n",
            "  helloworld.ipynb.gdoc\n",
            "\n",
            "/content/drive/My Drive/Python /Python book\n",
            "  Flask Web Development.pdf\n",
            "  Python-For-Informatics-008.epub\n",
            "  The Python Workbook.pdf\n",
            "  diveintopython.txt\n",
            "\n",
            "/content/drive/My Drive/VOIP\n",
            "  HakinEN_TBO_2014.epub\n",
            "\n",
            "/content/drive/My Drive/TAX\n",
            "  CE17049398694.pdf\n",
            "  ECIS_FORM16_327437.PDF\n",
            "  Form16_VARITE I-1569.pdf\n",
            "  Income Tax Statement.pdf\n",
            "  payslip.pdf\n",
            "\n",
            "/content/drive/My Drive/linux notes\n",
            "  Evi Nemeth, Garth Snyder, Trent R. Hein - UNIX and Linux System Administration Handbook, 4th Edition - 2010.pdf\n",
            "  LSP.rar\n",
            "  PRE-RELEASE_The_Nagios_Book-05012006.pdf\n",
            "  RHCE-Anser.doc\n",
            "  RHCE.doc\n",
            "  TCP-IP-complete.pdf\n",
            "  device driver book/\n",
            "  ldd.rar\n",
            "  robert love-linux kernel development.pdf\n",
            "\n",
            "/content/drive/My Drive/linux notes/device driver book\n",
            "  Beginning Linux Programming, Third Edition.pdf\n",
            "  OS_8th_Edition.pdf\n",
            "  UnderStandingKernel.pdf\n",
            "  embedded-linux-slides.pdf\n",
            "  professional linux kernel development.pdf\n",
            "  robert love-linux kernel development.pdf\n",
            "  winCE6 Fundamentals.pdf\n",
            "\n",
            "/content/drive/My Drive/Mylife\n",
            "  BeautyPlus_20160319172316_fast.jpg\n",
            "  BeautyPlus_20160319172405_fast.jpg\n",
            "  BeautyPlus_20160319172449_fast.jpg\n",
            "  BeautyPlus_20160319172804_fast.jpg\n",
            "  BeautyPlus_20160319172833_fast.jpg\n",
            "  BeautyPlus_20160319172929_fast.jpg\n",
            "  BeautyPlus_20160319173012_fast.jpg\n",
            "  IMG-20150523-WA0012.jpg\n",
            "  IMG-20150523-WA0013.jpg\n",
            "  IMG-20150523-WA0015.jpg\n",
            "  IMG-20150531-WA0003.jpg\n",
            "  IMG-20150531-WA0004.jpg\n",
            "  IMG-20150531-WA0005.jpg\n",
            "  IMG-20150704-WA0001.jpg\n",
            "  IMG-20150704-WA0003.jpg\n",
            "  IMG_20150425_135323799.jpg\n",
            "  IMG_20150425_135332060.jpg\n",
            "  IMG_20150425_135345717.jpg\n",
            "  IMG_20150425_135758187.jpg\n",
            "  IMG_20150425_135804992.jpg\n",
            "  IMG_20160318_184354623.jpg\n",
            "  IMG_20160319_171902626 (1).jpg\n",
            "  IMG_20160319_171902626.jpg\n",
            "  IMG_20160319_171905110 (1).jpg\n",
            "  IMG_20160319_171905110.jpg\n",
            "  IMG_20160319_171920455_HDR.jpg\n",
            "  IMG_20160319_171936643_HDR (1).jpg\n",
            "  IMG_20160319_171936643_HDR.jpg\n",
            "  IMG_20160319_172039245_HDR.jpg\n",
            "  IMG_20160319_172044797_HDR (1).jpg\n",
            "  IMG_20160319_172044797_HDR.jpg\n",
            "  IMG_20160326_140217266.jpg\n",
            "  IMG_20160326_140220636.jpg\n",
            "  IMG_20160326_145035479.jpg\n",
            "  IMG_20160326_150058386.jpg\n",
            "  IMG_20160326_150132023.jpg\n",
            "  IMG_20160326_150727055.jpg\n",
            "  IMG_20160326_150731568.jpg\n",
            "  IMG_20160326_150757092.jpg\n",
            "  IMG_20160326_150901079.jpg\n",
            "  IMG_20160326_151530775.jpg\n",
            "  IMG_20160326_151654806.jpg\n",
            "  IMG_20160326_151706665.jpg\n",
            "  IMG_20160326_151949517.jpg\n",
            "  IMG_20160326_152015071_HDR.jpg\n",
            "  IMG_20160326_152028985.jpg\n",
            "  IMG_20160326_153349460.jpg\n",
            "  IMG_20160326_153359014.jpg\n",
            "  IMG_20160326_153412245.jpg\n",
            "  IMG_20160326_153730143.jpg\n",
            "  IMG_20160326_153744378_HDR.jpg\n",
            "  IMG_20160326_153752547_HDR.jpg\n",
            "  IMG_20160326_153809753.jpg\n",
            "  IMG_20160326_153830145.jpg\n",
            "  IMG_20160326_153932242.jpg\n",
            "  IMG_20160326_154003407.jpg\n",
            "  IMG_20160326_154851595_HDR.jpg\n",
            "  IMG_20160326_154858086.jpg\n",
            "  IMG_20160326_154930991.jpg\n",
            "  IMG_20160326_154948375.jpg\n",
            "  IMG_20160326_165402893_HDR.jpg\n",
            "  IMG_20160326_165417402.jpg\n",
            "  IMG_20160326_165432638.jpg\n",
            "  IMG_20160326_165445800.jpg\n",
            "  IMG_20160326_165530256_HDR.jpg\n",
            "  IMG_20160326_165551499.jpg\n",
            "  IMG_20160326_165557223_HDR.jpg\n",
            "  IMG_20160326_165621073.jpg\n",
            "  IMG_20160326_165646188.jpg\n",
            "  IMG_20160326_165648154_TOP.jpg\n",
            "  IMG_20160326_165816551.jpg\n",
            "  IMG_20160326_165833376.jpg\n",
            "  IMG_20160326_165925462.jpg\n",
            "  IMG_20160326_165946089_HDR.jpg\n",
            "  IMG_20160326_165958436.jpg\n",
            "  IMG_20160326_170016269_HDR.jpg\n",
            "  IMG_20160326_170028082.jpg\n",
            "  IMG_20160326_170040388.jpg\n",
            "  IMG_20160326_170044801.jpg\n",
            "  IMG_20160326_170324189_HDR.jpg\n",
            "  IMG_20160326_170352027_HDR.jpg\n",
            "  IMG_20160326_170416240_HDR.jpg\n",
            "  IMG_20160326_170432323_HDR.jpg\n",
            "  IMG_20160326_170438831.jpg\n",
            "  IMG_20160326_170444486.jpg\n",
            "  IMG_20160326_170518704_HDR.jpg\n",
            "  IMG_20160326_170521522_HDR.jpg\n",
            "  IMG_20160326_170531825 (1).jpg\n",
            "  IMG_20160326_170531825.jpg\n",
            "  VID-20150516-WA0016.mp4\n",
            "\n",
            "/content/drive/My Drive/Myphotos\n",
            "  IMG-20150417-WA0001 (1).jpg\n",
            "  IMG-20150417-WA0001.jpg\n",
            "  IMG-20150417-WA0002 (1).jpg\n",
            "  IMG-20150417-WA0002.jpg\n",
            "  IMG-20150417-WA0003 (1).jpg\n",
            "  IMG-20150417-WA0003.jpg\n",
            "  IMG-20150417-WA0004 (1).jpg\n",
            "  IMG-20150417-WA0004.jpg\n",
            "  IMG-20150417-WA0005 (1).jpg\n",
            "  IMG-20150417-WA0005.jpg\n",
            "  IMG-20150513-WA0000 (1).jpg\n",
            "  IMG-20150513-WA0000.jpg\n",
            "  IMG-20150513-WA0001 (1).jpg\n",
            "  IMG-20150513-WA0001.jpg\n",
            "  IMG-20150513-WA0002 (1).jpg\n",
            "  IMG-20150513-WA0002.jpg\n",
            "  IMG-20150513-WA0003 (1).jpg\n",
            "  IMG-20150513-WA0003.jpg\n",
            "\n",
            "/content/drive/My Drive/Setup Docs for IoT Hands on session\n",
            "  AT_Command_GSM.txt\n",
            "  AT_Command_WiFi.txt\n",
            "  Configuring Osmosis Platform_Apr17.pdf\n",
            "  ConfiguringOsmosis Platform.pdf\n",
            "  DHT11.zip\n",
            "  Demo.txt\n",
            "  Environment Setup_IoT_Bootcamp_10July17.pdf\n",
            "  GSM_CHECK.docx\n",
            "  GSM_MQTT_Axelta.zip\n",
            "  MAC OS X MANUAL FOR ARDUINO SOFTWARE.pdf\n",
            "  MAC_OSX_Arduino-1.6.X.zip\n",
            "  MAC_OS_RDP_connection.pdf\n",
            "  MQTT Lens installation.pdf\n",
            "  Steps for Imporing library.pdf\n",
            "  WIFI Demo.txt\n",
            "  WIFI_CHECK.docx\n",
            "  WINDOWS_OS_Arduino-1.6.X.zip\n",
            "  Windows7,8,8.1 MANUAL FOR ARDUINO SOFTWARE.pdf\n",
            "\n",
            "/content/drive/My Drive/certificates\n",
            "  BE/\n",
            "  DL/\n",
            "  Delete/\n",
            "  EAadhaar_606218127690_08022019110022_392182.pdf\n",
            "  ECI experience/\n",
            "  MS/\n",
            "  Namechange/\n",
            "  PUC/\n",
            "  Prathap_Relieving cum Experience Letter.pdf\n",
            "  SSLC/\n",
            "  birth_certificate.pdf\n",
            "  brisa/\n",
            "  hdfc2.pdf\n",
            "  id cards/\n",
            "  pan_self_attested.pdf\n",
            "  prathap Billava.pdf\n",
            "\n",
            "/content/drive/My Drive/certificates/ECI experience\n",
            "  SINBLR0011C18060509490.pdf\n",
            "  SINBLR0011C18060509500.pdf\n",
            "\n",
            "/content/drive/My Drive/certificates/brisa\n",
            "  16030311_19_46.pdf\n",
            "\n",
            "/content/drive/My Drive/certificates/MS\n",
            "  16040410_43_42.pdf\n",
            "  master_certificate.pdf\n",
            "\n",
            "/content/drive/My Drive/certificates/BE\n",
            "  16040410_42_37.pdf\n",
            "  16040410_43_07.pdf\n",
            "\n",
            "/content/drive/My Drive/certificates/SSLC\n",
            "  16040410_41_26.pdf\n",
            "\n",
            "/content/drive/My Drive/certificates/PUC\n",
            "  16040410_42_01.pdf\n",
            "\n",
            "/content/drive/My Drive/certificates/id cards\n",
            "  16040410_47_06.pdf\n",
            "  16040410_49_47.pdf\n",
            "\n",
            "/content/drive/My Drive/certificates/Namechange\n",
            "  04347276.jpg\n",
            "  EconomicTimesNewscopyA4.pdf\n",
            "  economicstimesNewscopyA0.pdf\n",
            "  namechange1\n",
            "\n",
            "/content/drive/My Drive/certificates/DL\n",
            "  Business Card Sep 18, 2019.pdf\n",
            "\n",
            "/content/drive/My Drive/certificates/Delete\n",
            "\n",
            "/content/drive/My Drive/Bill\n",
            "  Mobile bill/\n",
            "\n",
            "/content/drive/My Drive/Bill/Mobile bill\n",
            "  Lumia530_Invoice_4545883703.pdf\n",
            "\n",
            "/content/drive/My Drive/office\n",
            "  US218209.gslides\n",
            "\n",
            "/content/drive/My Drive/eci\n",
            "  3. ECI_FNF_327437_PRATHAP BILLAVA.xls\n",
            "  Employee Joining Form.doc\n",
            "  Employee Joining Form.doc.gdoc\n",
            "  Formal Offer letter - Prathap.pdf\n",
            "\n",
            "/content/drive/My Drive/professional Doc\n",
            "  IMG_20170919_222505049.jpg\n",
            "  IMG_20170919_222634194.jpg\n",
            "  Prathap Billava.pdf\n",
            "  Relieving letter from varite/\n",
            "\n",
            "/content/drive/My Drive/professional Doc/Relieving letter from varite\n",
            "  Prathap_Relieving cum Experience Letter.pdf\n",
            "\n",
            "/content/drive/My Drive/IMPORTANT\n",
            "  10081435884224.pdf\n",
            "  trading/\n",
            "\n",
            "/content/drive/My Drive/IMPORTANT/trading\n",
            "  Capture - Copy.PNG\n",
            "\n",
            "/content/drive/My Drive/Trade\n",
            "  ZL1050_03072017_1.pdf\n",
            "  kyc/\n",
            "  zerodha/\n",
            "\n",
            "/content/drive/My Drive/Trade/kyc\n",
            "  BDMPP6637G.pdf\n",
            "\n",
            "/content/drive/My Drive/Trade/zerodha\n",
            "  ZL1050_20112017_2.pdf\n",
            "\n",
            "/content/drive/My Drive/Online IoT Training\n",
            "  Axelta IoT Hands-on Tutorial/\n",
            "  Data Sheets/\n",
            "  Practicals Flow List.xlsx\n",
            "  Setup Docs for IoT Hands on session/\n",
            "  Videos/\n",
            "  WorkshopProjects.zip\n",
            "\n",
            "/content/drive/My Drive/Online IoT Training/Setup Docs for IoT Hands on session\n",
            "  AT_Command_GSM.txt\n",
            "  AT_Command_WiFi.txt\n",
            "  Configuring Osmosis Platform_Apr17.pdf\n",
            "  ConfiguringOsmosis Platform.pdf\n",
            "  DHT11.zip\n",
            "  Demo.txt\n",
            "  Environment Setup_IoT_Bootcamp_10July17.pdf\n",
            "  GSM_CHECK.docx\n",
            "  GSM_MQTT_Axelta.zip\n",
            "  MAC OS X MANUAL FOR ARDUINO SOFTWARE.pdf\n",
            "  MAC_OSX_Arduino-1.6.X.zip\n",
            "  MAC_OS_RDP_connection.pdf\n",
            "  MQTT Lens installation.pdf\n",
            "  Steps for Imporing library.pdf\n",
            "  WIFI Demo.txt\n",
            "  WIFI_CHECK.docx\n",
            "  WINDOWS_OS_Arduino-1.6.X.zip\n",
            "  Windows7,8,8.1 MANUAL FOR ARDUINO SOFTWARE.pdf\n",
            "\n",
            "/content/drive/My Drive/Online IoT Training/Data Sheets\n",
            "  GSM - SIM800_AT_Command_Manual_v1.01.pdf\n",
            "  GSM - SIM900_AT_Command_Manual_V1.03.pdf\n",
            "  Light - ldr.pdf\n",
            "  Power - PC817.pdf\n",
            "  Reed.pdf\n",
            "  SIM800_Hardware Design_V1.05.pdf\n",
            "  Temperature - lm35.pdf\n",
            "  WIFI-ESP8266__AT Instruction Set__EN_v0.25.pdf\n",
            "  dht11.pdf\n",
            "\n",
            "/content/drive/My Drive/Online IoT Training/Videos\n",
            "  Arduino_UNO_Introduction.mp4\n",
            "  Communication_Practical2.0_GSM.mp4\n",
            "  Communication_Practical2.1_SMS.mp4\n",
            "  Communication_Practical3_WiFi.mp4\n",
            "  Sensor_Practical.mp4\n",
            "\n",
            "/content/drive/My Drive/Online IoT Training/Axelta IoT Hands-on Tutorial\n",
            "  2.6.3 Vehicle sensor data into NoSQL MongoDB - Practical.pptx\n",
            "  2.6.4 Rest Webservices practical.pptx\n",
            "  2.7.1 Big Data analytics  Practical.pptx\n",
            "  2.7.2 Visual Analytics PRactical( NVD3 charts) PPT.pptx\n",
            "  4.1.Sensor practical.pdf\n",
            "  4.2.0.Communication Practical-1-GSM.pdf\n",
            "  4.2.1.Communication Practical-2.pdf\n",
            "  4.3.Communication Practical-3-WiFi.pdf\n",
            "  4_Actuating LED by MQTT_July17.pdf\n",
            "  5.1.Cloud Practical(AWS).pdf\n",
            "  5.2.Vehicle sensor data into NoSQL MongoDB - Practical.doc\n",
            "  5.3.1 Sending Data from Device to your Webservice.docx\n",
            "  5.3.REST webservice.doc\n",
            "  5.4.Big Data analytics  Practical.doc\n",
            "  5.5.User Manual on NVD3.docx\n",
            "  Basic IoT Practicals/\n",
            "  Hardware Code/\n",
            "  Induino R3 Overview.pdf\n",
            "  MQTT_SubscribeManual.pdf\n",
            "  MqttPublish Manual.pdf\n",
            "  OBTAINING HUMIDITY FROM DHT11.pdf\n",
            "  Software Code/\n",
            "\n",
            "/content/drive/My Drive/Online IoT Training/Axelta IoT Hands-on Tutorial/Software Code\n",
            "  Cloud Tutorials/\n",
            "\n",
            "/content/drive/My Drive/Online IoT Training/Axelta IoT Hands-on Tutorial/Software Code/Cloud Tutorials\n",
            "  Big Data Analytics/\n",
            "  Mongo DB/\n",
            "  WebServices/\n",
            "\n",
            "/content/drive/My Drive/Online IoT Training/Axelta IoT Hands-on Tutorial/Software Code/Cloud Tutorials/Big Data Analytics\n",
            "  10. MapReduce Example 4.txt\n",
            "  7. MapReduce Example 1.txt\n",
            "  8. MapReduce Example 2.txt\n",
            "  9. MapReduce Example 3 - Create Collection.txt\n",
            "  9. MapReduce Example 3 - Map Reduce.txt\n",
            "\n",
            "/content/drive/My Drive/Online IoT Training/Axelta IoT Hands-on Tutorial/Software Code/Cloud Tutorials/Mongo DB\n",
            "  Insert Record in Transaction Collection.txt\n",
            "  Insert Record in Trips Collection.txt\n",
            "\n",
            "/content/drive/My Drive/Online IoT Training/Axelta IoT Hands-on Tutorial/Software Code/Cloud Tutorials/WebServices\n",
            "  11. JSON - Test Post Method Call.txt\n",
            "  12. Exercise for Post Method - Complete Java Class.txt\n",
            "  12. Exercise for Post Method - JSON.txt\n",
            "  12. Exercise for Post Method - Store Function Java.txt\n",
            "  9. RestService.java.txt\n",
            "\n",
            "/content/drive/My Drive/Online IoT Training/Axelta IoT Hands-on Tutorial/Hardware Code\n",
            "  Code/\n",
            "\n",
            "/content/drive/My Drive/Online IoT Training/Axelta IoT Hands-on Tutorial/Hardware Code/Code\n",
            "  All sensors code.txt\n",
            "  Communication practical1_code.txt\n",
            "  Communication practical2_code.txt\n",
            "  Communication-practical3_code WiFi.txt\n",
            "  DHT11 - Library/\n",
            "  GSM_MQTT_Communication_Practical.txt\n",
            "  Sending Device Data to Your WebService - GSM.txt\n",
            "  Sending Device Data to Your WebService - WiFi.txt\n",
            "  Sensor practical_code.txt\n",
            "  WiFiEsp-master.zip\n",
            "  mqttpost.txt\n",
            "  mqttsub.txt\n",
            "  pubsubclient-master.zip\n",
            "\n",
            "/content/drive/My Drive/Online IoT Training/Axelta IoT Hands-on Tutorial/Hardware Code/Code/DHT11 - Library\n",
            "  dht11.cpp\n",
            "  dht11.h\n",
            "\n",
            "/content/drive/My Drive/Online IoT Training/Axelta IoT Hands-on Tutorial/Basic IoT Practicals\n",
            "  All sensors code.txt\n",
            "  Communication practical1_code.txt\n",
            "  Communication practical2_code.txt\n",
            "  Communication-practical3_code WiFi.txt\n",
            "  ConfiguringOsmosis Platform.pdf\n",
            "  Environment Setup.pdf\n",
            "  GSM - SIM800_AT_Command_Manual_v1.01.pdf\n",
            "  Light - ldr.pdf\n",
            "  MAC OS X MANUAL FOR ARDUINO SOFTWARE.pdf\n",
            "  Manual_Communication Practical-2.pdf\n",
            "  Manual_Communication_Practical-1-GSM.PDF\n",
            "  Manual_Communication_Practical-3-WiFi.PDF\n",
            "  Manual_Sensor practical.pdf\n",
            "  Power - PC817.pdf\n",
            "  Reed.pdf\n",
            "  SIM800_Hardware Design_V1.05.pdf\n",
            "  Sensor practical_code.txt\n",
            "  Steps for Imporing DHT11 library.pdf\n",
            "  Temperature - lm35.pdf\n",
            "  WIFI-ESP8266__AT Instruction Set__EN_v0.25.pdf\n",
            "  Windows7,8,8.1 MANUAL FOR ARDUINO SOFTWARE.pdf\n",
            "  dht11.pdf\n",
            "\n",
            "/content/drive/My Drive/eb\n",
            "  medical/\n",
            "  rent agreement/\n",
            "  salary/\n",
            "  target/\n",
            "\n",
            "/content/drive/My Drive/eb/rent agreement\n",
            "  SINBLR0011C18071209480.pdf\n",
            "\n",
            "/content/drive/My Drive/eb/medical\n",
            "  271025_Prathap Billava.pdf\n",
            "\n",
            "/content/drive/My Drive/eb/target\n",
            "  Prathap_Goals_2018.xlsx\n",
            "  ~$Prathap_Goals_2018.xlsx\n",
            "\n",
            "/content/drive/My Drive/eb/salary\n",
            "  271025_SalarySlipwithTaxDetails.pdf\n",
            "  salary bible.xlsx\n",
            "\n",
            "/content/drive/My Drive/app\n",
            "  Appa/\n",
            "\n",
            "/content/drive/My Drive/app/Appa\n",
            "  appa/\n",
            "\n",
            "/content/drive/My Drive/app/Appa/appa\n",
            "  20141116_173654.jpg\n",
            "  20141116_173700.jpg\n",
            "  20141116_173708.jpg\n",
            "\n",
            "/content/drive/My Drive/licence\n",
            "  DLforGeared Vehicle.pdf\n",
            "  LearnerLicense_bike.pdf\n",
            "  LearnerLicense_car.pdf\n",
            "\n",
            "/content/drive/My Drive/Vehicle doc\n",
            "  jupiterzx_insurance_receipt.pdf\n",
            "  jupiterzx_receipt.pdf\n",
            "  jupiterzx_tax_receipt.pdf\n",
            "\n",
            "/content/drive/My Drive/Delete\n",
            "  CLAIMFORM.pdf\n",
            "\n",
            "/content/drive/My Drive/Colab Notebooks\n",
            "  10_02.01.ipynb\n",
            "  Copy of Python_functional_programming_tutorial.ipynb\n",
            "  Lesson10_Python_For_Data_Science_Functional_Programming.ipynb.txt\n",
            "  Modular_Programming_and_Modules.ipynb\n",
            "  Multiprocessing_and_Multithreading.ipynb\n",
            "  Object_Oriented_Programming.ipynb\n",
            "  Python_functional_programming_tutorial.ipynb\n",
            "  Untitled0.ipynb\n",
            "  Untitled2.ipynb\n",
            "\n",
            "/content/drive/My Drive/simple_package\n",
            "\n",
            "/content/drive/My Drive/.ipynb_checkpoints\n",
            "\n",
            "/content/drive/My Drive/sound1\n",
            "  __init__.py\n",
            "  effects/\n",
            "  filters/\n",
            "  formats/\n",
            "\n",
            "/content/drive/My Drive/sound1/filters\n",
            "  __init__.py\n",
            "  equalizer.py\n",
            "  karaoke.py\n",
            "  vocoder.py\n",
            "\n",
            "/content/drive/My Drive/sound1/formats\n",
            "  __init__.py\n",
            "  aiffread.py\n",
            "  aiffwrite.py\n",
            "  auread.py\n",
            "  auwrite.py\n",
            "  wavread.py\n",
            "  wavwrite.py\n",
            "\n",
            "/content/drive/My Drive/sound1/effects\n",
            "  __init__.py\n",
            "  echo.py\n",
            "  reverse.py\n",
            "  surround.py\n",
            "\n",
            "/content/drive/.Trash\n",
            "\n",
            "/content/sample_data\n",
            "  README.md\n",
            "  anscombe.json\n",
            "  california_housing_test.csv\n",
            "  california_housing_train.csv\n",
            "  mnist_test.csv\n",
            "  mnist_train_small.csv\n",
            "\n"
          ],
          "name": "stdout"
        }
      ]
    },
    {
      "cell_type": "markdown",
      "metadata": {
        "id": "uQ_oGmldkLTG",
        "colab_type": "text"
      },
      "source": [
        "Creating and Deleting Directories"
      ]
    },
    {
      "cell_type": "code",
      "metadata": {
        "id": "NwNyzx_ykODg",
        "colab_type": "code",
        "colab": {
          "base_uri": "https://localhost:8080/",
          "height": 134
        },
        "outputId": "02d162ca-4fea-4a3e-ee84-9678922c03f7"
      },
      "source": [
        "import os\n",
        "import time \n",
        "dir_name = 'os_directories_example'\n",
        "print(os.listdir(os.getcwd()))\n",
        "print('Creating', dir_name)\n",
        "os.makedirs(dir_name)\n",
        "\n",
        "file_name = os.path.join(dir_name, 'example.txt')\n",
        "print('Creating', file_name)\n",
        "with open(file_name, 'wt') as f:\n",
        "    f.write('example file')\n",
        "print(os.listdir(os.getcwd()))\n",
        "print(os.listdir(os.path.join(os.getcwd(), dir_name)))\n",
        "time.sleep(5)\n",
        "print('Cleaning up')\n",
        "os.unlink(file_name)\n",
        "os.rmdir(dir_name)\n",
        "print(os.listdir(os.getcwd()))"
      ],
      "execution_count": null,
      "outputs": [
        {
          "output_type": "stream",
          "text": [
            "['.config', 'drive', 'sample_data']\n",
            "Creating os_directories_example\n",
            "Creating os_directories_example/example.txt\n",
            "['.config', 'os_directories_example', 'drive', 'sample_data']\n",
            "['example.txt']\n",
            "Cleaning up\n",
            "['.config', 'drive', 'sample_data']\n"
          ],
          "name": "stdout"
        }
      ]
    },
    {
      "cell_type": "markdown",
      "metadata": {
        "id": "uyOXI17trNGm",
        "colab_type": "text"
      },
      "source": [
        "### logging"
      ]
    },
    {
      "cell_type": "markdown",
      "metadata": {
        "id": "k3DrFnN7rVZ6",
        "colab_type": "text"
      },
      "source": [
        "The logging module defines a standard API for reporting errors and status information from applications and libraries"
      ]
    },
    {
      "cell_type": "code",
      "metadata": {
        "id": "3oPuO4QkpEBn",
        "colab_type": "code",
        "colab": {
          "base_uri": "https://localhost:8080/",
          "height": 101
        },
        "outputId": "ad7b0580-45db-4cfe-df33-b6545dadd5c1"
      },
      "source": [
        "import logging\n",
        "\n",
        "logging.basicConfig(level=logging.DEBUG)\n",
        "\n",
        "logging.debug('This is a debug message')\n",
        "logging.info('This is an info message')\n",
        "logging.warning('This is a warning message')\n",
        "logging.error('This is an error message')\n",
        "logging.critical('This is a critical error message')"
      ],
      "execution_count": null,
      "outputs": [
        {
          "output_type": "stream",
          "text": [
            "DEBUG:root:This is a debug message\n",
            "INFO:root:This is an info message\n",
            "WARNING:root:This is a warning message\n",
            "ERROR:root:This is an error message\n",
            "CRITICAL:root:This is a critical error message\n"
          ],
          "name": "stderr"
        }
      ]
    },
    {
      "cell_type": "code",
      "metadata": {
        "id": "6QHc4tp9rdqw",
        "colab_type": "code",
        "colab": {
          "base_uri": "https://localhost:8080/",
          "height": 246
        },
        "outputId": "b51d5887-eb0b-43e0-b61e-37914b99b811"
      },
      "source": [
        "import logging\n",
        "\n",
        "LOG_FILENAME = 'logging_example.out'\n",
        "logging.basicConfig(\n",
        "    filename=LOG_FILENAME,\n",
        "    level=logging.DEBUG,\n",
        ")\n",
        "\n",
        "logging.debug('This message should go to the log file')\n",
        "\n",
        "with open(LOG_FILENAME, 'rt') as f:\n",
        "    body = f.read()\n",
        "\n",
        "print('FILE:')\n",
        "print(body)"
      ],
      "execution_count": null,
      "outputs": [
        {
          "output_type": "stream",
          "text": [
            "DEBUG:root:This message should go to the log file\n"
          ],
          "name": "stderr"
        },
        {
          "output_type": "error",
          "ename": "FileNotFoundError",
          "evalue": "ignored",
          "traceback": [
            "\u001b[0;31m---------------------------------------------------------------------------\u001b[0m",
            "\u001b[0;31mFileNotFoundError\u001b[0m                         Traceback (most recent call last)",
            "\u001b[0;32m<ipython-input-22-7fd238ee6cb6>\u001b[0m in \u001b[0;36m<module>\u001b[0;34m()\u001b[0m\n\u001b[1;32m      9\u001b[0m \u001b[0mlogging\u001b[0m\u001b[0;34m.\u001b[0m\u001b[0mdebug\u001b[0m\u001b[0;34m(\u001b[0m\u001b[0;34m'This message should go to the log file'\u001b[0m\u001b[0;34m)\u001b[0m\u001b[0;34m\u001b[0m\u001b[0;34m\u001b[0m\u001b[0m\n\u001b[1;32m     10\u001b[0m \u001b[0;34m\u001b[0m\u001b[0m\n\u001b[0;32m---> 11\u001b[0;31m \u001b[0;32mwith\u001b[0m \u001b[0mopen\u001b[0m\u001b[0;34m(\u001b[0m\u001b[0mLOG_FILENAME\u001b[0m\u001b[0;34m,\u001b[0m \u001b[0;34m'rt'\u001b[0m\u001b[0;34m)\u001b[0m \u001b[0;32mas\u001b[0m \u001b[0mf\u001b[0m\u001b[0;34m:\u001b[0m\u001b[0;34m\u001b[0m\u001b[0;34m\u001b[0m\u001b[0m\n\u001b[0m\u001b[1;32m     12\u001b[0m     \u001b[0mbody\u001b[0m \u001b[0;34m=\u001b[0m \u001b[0mf\u001b[0m\u001b[0;34m.\u001b[0m\u001b[0mread\u001b[0m\u001b[0;34m(\u001b[0m\u001b[0;34m)\u001b[0m\u001b[0;34m\u001b[0m\u001b[0;34m\u001b[0m\u001b[0m\n\u001b[1;32m     13\u001b[0m \u001b[0;34m\u001b[0m\u001b[0m\n",
            "\u001b[0;31mFileNotFoundError\u001b[0m: [Errno 2] No such file or directory: 'logging_example.out'"
          ]
        }
      ]
    },
    {
      "cell_type": "markdown",
      "metadata": {
        "id": "nqnYIkvfpNtU",
        "colab_type": "text"
      },
      "source": [
        "## Creating Modules"
      ]
    },
    {
      "cell_type": "markdown",
      "metadata": {
        "id": "rml50Cl7pZmY",
        "colab_type": "text"
      },
      "source": [
        " A module in Python is just a file containing Python definitions and statements. The module name is moulded out of the file name by removing the suffix .py. For example, if the file name is fibonacci.py, the module name is fibonacci"
      ]
    },
    {
      "cell_type": "code",
      "metadata": {
        "id": "V-2z0t9UsWVu",
        "colab_type": "code",
        "colab": {}
      },
      "source": [
        "# content of fibonacci.py\n",
        "def fib(n):\n",
        "    if n == 0:\n",
        "        return 0\n",
        "    elif n == 1:\n",
        "        return 1\n",
        "    else:\n",
        "        return fib(n-1) + fib(n-2)\n",
        "def lfib(n):\n",
        "    a, b = 0, 1\n",
        "    for i in range(n):\n",
        "        a, b = b, a + b\n",
        "    return a"
      ],
      "execution_count": null,
      "outputs": []
    },
    {
      "cell_type": "markdown",
      "metadata": {
        "id": "Jj3bweltp7w0",
        "colab_type": "text"
      },
      "source": [
        "Let's turn our Fibonacci functions into a module"
      ]
    },
    {
      "cell_type": "code",
      "metadata": {
        "id": "XjMK9kJSp8jk",
        "colab_type": "code",
        "colab": {
          "base_uri": "https://localhost:8080/",
          "height": 34
        },
        "outputId": "13d48ae1-c2ae-41c9-cc1f-f2eb9947b221"
      },
      "source": [
        "import fibonacci\n",
        "fibonacci.fib(7)"
      ],
      "execution_count": null,
      "outputs": [
        {
          "output_type": "execute_result",
          "data": {
            "text/plain": [
              "13"
            ]
          },
          "metadata": {
            "tags": []
          },
          "execution_count": 23
        }
      ]
    },
    {
      "cell_type": "code",
      "metadata": {
        "id": "pOeUJmu-qCVg",
        "colab_type": "code",
        "colab": {
          "base_uri": "https://localhost:8080/",
          "height": 34
        },
        "outputId": "195463e0-f96b-4444-defb-94a7cb3d566c"
      },
      "source": [
        "fibonacci.lfib(7)"
      ],
      "execution_count": null,
      "outputs": [
        {
          "output_type": "execute_result",
          "data": {
            "text/plain": [
              "13"
            ]
          },
          "metadata": {
            "tags": []
          },
          "execution_count": 24
        }
      ]
    },
    {
      "cell_type": "markdown",
      "metadata": {
        "id": "-HjGDRt9qjbD",
        "colab_type": "text"
      },
      "source": [
        "Names from a module can directly be imported into the importing module's symbol table"
      ]
    },
    {
      "cell_type": "code",
      "metadata": {
        "id": "-fpdL0yeqkM0",
        "colab_type": "code",
        "colab": {
          "base_uri": "https://localhost:8080/",
          "height": 34
        },
        "outputId": "fd832360-6d92-4b61-fb36-c5ec4624b2f9"
      },
      "source": [
        "from fibonacci import fib, lfib\n",
        "lfib(5)"
      ],
      "execution_count": null,
      "outputs": [
        {
          "output_type": "execute_result",
          "data": {
            "text/plain": [
              "5"
            ]
          },
          "metadata": {
            "tags": []
          },
          "execution_count": 25
        }
      ]
    },
    {
      "cell_type": "code",
      "metadata": {
        "id": "FFoxmcIkrHc3",
        "colab_type": "code",
        "colab": {
          "base_uri": "https://localhost:8080/",
          "height": 34
        },
        "outputId": "8b852e5e-45bc-4189-d835-aeebe5f2dc8f"
      },
      "source": [
        "from fibonacci import *\n",
        "fib(5)"
      ],
      "execution_count": null,
      "outputs": [
        {
          "output_type": "execute_result",
          "data": {
            "text/plain": [
              "5"
            ]
          },
          "metadata": {
            "tags": []
          },
          "execution_count": 26
        }
      ]
    },
    {
      "cell_type": "markdown",
      "metadata": {
        "id": "W0N1zNMhNizZ",
        "colab_type": "text"
      },
      "source": [
        "#### Problem 1. Create a calculator module and define add(), sub(), mul(), div() function to do addition , substraction, multiplication, division operation. import these function and test it  "
      ]
    },
    {
      "cell_type": "code",
      "metadata": {
        "id": "4PVDE9UhOJiD",
        "colab_type": "code",
        "colab": {
          "base_uri": "https://localhost:8080/",
          "height": 84
        },
        "outputId": "468bd182-45e8-4fd5-a1f9-7edeb64e0439"
      },
      "source": [
        "from calculator import add, sub, mul, div\n",
        "print(add(3,5))\n",
        "print(sub(5,4))\n",
        "print(mul(4,6))\n",
        "print(div(6,3))"
      ],
      "execution_count": null,
      "outputs": [
        {
          "output_type": "stream",
          "text": [
            "8\n",
            "1\n",
            "24\n",
            "2.0\n"
          ],
          "name": "stdout"
        }
      ]
    },
    {
      "cell_type": "markdown",
      "metadata": {
        "id": "yR1iOdmTrbTT",
        "colab_type": "text"
      },
      "source": [
        "##Packages in Python"
      ]
    },
    {
      "cell_type": "markdown",
      "metadata": {
        "id": "Q1-1FQSHeWDR",
        "colab_type": "text"
      },
      "source": [
        "A package is basically a directory with Python files and a file with the name \\_\\_init\\_\\_.py. This means that every directory inside of the Python path, which contains a file named \\_\\_init\\_\\_.py, will be treated as a package by Python. It's possible to put several modules into a Package"
      ]
    },
    {
      "cell_type": "markdown",
      "metadata": {
        "id": "MWOMpxikUxIY",
        "colab_type": "text"
      },
      "source": [
        "### Creating Package"
      ]
    },
    {
      "cell_type": "markdown",
      "metadata": {
        "id": "6wmyX00Siaoq",
        "colab_type": "text"
      },
      "source": [
        "lets create package simple_package. create directory simple_package. write 2 modules a.py and b.py as show below\n"
      ]
    },
    {
      "cell_type": "markdown",
      "metadata": {
        "id": "TiYCO_s3kmi7",
        "colab_type": "text"
      },
      "source": [
        "create a.py with following content"
      ]
    },
    {
      "cell_type": "code",
      "metadata": {
        "id": "2Wl38tRNkt5J",
        "colab_type": "code",
        "colab": {}
      },
      "source": [
        "def bar():\n",
        "    print(\"Hello, function 'bar' from module 'a' calling\")"
      ],
      "execution_count": null,
      "outputs": []
    },
    {
      "cell_type": "markdown",
      "metadata": {
        "id": "sTLt53Lrk0RG",
        "colab_type": "text"
      },
      "source": [
        "create b.py with following content "
      ]
    },
    {
      "cell_type": "code",
      "metadata": {
        "id": "czLzBx_xk5ro",
        "colab_type": "code",
        "colab": {}
      },
      "source": [
        "def foo():\n",
        "    print(\"Hello, function 'foo' from module 'b' calling\")"
      ],
      "execution_count": null,
      "outputs": []
    },
    {
      "cell_type": "code",
      "metadata": {
        "id": "u_MvxUKllJ73",
        "colab_type": "code",
        "colab": {
          "base_uri": "https://localhost:8080/",
          "height": 50
        },
        "outputId": "2868757a-89c6-4d4d-b587-8022137b3b7b"
      },
      "source": [
        "from simple_pkg import a, b\n",
        "a.bar()\n",
        "b.foo()\n"
      ],
      "execution_count": null,
      "outputs": [
        {
          "output_type": "stream",
          "text": [
            "Hello, function 'bar' from module 'a' calling\n",
            "Hello, function 'foo' from module 'b' calling\n"
          ],
          "name": "stdout"
        }
      ]
    },
    {
      "cell_type": "code",
      "metadata": {
        "id": "ML_RkBa4mlKj",
        "colab_type": "code",
        "colab": {}
      },
      "source": [
        ""
      ],
      "execution_count": null,
      "outputs": []
    },
    {
      "cell_type": "markdown",
      "metadata": {
        "id": "apQY_JxtSxNO",
        "colab_type": "text"
      },
      "source": [
        "Problem 2. Create a calculator package and define myadd.py, mysub.py with add() and sub() function to do addition , substraction operation. import these function and test it"
      ]
    },
    {
      "cell_type": "code",
      "metadata": {
        "id": "ZCp7lZ1nmWNh",
        "colab_type": "code",
        "colab": {
          "base_uri": "https://localhost:8080/",
          "height": 330
        },
        "outputId": "52de8542-bf9f-4704-8958-2ddcff2a7380"
      },
      "source": [
        "from calculator import myadd, mysub\n",
        "print(myadd.add(5,6))\n",
        "print(myadd.sub(5,6))"
      ],
      "execution_count": null,
      "outputs": [
        {
          "output_type": "error",
          "ename": "ImportError",
          "evalue": "ignored",
          "traceback": [
            "\u001b[0;31m---------------------------------------------------------------------------\u001b[0m",
            "\u001b[0;31mImportError\u001b[0m                               Traceback (most recent call last)",
            "\u001b[0;32m<ipython-input-32-8da48358bb5c>\u001b[0m in \u001b[0;36m<module>\u001b[0;34m()\u001b[0m\n\u001b[0;32m----> 1\u001b[0;31m \u001b[0;32mfrom\u001b[0m \u001b[0mcalculator\u001b[0m \u001b[0;32mimport\u001b[0m \u001b[0mmyadd\u001b[0m\u001b[0;34m,\u001b[0m \u001b[0mmysub\u001b[0m\u001b[0;34m\u001b[0m\u001b[0;34m\u001b[0m\u001b[0m\n\u001b[0m\u001b[1;32m      2\u001b[0m \u001b[0mprint\u001b[0m\u001b[0;34m(\u001b[0m\u001b[0mmyadd\u001b[0m\u001b[0;34m.\u001b[0m\u001b[0madd\u001b[0m\u001b[0;34m(\u001b[0m\u001b[0;36m5\u001b[0m\u001b[0;34m,\u001b[0m\u001b[0;36m6\u001b[0m\u001b[0;34m)\u001b[0m\u001b[0;34m)\u001b[0m\u001b[0;34m\u001b[0m\u001b[0;34m\u001b[0m\u001b[0m\n\u001b[1;32m      3\u001b[0m \u001b[0mprint\u001b[0m\u001b[0;34m(\u001b[0m\u001b[0mmyadd\u001b[0m\u001b[0;34m.\u001b[0m\u001b[0msub\u001b[0m\u001b[0;34m(\u001b[0m\u001b[0;36m5\u001b[0m\u001b[0;34m,\u001b[0m\u001b[0;36m6\u001b[0m\u001b[0;34m)\u001b[0m\u001b[0;34m)\u001b[0m\u001b[0;34m\u001b[0m\u001b[0;34m\u001b[0m\u001b[0m\n",
            "\u001b[0;31mImportError\u001b[0m: cannot import name 'myadd'",
            "",
            "\u001b[0;31m---------------------------------------------------------------------------\u001b[0;32m\nNOTE: If your import is failing due to a missing package, you can\nmanually install dependencies using either !pip or !apt.\n\nTo view examples of installing some common dependencies, click the\n\"Open Examples\" button below.\n\u001b[0;31m---------------------------------------------------------------------------\u001b[0m\n"
          ]
        }
      ]
    }
  ]
}