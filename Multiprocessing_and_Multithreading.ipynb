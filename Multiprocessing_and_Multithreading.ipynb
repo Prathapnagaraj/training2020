{
  "nbformat": 4,
  "nbformat_minor": 0,
  "metadata": {
    "colab": {
      "name": "Multiprocessing_and_Multithreading.ipynb",
      "provenance": [],
      "collapsed_sections": [],
      "authorship_tag": "ABX9TyMtBdGL/jJ7p4zOFrYCdun+",
      "include_colab_link": true
    },
    "kernelspec": {
      "name": "python3",
      "display_name": "Python 3"
    }
  },
  "cells": [
    {
      "cell_type": "markdown",
      "metadata": {
        "id": "view-in-github",
        "colab_type": "text"
      },
      "source": [
        "<a href=\"https://colab.research.google.com/github/Prathapnagaraj/training2020/blob/master/Multiprocessing_and_Multithreading.ipynb\" target=\"_parent\"><img src=\"https://colab.research.google.com/assets/colab-badge.svg\" alt=\"Open In Colab\"/></a>"
      ]
    },
    {
      "cell_type": "markdown",
      "metadata": {
        "id": "ZL4pXBP6nPd2",
        "colab_type": "text"
      },
      "source": [
        "# Parallel / Concurrent Programming in Python"
      ]
    },
    {
      "cell_type": "markdown",
      "metadata": {
        "id": "6xdGUfYYRroL",
        "colab_type": "text"
      },
      "source": [
        "In Parallel programming we divide problem into small units which can be run parallel.\n",
        "\n",
        "In Cuncurrent Programming executing the task in cooperative manner.\n",
        "Lets say we have 5 processes are running in 2 core CPU. ideally 2 process can run at a time . let say one of the process is waiting for user response . mean time that particular process is paused and another process is scheduled to run. Similarly all of the processes will be completed in co-operative manner  \n",
        "\n",
        "Parallel/Concurrent programming can increase the number of tasks done by your program which reduces the overall processing time"
      ]
    },
    {
      "cell_type": "markdown",
      "metadata": {
        "id": "Ey8DoUianSZE",
        "colab_type": "text"
      },
      "source": [
        "Python provide lot of sophisticated tools for managing cocurrent operations using processes and threads. "
      ]
    },
    {
      "cell_type": "markdown",
      "metadata": {
        "id": "zilAo8fjXKWV",
        "colab_type": "text"
      },
      "source": [
        "egs:Lets say i want to make sure list of website is always accessible from my private network . if not i need to notify admin saying what are the sites not accessible "
      ]
    },
    {
      "cell_type": "code",
      "metadata": {
        "id": "vKcoP5FTYc2q",
        "colab_type": "code",
        "colab": {}
      },
      "source": [
        "import time\n",
        "import logging\n",
        "import requests\n",
        " \n",
        " \n",
        "class WebsiteDownException(Exception):\n",
        "    pass\n",
        " \n",
        " \n",
        "def ping_website(address, timeout=20):\n",
        "    \"\"\"\n",
        "    Check if a website is down. A website is considered down \n",
        "    if either the status_code >= 400 or if the timeout expires\n",
        "     \n",
        "    Throw a WebsiteDownException if any of the website down conditions are met\n",
        "    \"\"\"\n",
        "    try:\n",
        "        response = requests.head(address, timeout=timeout)\n",
        "        if response.status_code >= 400:\n",
        "            logging.warning(\"Website %s returned status_code=%s\" % (address, response.status_code))\n",
        "            raise WebsiteDownException()\n",
        "    except requests.exceptions.RequestException:\n",
        "        logging.warning(\"Timeout expired for website %s\" % address)\n",
        "        raise WebsiteDownException()\n",
        "         \n",
        " \n",
        "def notify_owner(address):\n",
        "    \"\"\" \n",
        "    Send the owner of the address a notification that their website is down \n",
        "     \n",
        "    For now, we're just going to sleep for 0.5 seconds but this is where \n",
        "    you would send an email, push notification or text-message\n",
        "    \"\"\"\n",
        "    logging.info(\"Notifying the owner of %s website\" % address)\n",
        "    time.sleep(0.5)\n",
        "     \n",
        " \n",
        "def check_website(address):\n",
        "    \"\"\"\n",
        "    Utility function: check if a website is down, if so, notify the user\n",
        "    \"\"\"\n",
        "    try:\n",
        "        ping_website(address)\n",
        "    except WebsiteDownException:\n",
        "        notify_owner(address)\n",
        "\n",
        "WEBSITE_LIST = [\n",
        "    'http://envato.com',\n",
        "    'http://amazon.co.uk',\n",
        "    'http://amazon.com',\n",
        "    'http://facebook.com',\n",
        "    'http://google.com',\n",
        "    'http://google.fr',\n",
        "    'http://google.es',\n",
        "    'http://google.co.uk',\n",
        "    'http://internet.org',\n",
        "    'http://gmail.com',\n",
        "    'http://stackoverflow.com',\n",
        "    'http://github.com',\n",
        "    'http://heroku.com',\n",
        "    'http://really-cool-available-domain.com',\n",
        "    'http://djangoproject.com',\n",
        "    'http://rubyonrails.org',\n",
        "    'http://basecamp.com',\n",
        "    'http://trello.com',\n",
        "    'http://yiiframework.com',\n",
        "    'http://shopify.com',\n",
        "    'http://another-really-interesting-domain.co',\n",
        "    'http://airbnb.com',\n",
        "    'http://instagram.com',\n",
        "    'http://snapchat.com',\n",
        "    'http://youtube.com',\n",
        "    'http://baidu.com',\n",
        "    'http://yahoo.com',\n",
        "    'http://live.com',\n",
        "    'http://linkedin.com',\n",
        "    'http://yandex.ru',\n",
        "    'http://netflix.com',\n",
        "    'http://wordpress.com',\n",
        "    'http://bing.com',\n",
        "]\n"
      ],
      "execution_count": 1,
      "outputs": []
    },
    {
      "cell_type": "markdown",
      "metadata": {
        "id": "LQzq04VlYnhy",
        "colab_type": "text"
      },
      "source": [
        "Serial Approach"
      ]
    },
    {
      "cell_type": "code",
      "metadata": {
        "id": "M4nL-AllYqK7",
        "colab_type": "code",
        "colab": {
          "base_uri": "https://localhost:8080/",
          "height": 67
        },
        "outputId": "c91eb1c0-cad0-4718-9794-bbaaf5ca7974"
      },
      "source": [
        "import time\n",
        " \n",
        " \n",
        "start_time = time.time()\n",
        " \n",
        "for address in WEBSITE_LIST:\n",
        "    check_website(address)\n",
        "         \n",
        "end_time = time.time()        \n",
        " \n",
        "print(\"Time for SerialSquirrel: %ssecs\" % (end_time - start_time))\n",
        " "
      ],
      "execution_count": 2,
      "outputs": [
        {
          "output_type": "stream",
          "text": [
            "WARNING:root:Timeout expired for website http://really-cool-available-domain.com\n",
            "WARNING:root:Timeout expired for website http://another-really-interesting-domain.co\n"
          ],
          "name": "stderr"
        },
        {
          "output_type": "stream",
          "text": [
            "Time for SerialSquirrel: 5.440550327301025secs\n"
          ],
          "name": "stdout"
        }
      ]
    },
    {
      "cell_type": "markdown",
      "metadata": {
        "id": "P07-_pojY460",
        "colab_type": "text"
      },
      "source": [
        "The Parallel Approach"
      ]
    },
    {
      "cell_type": "code",
      "metadata": {
        "id": "X62HONYFY8gl",
        "colab_type": "code",
        "colab": {
          "base_uri": "https://localhost:8080/",
          "height": 67
        },
        "outputId": "09fdea4b-43c3-4fa5-9212-b2f18c4ef239"
      },
      "source": [
        "import time\n",
        "import socket\n",
        "import multiprocessing\n",
        " \n",
        "NUM_WORKERS = 2\n",
        " \n",
        "start_time = time.time()\n",
        " \n",
        "with multiprocessing.Pool(processes=NUM_WORKERS) as pool:\n",
        "    results = pool.map_async(check_website, WEBSITE_LIST)\n",
        "    results.wait()\n",
        " \n",
        "end_time = time.time()        \n",
        " \n",
        "print(\"Time for MultiProcessingSquirrel: %ssecs\" % (end_time - start_time))\n",
        " \n",
        "# WARNING:root:Timeout expired for website http://really-cool-available-domain.com\n",
        "# WARNING:root:Timeout expired for website http://another-really-interesting-domain.co\n",
        "# WARNING:root:Website http://bing.com returned status_code=405"
      ],
      "execution_count": 5,
      "outputs": [
        {
          "output_type": "stream",
          "text": [
            "WARNING:root:Timeout expired for website http://really-cool-available-domain.com\n",
            "WARNING:root:Timeout expired for website http://another-really-interesting-domain.co\n"
          ],
          "name": "stderr"
        },
        {
          "output_type": "stream",
          "text": [
            "Time for MultiProcessingSquirrel: 3.2245585918426514secs\n"
          ],
          "name": "stdout"
        }
      ]
    },
    {
      "cell_type": "markdown",
      "metadata": {
        "id": "axA8Sp07ZF8d",
        "colab_type": "text"
      },
      "source": [
        "Cucurrent Approach"
      ]
    },
    {
      "cell_type": "code",
      "metadata": {
        "id": "ME4u5HeMZKju",
        "colab_type": "code",
        "colab": {
          "base_uri": "https://localhost:8080/",
          "height": 67
        },
        "outputId": "88a86fa0-32b3-4efb-a33a-d613c2283523"
      },
      "source": [
        "import time\n",
        "from queue import Queue\n",
        "from threading import Thread\n",
        " \n",
        "NUM_WORKERS = 2\n",
        "task_queue = Queue()\n",
        " \n",
        "def worker():\n",
        "    # Constantly check the queue for addresses\n",
        "    while True:\n",
        "        address = task_queue.get()\n",
        "        check_website(address)\n",
        "         \n",
        "        # Mark the processed task as done\n",
        "        task_queue.task_done()\n",
        " \n",
        "start_time = time.time()\n",
        "         \n",
        "# Create the worker threads\n",
        "threads = [Thread(target=worker) for _ in range(NUM_WORKERS)]\n",
        " \n",
        "# Add the websites to the task queue\n",
        "[task_queue.put(item) for item in WEBSITE_LIST]\n",
        " \n",
        "# Start all the workers\n",
        "[thread.start() for thread in threads]\n",
        " \n",
        "# Wait for all the tasks in the queue to be processed\n",
        "task_queue.join()\n",
        " \n",
        "         \n",
        "end_time = time.time()        \n",
        " \n",
        "print(\"Time for ThreadedSquirrel: %ssecs\" % (end_time - start_time))"
      ],
      "execution_count": 6,
      "outputs": [
        {
          "output_type": "stream",
          "text": [
            "WARNING:root:Timeout expired for website http://really-cool-available-domain.com\n",
            "WARNING:root:Timeout expired for website http://another-really-interesting-domain.co\n"
          ],
          "name": "stderr"
        },
        {
          "output_type": "stream",
          "text": [
            "Time for ThreadedSquirrel: 2.3150153160095215secs\n"
          ],
          "name": "stdout"
        }
      ]
    },
    {
      "cell_type": "markdown",
      "metadata": {
        "id": "Y0Nd10pbQrM3",
        "colab_type": "text"
      },
      "source": [
        "#Python Multiprocessing\n"
      ]
    },
    {
      "cell_type": "markdown",
      "metadata": {
        "id": "_a1x3CBJQtDu",
        "colab_type": "text"
      },
      "source": [
        "Parallel processing is getting more attention nowdays . As CPU manufactures start adding more and more cores to their processors , creating parallel code is a great way to improve performance. **multiprocessing** is python module provide facitlity to develop parallel code"
      ]
    },
    {
      "cell_type": "markdown",
      "metadata": {
        "id": "ZXwVgoOzaR8d",
        "colab_type": "text"
      },
      "source": [
        "let look at simple example with single processing"
      ]
    },
    {
      "cell_type": "code",
      "metadata": {
        "id": "azuPNcRGaVdL",
        "colab_type": "code",
        "colab": {
          "base_uri": "https://localhost:8080/",
          "height": 202
        },
        "outputId": "a7050e15-8fc8-4ada-e5a0-8a704b143a72"
      },
      "source": [
        "import time\n",
        "\n",
        "def basic_func(x):\n",
        "    if x == 0:\n",
        "        return 'zero'\n",
        "    elif x%2 == 0:\n",
        "        return 'even'\n",
        "    else:\n",
        "        return 'odd'\n",
        "    \n",
        "starttime = time.time()\n",
        "for i in range(0,10):\n",
        "    y = i*i\n",
        "    time.sleep(2)\n",
        "    print('{} squared results in a/an {} number'.format(i, basic_func(y)))\n",
        "    \n",
        "print('That took {} seconds'.format(time.time() - starttime))"
      ],
      "execution_count": null,
      "outputs": [
        {
          "output_type": "stream",
          "text": [
            "0 squared results in a/an zero number\n",
            "1 squared results in a/an odd number\n",
            "2 squared results in a/an even number\n",
            "3 squared results in a/an odd number\n",
            "4 squared results in a/an even number\n",
            "5 squared results in a/an odd number\n",
            "6 squared results in a/an even number\n",
            "7 squared results in a/an odd number\n",
            "8 squared results in a/an even number\n",
            "9 squared results in a/an odd number\n",
            "That took 20.023037433624268 seconds\n"
          ],
          "name": "stdout"
        }
      ]
    },
    {
      "cell_type": "markdown",
      "metadata": {
        "id": "bkBAbk6QasVA",
        "colab_type": "text"
      },
      "source": [
        "with multi processing"
      ]
    },
    {
      "cell_type": "code",
      "metadata": {
        "id": "fK0_AtVWaySc",
        "colab_type": "code",
        "colab": {
          "base_uri": "https://localhost:8080/",
          "height": 202
        },
        "outputId": "16d2f1e4-1329-4da8-cb5c-41e5198ac672"
      },
      "source": [
        "import time\n",
        "import multiprocessing \n",
        "\n",
        "def basic_func(x):\n",
        "    if x == 0:\n",
        "        return 'zero'\n",
        "    elif x%2 == 0:\n",
        "        return 'even'\n",
        "    else:\n",
        "        return 'odd'\n",
        "\n",
        "def multiprocessing_func(x):\n",
        "    y = x*x\n",
        "    time.sleep(2)\n",
        "    print('{} squared results in a/an {} number'.format(x, basic_func(y)))\n",
        "    \n",
        "if __name__ == '__main__':\n",
        "    starttime = time.time()\n",
        "    processes = []\n",
        "    for i in range(0,10):\n",
        "        p = multiprocessing.Process(target=multiprocessing_func, args=(i,))\n",
        "        processes.append(p)\n",
        "        p.start()\n",
        "        \n",
        "    for process in processes:\n",
        "        process.join()\n",
        "        \n",
        "    print('That took {} seconds'.format(time.time() - starttime))"
      ],
      "execution_count": null,
      "outputs": [
        {
          "output_type": "stream",
          "text": [
            "0 squared results in a/an zero number\n",
            "1 squared results in a/an odd number\n",
            "2 squared results in a/an even number\n",
            "3 squared results in a/an odd number\n",
            "4 squared results in a/an even number\n",
            "5 squared results in a/an odd number\n",
            "6 squared results in a/an even number\n",
            "7 squared results in a/an odd number\n",
            "9 squared results in a/an odd number\n",
            "8 squared results in a/an even number\n",
            "That took 2.069441318511963 seconds\n"
          ],
          "name": "stdout"
        }
      ]
    },
    {
      "cell_type": "markdown",
      "metadata": {
        "id": "NR7-HhpvRmEU",
        "colab_type": "text"
      },
      "source": [
        "##multiprocessing basics"
      ]
    },
    {
      "cell_type": "markdown",
      "metadata": {
        "id": "cUgqt2ZNSG5t",
        "colab_type": "text"
      },
      "source": [
        "There are plenty of classes in python multiprocessing module for building a parallel program. Among them, three basic classes are Process, Queue and Lock. These classes will help you to build a parallel program"
      ]
    },
    {
      "cell_type": "markdown",
      "metadata": {
        "id": "kSdB8qtbSd2r",
        "colab_type": "text"
      },
      "source": [
        "But before describing about those . let see how many cores you system supports"
      ]
    },
    {
      "cell_type": "code",
      "metadata": {
        "id": "ej4mIX3gSlC1",
        "colab_type": "code",
        "colab": {
          "base_uri": "https://localhost:8080/",
          "height": 34
        },
        "outputId": "bd17db76-5d2d-4fed-8db7-c84bcfa2d8c4"
      },
      "source": [
        "import multiprocessing\n",
        "\n",
        "print(\"Number of cpu : \", multiprocessing.cpu_count())"
      ],
      "execution_count": null,
      "outputs": [
        {
          "output_type": "stream",
          "text": [
            "Number of cpu :  2\n"
          ],
          "name": "stdout"
        }
      ]
    },
    {
      "cell_type": "markdown",
      "metadata": {
        "id": "qXLGcA_6S_zN",
        "colab_type": "text"
      },
      "source": [
        "Python multiprocessing Process class is an abstraction that sets up another Python process, provides it to run code and a way for the parent application to control execution.\n",
        "There are two important functions that belongs to the Process class – start() and join() function\n",
        "\n",
        "At first, we need to write a function, that will be run by the process. Then, we need to instantiate a process object.\n",
        "\n",
        "If we create a process object, nothing will happen until we tell it to start processing via start() function. Then, the process will run and return its result. After that we tell the process to complete via join() function.\n",
        "\n",
        "Without join() function call, process will remain idle and won’t terminate."
      ]
    },
    {
      "cell_type": "code",
      "metadata": {
        "id": "r0mL1TweT60b",
        "colab_type": "code",
        "colab": {
          "base_uri": "https://localhost:8080/",
          "height": 101
        },
        "outputId": "c6ee60e8-ec31-4432-f8bf-e79eabd2d939"
      },
      "source": [
        "from multiprocessing import Process\n",
        "\n",
        "\n",
        "def worker():\n",
        "    \"\"\"worker function\"\"\"\n",
        "    print('Worker')\n",
        "\n",
        "\n",
        "if __name__ == '__main__':\n",
        "    jobs = []\n",
        "    for i in range(5):\n",
        "        p = Process(target=worker)\n",
        "        jobs.append(p)\n",
        "        p.start()"
      ],
      "execution_count": null,
      "outputs": [
        {
          "output_type": "stream",
          "text": [
            "Worker\n",
            "Worker\n",
            "Worker\n",
            "Worker\n",
            "Worker\n"
          ],
          "name": "stdout"
        }
      ]
    },
    {
      "cell_type": "markdown",
      "metadata": {
        "id": "_G2gSM0tULDR",
        "colab_type": "text"
      },
      "source": [
        "It usually more useful to be able to spawn a process with arguments to tell it what work to do"
      ]
    },
    {
      "cell_type": "code",
      "metadata": {
        "id": "W5GgivDJTxQn",
        "colab_type": "code",
        "colab": {
          "base_uri": "https://localhost:8080/",
          "height": 84
        },
        "outputId": "dbea076e-3b9e-407f-8ddb-b9a5c17940f9"
      },
      "source": [
        "from multiprocessing import Process\n",
        "\n",
        "\n",
        "def print_func(continent='Asia'):\n",
        "    print('The name of continent is : ', continent)\n",
        "\n",
        "if __name__ == \"__main__\":  # confirms that the code is under main function\n",
        "    names = ['America', 'Europe', 'Africa']\n",
        "    procs = []\n",
        "    proc = Process(target=print_func)  # instantiating without any argument\n",
        "    procs.append(proc)\n",
        "    proc.start()\n",
        "\n",
        "    # instantiating process with arguments\n",
        "    for name in names:\n",
        "        # print(name)\n",
        "        proc = Process(target=print_func, args=(name,))\n",
        "        procs.append(proc)\n",
        "        proc.start()\n",
        "\n",
        "    # complete the processes\n",
        "    for proc in procs:\n",
        "        proc.join()"
      ],
      "execution_count": null,
      "outputs": [
        {
          "output_type": "stream",
          "text": [
            "The name of continent is :  Asia\n",
            "The name of continent is :  America\n",
            "The name of continent is :  Europe\n",
            "The name of continent is :  Africa\n"
          ],
          "name": "stdout"
        }
      ]
    },
    {
      "cell_type": "markdown",
      "metadata": {
        "id": "DdwxC0raJGY0",
        "colab_type": "text"
      },
      "source": [
        "#### Problem 1. create 5 process to find cube of numbers parallely using multi-processing\n"
      ]
    },
    {
      "cell_type": "code",
      "metadata": {
        "id": "Xg4smJWFJdLE",
        "colab_type": "code",
        "colab": {}
      },
      "source": [
        ""
      ],
      "execution_count": null,
      "outputs": []
    },
    {
      "cell_type": "markdown",
      "metadata": {
        "id": "YgJwSQaeVRBu",
        "colab_type": "text"
      },
      "source": [
        "### Determining the Current Process"
      ]
    },
    {
      "cell_type": "markdown",
      "metadata": {
        "id": "-EYUsefUVm1L",
        "colab_type": "text"
      },
      "source": [
        "Naming processes is useful for keeping track of them, especially in applications with multiple types of processes running simultaneously"
      ]
    },
    {
      "cell_type": "code",
      "metadata": {
        "id": "GtYCvaviVsEO",
        "colab_type": "code",
        "colab": {
          "base_uri": "https://localhost:8080/",
          "height": 118
        },
        "outputId": "102b3df5-8cd2-4607-b7aa-3a7501b47f22"
      },
      "source": [
        "import multiprocessing\n",
        "import time\n",
        "\n",
        "def worker():\n",
        "    name = multiprocessing.current_process().name\n",
        "    print(name, 'Starting')\n",
        "    time.sleep(3)\n",
        "    print(name, 'Exiting')\n",
        "\n",
        "def my_service():\n",
        "    name = multiprocessing.current_process().name\n",
        "    print(name, 'Starting')\n",
        "    time.sleep(2)\n",
        "    print(name, 'Exiting')\n",
        "\n",
        "if __name__ == '__main__':\n",
        "    service = multiprocessing.Process( name='my_service', target=my_service, )\n",
        "    worker_1 = multiprocessing.Process( name='worker 1', target=worker, )\n",
        "    worker_2 = multiprocessing.Process(target=worker,) # default name\n",
        "\n",
        "    worker_1.start()\n",
        "    worker_2.start()\n",
        "    service.start()\n",
        "\n",
        "    worker_1.join()\n",
        "    worker_2.join()\n",
        "    service.join()"
      ],
      "execution_count": null,
      "outputs": [
        {
          "output_type": "stream",
          "text": [
            "worker 1 Starting\n",
            "Process-59 Starting\n",
            "my_service Starting\n",
            "my_service Exiting\n",
            "worker 1 Exiting\n",
            "Process-59 Exiting\n"
          ],
          "name": "stdout"
        }
      ]
    },
    {
      "cell_type": "markdown",
      "metadata": {
        "id": "OfF4wJ-yhuF1",
        "colab_type": "text"
      },
      "source": [
        "######egs: created 2 process to add and substract operation in parallel. "
      ]
    },
    {
      "cell_type": "code",
      "metadata": {
        "id": "DGqXoNS5rDxI",
        "colab_type": "code",
        "colab": {}
      },
      "source": [
        ""
      ],
      "execution_count": null,
      "outputs": []
    },
    {
      "cell_type": "markdown",
      "metadata": {
        "id": "lTRg83O3XA3f",
        "colab_type": "text"
      },
      "source": [
        "###Daemon Processes"
      ]
    },
    {
      "cell_type": "markdown",
      "metadata": {
        "id": "MWS3boPyXEVe",
        "colab_type": "text"
      },
      "source": [
        "By default, the main program will not exit until all of the children have exited. There are times when starting a background process that runs without blocking the main program from exiting is useful.\n",
        "To mark a process as a daemon, set its daemon attribute to True. The default is for processes to not be daemons."
      ]
    },
    {
      "cell_type": "code",
      "metadata": {
        "id": "3vw06O_GYGa1",
        "colab_type": "code",
        "colab": {
          "base_uri": "https://localhost:8080/",
          "height": 134
        },
        "outputId": "be6374ac-443c-4694-e356-7c74419ef1de"
      },
      "source": [
        "from multiprocessing import Process\n",
        "import time\n",
        "import sys\n",
        "\n",
        "def daemon():\n",
        "    p = multiprocessing.current_process()\n",
        "    print('Starting:', p.name, p.pid)\n",
        "    sys.stdout.flush()\n",
        "    time.sleep(2)\n",
        "    print('Exiting :', p.name, p.pid)\n",
        "    sys.stdout.flush()\n",
        "\n",
        "def non_daemon():\n",
        "    p = multiprocessing.current_process()\n",
        "    print('Starting:', p.name, p.pid)\n",
        "    sys.stdout.flush()\n",
        "    time.sleep(3)\n",
        "    print('Exiting :', p.name, p.pid)\n",
        "    sys.stdout.flush()\n",
        "\n",
        "if __name__ == '__main__':\n",
        "    d = Process(name='daemon', target=daemon,)\n",
        "    d.daemon = True\n",
        "\n",
        "    n = Process(name='non-daemon',target=non_daemon,)\n",
        "    n.daemon = False\n",
        "    n.start()\n",
        "    time.sleep(1)\n",
        "    d.start()\n",
        "    for i in range(5):\n",
        "      print(i)\n",
        "\n"
      ],
      "execution_count": null,
      "outputs": [
        {
          "output_type": "stream",
          "text": [
            "Starting: non-daemon 939\n",
            "0\n",
            "1\n",
            "2\n",
            "3\n",
            "4\n",
            "Starting: daemon 942\n"
          ],
          "name": "stdout"
        }
      ]
    },
    {
      "cell_type": "markdown",
      "metadata": {
        "id": "ZpTMBRZod6co",
        "colab_type": "text"
      },
      "source": [
        "### Waiting for Processes"
      ]
    },
    {
      "cell_type": "markdown",
      "metadata": {
        "id": "89Kd0_sEfWyz",
        "colab_type": "text"
      },
      "source": [
        "To wait until a process has completed its work and exited, use the join() method."
      ]
    },
    {
      "cell_type": "code",
      "metadata": {
        "id": "MsH2riTTfdIK",
        "colab_type": "code",
        "colab": {
          "base_uri": "https://localhost:8080/",
          "height": 84
        },
        "outputId": "22b02de5-93e9-440f-cff1-9d424b139ea9"
      },
      "source": [
        "import multiprocessing\n",
        "from multiprocessing import Process\n",
        "import time\n",
        "import sys\n",
        "\n",
        "\n",
        "def daemon():\n",
        "    name = multiprocessing.current_process().name\n",
        "    print('Starting:', name)\n",
        "    time.sleep(2)\n",
        "    print('Exiting :', name)\n",
        "\n",
        "\n",
        "def non_daemon():\n",
        "    name = multiprocessing.current_process().name\n",
        "    print('Starting:', name)\n",
        "    print('Exiting :', name)\n",
        "\n",
        "\n",
        "if __name__ == '__main__':\n",
        "    d = Process(name='daemon', target=daemon,)\n",
        "    d.daemon = True\n",
        "\n",
        "    n = Process(name='non-daemon',target=non_daemon,)\n",
        "    n.daemon = False\n",
        "\n",
        "    d.start()\n",
        "    time.sleep(1)\n",
        "    n.start()\n",
        "\n",
        "  \n",
        "    n.join()\n",
        "    d.join()"
      ],
      "execution_count": null,
      "outputs": [
        {
          "output_type": "stream",
          "text": [
            "Starting: daemon\n",
            "Starting: non-daemon\n",
            "Exiting : non-daemon\n",
            "Exiting : daemon\n"
          ],
          "name": "stdout"
        }
      ]
    },
    {
      "cell_type": "markdown",
      "metadata": {
        "id": "FT2XyE-pxSvg",
        "colab_type": "text"
      },
      "source": [
        "###Terminating Processes"
      ]
    },
    {
      "cell_type": "markdown",
      "metadata": {
        "id": "2OkHWInDxggP",
        "colab_type": "text"
      },
      "source": [
        "Calling terminate() on a process object kills the child process"
      ]
    },
    {
      "cell_type": "code",
      "metadata": {
        "id": "O9UTB6ZSxhiL",
        "colab_type": "code",
        "colab": {
          "base_uri": "https://localhost:8080/",
          "height": 84
        },
        "outputId": "a85c7ad3-eab0-4680-fd76-fbd4ea19ce1f"
      },
      "source": [
        "import multiprocessing\n",
        "\n",
        "\n",
        "def slow_worker():\n",
        "    print('Starting worker')\n",
        "    time.sleep(0.1)\n",
        "    print('Finished worker')\n",
        "\n",
        "\n",
        "if __name__ == '__main__':\n",
        "    p = multiprocessing.Process(target=slow_worker)\n",
        "    print('BEFORE:', p, p.is_alive())\n",
        "\n",
        "    p.start()\n",
        "    print('DURING:', p, p.is_alive())\n",
        "\n",
        "    p.terminate()\n",
        "    print('TERMINATED:', p, p.is_alive())\n",
        "\n",
        "    p.join()\n",
        "    print('JOINED:', p, p.is_alive())"
      ],
      "execution_count": null,
      "outputs": [
        {
          "output_type": "stream",
          "text": [
            "BEFORE: <Process(Process-55, initial)> False\n",
            "DURING: <Process(Process-55, started)> True\n",
            "TERMINATED: <Process(Process-55, started)> True\n",
            "JOINED: <Process(Process-55, stopped[SIGTERM])> False\n"
          ],
          "name": "stdout"
        }
      ]
    },
    {
      "cell_type": "markdown",
      "metadata": {
        "id": "aqiTowo9ycNk",
        "colab_type": "text"
      },
      "source": [
        "### Subclassing Process"
      ]
    },
    {
      "cell_type": "markdown",
      "metadata": {
        "id": "_VN4tkObyjPO",
        "colab_type": "text"
      },
      "source": [
        "Although the simplest way to start a job in a separate process is to use Process and pass a target function, it is also possible to use a custom subclass."
      ]
    },
    {
      "cell_type": "code",
      "metadata": {
        "id": "xFPJaiJJykP1",
        "colab_type": "code",
        "colab": {
          "base_uri": "https://localhost:8080/",
          "height": 101
        },
        "outputId": "8db99559-26bf-484e-c127-d413f937d584"
      },
      "source": [
        "import multiprocessing\n",
        "\n",
        "\n",
        "class Worker(multiprocessing.Process):\n",
        "\n",
        "    def run(self):\n",
        "        print('In {}'.format(self.name))\n",
        "        return\n",
        "\n",
        "\n",
        "if __name__ == '__main__':\n",
        "    jobs = []\n",
        "    for i in range(5):\n",
        "        p = Worker()\n",
        "        jobs.append(p)\n",
        "        p.start()\n",
        "    for j in jobs:\n",
        "        j.join()"
      ],
      "execution_count": null,
      "outputs": [
        {
          "output_type": "stream",
          "text": [
            "In Worker-64\n",
            "In Worker-65\n",
            "In Worker-67\n",
            "In Worker-66\n",
            "In Worker-68\n"
          ],
          "name": "stdout"
        }
      ]
    },
    {
      "cell_type": "code",
      "metadata": {
        "id": "ypPsJ9Vgw5zp",
        "colab_type": "code",
        "colab": {}
      },
      "source": [
        ""
      ],
      "execution_count": null,
      "outputs": []
    },
    {
      "cell_type": "markdown",
      "metadata": {
        "id": "gZpDEggL1pS8",
        "colab_type": "text"
      },
      "source": [
        "## Process communication"
      ]
    },
    {
      "cell_type": "markdown",
      "metadata": {
        "id": "GqkwxUZR11So",
        "colab_type": "text"
      },
      "source": [
        "A common use pattern for multiple processes is to divide a job up among several workers to run in parallel. Effective use of multiple processes usually requires some communication between them, so that work can be divided and results can be aggregated. A simple way to communicate between processes with multiprocessing is data sharing and message passing back and forth"
      ]
    },
    {
      "cell_type": "markdown",
      "metadata": {
        "id": "n7CqnNjG7Pp0",
        "colab_type": "text"
      },
      "source": [
        "### Shared memory"
      ]
    },
    {
      "cell_type": "markdown",
      "metadata": {
        "id": "blR1MqcT7Z9K",
        "colab_type": "text"
      },
      "source": [
        "multiprocessing module provides Array and Value objects to share data between processes\n",
        "\n",
        "*   Array: a ctypes array allocated from shared memory.\n",
        "*   Value: a ctypes object allocated from shared memory.\n",
        "\n"
      ]
    },
    {
      "cell_type": "markdown",
      "metadata": {
        "id": "hsP5tuWx7sDT",
        "colab_type": "text"
      },
      "source": [
        "Given below is a simple example showing use of Array and Value for sharing data between processes.\n"
      ]
    },
    {
      "cell_type": "code",
      "metadata": {
        "id": "JtDoLiRa7v8l",
        "colab_type": "code",
        "colab": {
          "base_uri": "https://localhost:8080/",
          "height": 101
        },
        "outputId": "5b5f2ddf-8f2d-49c5-e8dd-f5e5b03128ea"
      },
      "source": [
        "import multiprocessing \n",
        "  \n",
        "def square_list(mylist, result, square_sum): \n",
        "    \"\"\" \n",
        "    function to square a given list \n",
        "    \"\"\"\n",
        "    print(\"p1 got %s from main process\"%(mylist))\n",
        "    # append squares of mylist to result array \n",
        "    for idx, num in enumerate(mylist): \n",
        "        result[idx] = num * num \n",
        "  \n",
        "    # square_sum value \n",
        "    square_sum.value = sum(result) \n",
        "  \n",
        "    # print result Array \n",
        "    print(\"Result(in process p1): {}\".format(result[:])) \n",
        "  \n",
        "    # print square_sum Value \n",
        "    print(\"Sum of squares(in process p1): {}\".format(square_sum.value)) \n",
        "  \n",
        "if __name__ == \"__main__\": \n",
        "    # input list \n",
        "    mylist = [1,2,3,4] \n",
        "  \n",
        "    # creating Array of int data type with space for 4 integers \n",
        "    result = multiprocessing.Array('i', 4) \n",
        "  \n",
        "    # creating Value of int data type \n",
        "    square_sum = multiprocessing.Value('i') \n",
        "  \n",
        "    # creating new process \n",
        "    p1 = multiprocessing.Process(target=square_list, args=(mylist, result, square_sum)) \n",
        "  \n",
        "    # starting process \n",
        "    p1.start() \n",
        "  \n",
        "    # wait until process is finished \n",
        "    p1.join() \n",
        "  \n",
        "    # print result array \n",
        "    print(\"Result(in main program): {}\".format(result[:])) \n",
        "  \n",
        "    # print square_sum Value \n",
        "    print(\"Sum of squares(in main program): {}\".format(square_sum.value)) "
      ],
      "execution_count": null,
      "outputs": [
        {
          "output_type": "stream",
          "text": [
            "p1 got [1, 2, 3, 4] from main process\n",
            "Result(in process p1): [1, 4, 9, 16]\n",
            "Sum of squares(in process p1): 30\n",
            "Result(in main program): [1, 4, 9, 16]\n",
            "Sum of squares(in main program): 30\n"
          ],
          "name": "stdout"
        }
      ]
    },
    {
      "cell_type": "markdown",
      "metadata": {
        "id": "1NjDJp1h9lHg",
        "colab_type": "text"
      },
      "source": [
        "###Queue"
      ]
    },
    {
      "cell_type": "markdown",
      "metadata": {
        "id": "ELHl0aXc9rvU",
        "colab_type": "text"
      },
      "source": [
        "A simple way to communicate between process with multiprocessing is to use a Queue to pass messages back and forth. Any Python object can pass through a Queue."
      ]
    },
    {
      "cell_type": "code",
      "metadata": {
        "id": "OZXx0cj59zu_",
        "colab_type": "code",
        "colab": {
          "base_uri": "https://localhost:8080/",
          "height": 252
        },
        "outputId": "b27e7af3-8fd6-447d-9e1e-9d7e0252adee"
      },
      "source": [
        "import multiprocessing \n",
        "  \n",
        "def square_list(mylist, q): \n",
        "    \"\"\" \n",
        "    function to square a given list \n",
        "    \"\"\"\n",
        "    # append squares of mylist to queue \n",
        "    for num in mylist:\n",
        "        print(\"putting \", num,\"To q\" )       \n",
        "        q.put(num * num) \n",
        "  \n",
        "def print_queue(q): \n",
        "    \"\"\" \n",
        "    function to print queue elements \n",
        "    \"\"\"\n",
        "    print(\"Queue elements:\") \n",
        "    while not q.empty(): \n",
        "        print(\"reading from q\" )\n",
        "        print(q.get()) \n",
        "    print(\"Queue is now empty!\") \n",
        "  \n",
        "if __name__ == \"__main__\": \n",
        "    # input list \n",
        "    mylist = [1,2,3,4] \n",
        "  \n",
        "    # creating multiprocessing Queue \n",
        "    q = multiprocessing.Queue() \n",
        "  \n",
        "    # creating new processes \n",
        "    p1 = multiprocessing.Process(target=square_list, args=(mylist, q)) \n",
        "    p2 = multiprocessing.Process(target=print_queue, args=(q,)) \n",
        "  \n",
        "    # running process p1 to square list \n",
        "    p1.start()\n",
        "    p2.start() \n",
        "    p1.join() \n",
        "  \n",
        "    # running process p2 to get queue elements \n",
        "    #p2.start() \n",
        "    p2.join() "
      ],
      "execution_count": null,
      "outputs": [
        {
          "output_type": "stream",
          "text": [
            "putting  1 To q\n",
            "Queue elements:\n",
            "putting  2 To q\n",
            "reading from q\n",
            "1\n",
            "reading from q\n",
            "putting  3 To q\n",
            "putting  4 To q\n",
            "4\n",
            "reading from q\n",
            "9\n",
            "reading from q\n",
            "16\n",
            "Queue is now empty!\n"
          ],
          "name": "stdout"
        }
      ]
    },
    {
      "cell_type": "markdown",
      "metadata": {
        "id": "zafG-b3H-9I1",
        "colab_type": "text"
      },
      "source": [
        "## Signaling between Processes"
      ]
    },
    {
      "cell_type": "markdown",
      "metadata": {
        "id": "O76J5SvEBF4k",
        "colab_type": "text"
      },
      "source": [
        "The Event class provides a simple way to communicate state information between processes. An event can be toggled between set and unset states. Users of the event object can wait for it to change from unset to set, using an optional timeout value"
      ]
    },
    {
      "cell_type": "code",
      "metadata": {
        "id": "nbozSsN5BM-k",
        "colab_type": "code",
        "colab": {
          "base_uri": "https://localhost:8080/",
          "height": 118
        },
        "outputId": "647918ad-87c0-4c37-df3d-8507fd3cceba"
      },
      "source": [
        "import multiprocessing\n",
        "import time\n",
        "\n",
        "def wait_for_event(e):\n",
        "    \"\"\"Wait for the event to be set before doing anything\"\"\"\n",
        "    print('wait_for_event: starting')\n",
        "    e.wait()\n",
        "    print('wait_for_event: e.is_set()->', e.is_set())\n",
        "\n",
        "def wait_for_event_timeout(e, t):\n",
        "    \"\"\"Wait t seconds and then timeout\"\"\"\n",
        "    print('wait_for_event_timeout: starting')\n",
        "    e.wait(t)\n",
        "    print('wait_for_event_timeout: e.is_set()->', e.is_set())\n",
        "\n",
        "if __name__ == '__main__':\n",
        "    e = multiprocessing.Event()\n",
        "    w1 = multiprocessing.Process(name='block', target=wait_for_event, args=(e,),)\n",
        "    w1.start()\n",
        "\n",
        "    w2 = multiprocessing.Process(name='nonblock',target=wait_for_event_timeout, args=(e, 2),)\n",
        "    w2.start()\n",
        "\n",
        "    print('main: waiting before calling Event.set()')\n",
        "    time.sleep(3)\n",
        "    e.set()\n",
        "    print('main: event is set')"
      ],
      "execution_count": null,
      "outputs": [
        {
          "output_type": "stream",
          "text": [
            "wait_for_event: starting\n",
            "wait_for_event_timeout: starting\n",
            "main: waiting before calling Event.set()\n",
            "wait_for_event_timeout: e.is_set()-> False\n",
            "wait_for_event: e.is_set()-> True\n",
            "main: event is set\n"
          ],
          "name": "stdout"
        }
      ]
    },
    {
      "cell_type": "markdown",
      "metadata": {
        "id": "T6uQDTvKCJh9",
        "colab_type": "text"
      },
      "source": [
        "## Controlling Access to Resources"
      ]
    },
    {
      "cell_type": "markdown",
      "metadata": {
        "id": "4PfIiabhCPwL",
        "colab_type": "text"
      },
      "source": [
        "In situations when a single resource needs to be shared between multiple processes, a Lock can be used to avoid conflicting accesses"
      ]
    },
    {
      "cell_type": "code",
      "metadata": {
        "id": "FJpzGukQCVFl",
        "colab_type": "code",
        "colab": {
          "base_uri": "https://localhost:8080/",
          "height": 50
        },
        "outputId": "9a0614ba-48c3-4c3d-a4aa-5403c6e4441f"
      },
      "source": [
        "import multiprocessing\n",
        "import sys\n",
        "\n",
        "def worker_with(lock, stream):\n",
        "    with lock:\n",
        "        stream.write('Lock acquired via with\\n')\n",
        "\n",
        "def worker_no_with(lock, stream):\n",
        "    lock.acquire()\n",
        "    try:\n",
        "        stream.write('Lock acquired directly\\n')\n",
        "    finally:\n",
        "        lock.release()\n",
        "\n",
        "lock = multiprocessing.Lock()\n",
        "w = multiprocessing.Process(target=worker_with, args=(lock, sys.stdout),)\n",
        "nw = multiprocessing.Process(target=worker_no_with, args=(lock, sys.stdout))\n",
        "\n",
        "w.start()\n",
        "nw.start()\n",
        "\n",
        "w.join()\n",
        "nw.join()"
      ],
      "execution_count": null,
      "outputs": [
        {
          "output_type": "stream",
          "text": [
            "Lock acquired via with\n",
            "Lock acquired directly\n"
          ],
          "name": "stdout"
        }
      ]
    },
    {
      "cell_type": "markdown",
      "metadata": {
        "id": "Cyf_6SgCC0Id",
        "colab_type": "text"
      },
      "source": [
        "## Synchronizing Operations"
      ]
    },
    {
      "cell_type": "markdown",
      "metadata": {
        "id": "W37v2kZHDOK1",
        "colab_type": "text"
      },
      "source": [
        "Process synchronization is defined as a mechanism which ensures that two or more concurrent processes do not simultaneously execute some particular program segment known as critical section"
      ]
    },
    {
      "cell_type": "markdown",
      "metadata": {
        "id": "49SS1XJIDX0Z",
        "colab_type": "text"
      },
      "source": [
        "Consider the program below to understand the concept of race condition:"
      ]
    },
    {
      "cell_type": "code",
      "metadata": {
        "id": "cHEzF3SQDa67",
        "colab_type": "code",
        "colab": {
          "base_uri": "https://localhost:8080/",
          "height": 185
        },
        "outputId": "a691da86-4827-490a-f954-d4b5e9e509f6"
      },
      "source": [
        "import multiprocessing \n",
        "  \n",
        "# function to withdraw from account \n",
        "def withdraw(balance):     \n",
        "    for _ in range(10000): \n",
        "        balance.value = balance.value - 1   \n",
        "  \n",
        "# function to deposit to account \n",
        "def deposit(balance):     \n",
        "    for _ in range(10000): \n",
        "        balance.value = balance.value + 1  \n",
        "  \n",
        "def perform_transactions(): \n",
        "  \n",
        "    # initial balance (in shared memory) \n",
        "    balance = multiprocessing.Value('i', 100) \n",
        "  \n",
        "    # creating new processes \n",
        "    p1 = multiprocessing.Process(target=withdraw, args=(balance,)) \n",
        "    p2 = multiprocessing.Process(target=deposit, args=(balance,)) \n",
        "  \n",
        "    # starting processes \n",
        "    p1.start() \n",
        "    p2.start() \n",
        "  \n",
        "    # wait until processes are finished \n",
        "    p1.join() \n",
        "    p2.join() \n",
        "  \n",
        "    # print final balance \n",
        "    print(\"Final balance = {}\".format(balance.value)) \n",
        "  \n",
        "if __name__ == \"__main__\": \n",
        "    for _ in range(10): \n",
        "  \n",
        "        # perform same transaction process 10 times \n",
        "        perform_transactions() "
      ],
      "execution_count": null,
      "outputs": [
        {
          "output_type": "stream",
          "text": [
            "Final balance = -273\n",
            "Final balance = -539\n",
            "Final balance = 87\n",
            "Final balance = -726\n",
            "Final balance = -993\n",
            "Final balance = 1571\n",
            "Final balance = 1293\n",
            "Final balance = -117\n",
            "Final balance = -575\n",
            "Final balance = -1123\n"
          ],
          "name": "stdout"
        }
      ]
    },
    {
      "cell_type": "markdown",
      "metadata": {
        "id": "QjsP8RKoLGDd",
        "colab_type": "text"
      },
      "source": [
        "In above program, 10000 withdraw and 10000 deposit transactions are carried out with initial balance as 100. The expected final balance is 100 but what we get in 10 iterations of perform_transactions function is some different values.\n",
        "\n",
        "This happens due to concurrent access of processes to the shared data balance. This unpredictability in balance value is nothing but race condition."
      ]
    },
    {
      "cell_type": "markdown",
      "metadata": {
        "id": "We3tNzRuLRmJ",
        "colab_type": "text"
      },
      "source": [
        "multiprocessing module provides a Lock class to deal with the race conditions. Lock is implemented using a Semaphore object provided by the Operating System"
      ]
    },
    {
      "cell_type": "code",
      "metadata": {
        "id": "zN0weLlWMDuy",
        "colab_type": "code",
        "colab": {
          "base_uri": "https://localhost:8080/",
          "height": 185
        },
        "outputId": "d50c3d4f-7e92-42c5-b4c9-a13568144fcf"
      },
      "source": [
        "import multiprocessing \n",
        "  \n",
        "# function to withdraw from account \n",
        "def withdraw(balance, lock):     \n",
        "    for _ in range(10000): \n",
        "        lock.acquire() \n",
        "        balance.value = balance.value - 1\n",
        "        lock.release() \n",
        "  \n",
        "# function to deposit to account \n",
        "def deposit(balance, lock):     \n",
        "    for _ in range(10000): \n",
        "        lock.acquire() \n",
        "        balance.value = balance.value + 1\n",
        "        lock.release() \n",
        "  \n",
        "def perform_transactions(): \n",
        "  \n",
        "    # initial balance (in shared memory) \n",
        "    balance = multiprocessing.Value('i', 100) \n",
        "  \n",
        "    # creating a lock object \n",
        "    lock = multiprocessing.Lock() \n",
        "  \n",
        "    # creating new processes \n",
        "    p1 = multiprocessing.Process(target=withdraw, args=(balance,lock)) \n",
        "    p2 = multiprocessing.Process(target=deposit, args=(balance,lock)) \n",
        "  \n",
        "    # starting processes \n",
        "    p1.start() \n",
        "    p2.start() \n",
        "  \n",
        "    # wait until processes are finished \n",
        "    p1.join() \n",
        "    p2.join() \n",
        "  \n",
        "    # print final balance \n",
        "    print(\"Final balance = {}\".format(balance.value)) \n",
        "  \n",
        "if __name__ == \"__main__\": \n",
        "    for _ in range(10): \n",
        "  \n",
        "        # perform same transaction process 10 times \n",
        "        perform_transactions() "
      ],
      "execution_count": null,
      "outputs": [
        {
          "output_type": "stream",
          "text": [
            "Final balance = 100\n",
            "Final balance = 100\n",
            "Final balance = 100\n",
            "Final balance = 100\n",
            "Final balance = 100\n",
            "Final balance = 100\n",
            "Final balance = 100\n",
            "Final balance = 100\n",
            "Final balance = 100\n",
            "Final balance = 100\n"
          ],
          "name": "stdout"
        }
      ]
    },
    {
      "cell_type": "markdown",
      "metadata": {
        "id": "59oXMVRLNQPH",
        "colab_type": "text"
      },
      "source": [
        "Let us try to understand the above code step by step:\n"
      ]
    },
    {
      "cell_type": "markdown",
      "metadata": {
        "id": "MLyzqTcZNVgK",
        "colab_type": "text"
      },
      "source": [
        "Firstly, a Lock object is created using:\n",
        "lock = multiprocessing.Lock()"
      ]
    },
    {
      "cell_type": "markdown",
      "metadata": {
        "id": "Fd6ZAtItNZ0b",
        "colab_type": "text"
      },
      "source": [
        "Then, lock is passed as target function argument:\n",
        "p1 = multiprocessing.Process(target=withdraw, args=(balance,lock))\n",
        " p2 = multiprocessing.Process(target=deposit, args=(balance,lock))"
      ]
    },
    {
      "cell_type": "markdown",
      "metadata": {
        "id": "HqHckN3rNjYK",
        "colab_type": "text"
      },
      "source": [
        "In the critical section of target function, we apply lock using lock.acquire() method. As soon as a lock is acquired, no other process can access its critical section until the lock is released using lock.release() method.\n",
        "lock.acquire().\n",
        "balance.value = balance.value - 1.\n",
        "lock.release()."
      ]
    },
    {
      "cell_type": "markdown",
      "metadata": {
        "id": "12VlIVmINzi1",
        "colab_type": "text"
      },
      "source": [
        "As you can see in the results, the final balance comes out to be 100 every time (which is the expected final result)."
      ]
    },
    {
      "cell_type": "markdown",
      "metadata": {
        "id": "jzIeasP7Ozoz",
        "colab_type": "text"
      },
      "source": [
        "## Pooling between processes"
      ]
    },
    {
      "cell_type": "markdown",
      "metadata": {
        "id": "p_esFpxCO9NK",
        "colab_type": "text"
      },
      "source": [
        "Let us consider a simple program to find squares of numbers in a given list."
      ]
    },
    {
      "cell_type": "code",
      "metadata": {
        "id": "qHUoYiCvO-Ry",
        "colab_type": "code",
        "colab": {
          "base_uri": "https://localhost:8080/",
          "height": 34
        },
        "outputId": "27a917f1-dd41-4ec8-ec72-1023fa604ce9"
      },
      "source": [
        "def square(n): \n",
        "    return (n*n) \n",
        "  \n",
        "if __name__ == \"__main__\": \n",
        "\n",
        "    # input list \n",
        "    mylist = [1,2,3,4,5,6,7,8,9,10] \n",
        "  \n",
        "    # empty list to store result \n",
        "    result = [] \n",
        "\n",
        "    for num in mylist: \n",
        "        result.append(square(num)) \n",
        "  \n",
        "    print(result) "
      ],
      "execution_count": null,
      "outputs": [
        {
          "output_type": "stream",
          "text": [
            "[1, 4, 9, 16, 25, 36, 49, 64, 81, 100]\n"
          ],
          "name": "stdout"
        }
      ]
    },
    {
      "cell_type": "markdown",
      "metadata": {
        "id": "68-l1vThPLqr",
        "colab_type": "text"
      },
      "source": [
        "Here the entire code will run on single core. Only one of the cores is used for program execution and it’s quite possible that other cores remain idle"
      ]
    },
    {
      "cell_type": "markdown",
      "metadata": {
        "id": "Csc0PTmGPa8Y",
        "colab_type": "text"
      },
      "source": [
        "In order to utilize all the cores, multiprocessing module provides a Pool class. The Pool class represents a pool of worker processes. It has methods which allows tasks to be offloaded to the worker processes in a few different ways"
      ]
    },
    {
      "cell_type": "code",
      "metadata": {
        "id": "h_PTcyRqPu6R",
        "colab_type": "code",
        "colab": {
          "base_uri": "https://localhost:8080/",
          "height": 202
        },
        "outputId": "140acef0-04bd-4018-a665-54eb7cc94539"
      },
      "source": [
        "# Python program to understand  \n",
        "# the concept of pool \n",
        "import multiprocessing \n",
        "import os \n",
        "  \n",
        "def square(n): \n",
        "    print(\"Worker process id for {0}: {1}\".format(n, os.getpid())) \n",
        "    return (n*n) \n",
        "  \n",
        "if __name__ == \"__main__\": \n",
        "    # input list \n",
        "    mylist = [1,2,3,4,5,6,7,8,9,10] \n",
        "    # creating a pool object \n",
        "    p = multiprocessing.Pool()\n",
        "    # map list to target function \n",
        "    result = p.map(square, mylist) \n",
        "  \n",
        "    print(result) "
      ],
      "execution_count": null,
      "outputs": [
        {
          "output_type": "stream",
          "text": [
            "Worker process id for 1: 1911\n",
            "Worker process id for 3: 1912\n",
            "Worker process id for 4: 1912\n",
            "Worker process id for 2: 1911\n",
            "Worker process id for 7: 1911\n",
            "Worker process id for 5: 1912\n",
            "Worker process id for 6: 1912\n",
            "Worker process id for 8: 1911\n",
            "Worker process id for 9: 1912\n",
            "Worker process id for 10: 1912\n",
            "[1, 4, 9, 16, 25, 36, 49, 64, 81, 100]\n"
          ],
          "name": "stdout"
        }
      ]
    },
    {
      "cell_type": "markdown",
      "metadata": {
        "id": "D1NCR47yRNzC",
        "colab_type": "text"
      },
      "source": [
        "# Python multithreading"
      ]
    },
    {
      "cell_type": "markdown",
      "metadata": {
        "id": "Px8Ca-kERbQf",
        "colab_type": "text"
      },
      "source": [
        "A Thread or a Thread of Execution is defined in computer science as the smallest unit that can be scheduled in an operating system. Threads are normally created by a fork of a computer script or program in two or more parallel (which is implemented on a single processor by multitasking) tasks. Threads are usually contained in processes. More than one thread can exist within the same process. These threads share the memory and the state of the process"
      ]
    },
    {
      "cell_type": "markdown",
      "metadata": {
        "id": "YqZ5U88BX3P_",
        "colab_type": "text"
      },
      "source": [
        "## Thread Objects"
      ]
    },
    {
      "cell_type": "markdown",
      "metadata": {
        "id": "3zBOkuPvV_Jr",
        "colab_type": "text"
      },
      "source": [
        "In Python, the threading module provides a very simple and intuitive API for spawning multiple threads in a program. Using threads allows a program to run multiple operations concurrently in the same process space"
      ]
    },
    {
      "cell_type": "markdown",
      "metadata": {
        "id": "KqLsRQbPW2Gt",
        "colab_type": "text"
      },
      "source": [
        "Let us consider a simple example using threading module:"
      ]
    },
    {
      "cell_type": "code",
      "metadata": {
        "id": "CfRs81QpW25V",
        "colab_type": "code",
        "colab": {
          "base_uri": "https://localhost:8080/",
          "height": 101
        },
        "outputId": "dcc8754a-b7ac-4d8a-ed0c-9d959e814c06"
      },
      "source": [
        "import threading \n",
        "  \n",
        "def print_cube(num): \n",
        "    \"\"\" \n",
        "    function to print cube of given num \n",
        "    \"\"\"\n",
        "    print(\"Cube: {}\".format(num * num * num)) \n",
        "  \n",
        "def print_square(num): \n",
        "    \"\"\" \n",
        "    function to print square of given num \n",
        "    \"\"\"\n",
        "    print(\"Square: {}\".format(num * num)) \n",
        "  \n",
        "if __name__ == \"__main__\": \n",
        "    # creating thread \n",
        "    t1 = threading.Thread(target=print_square, args=(10,)) \n",
        "    t2 = threading.Thread(target=print_cube, args=(10,)) \n",
        "  \n",
        "    # starting thread 1 \n",
        "    t1.start() \n",
        "    # starting thread 2 \n",
        "    t2.start() \n",
        "    print(\"\\nmain thread idle\")\n",
        "    # wait until thread 1 is completely executed \n",
        "    t1.join() \n",
        "    # wait until thread 2 is completely executed \n",
        "    t2.join() \n",
        "  \n",
        "    # both threads completely executed \n",
        "    print(\"Done!\") "
      ],
      "execution_count": null,
      "outputs": [
        {
          "output_type": "stream",
          "text": [
            "Square: 100\n",
            "Cube: 1000\n",
            "\n",
            "main thread idle\n",
            "Done!\n"
          ],
          "name": "stdout"
        }
      ]
    },
    {
      "cell_type": "markdown",
      "metadata": {
        "id": "8Prsgi5YXaqQ",
        "colab_type": "text"
      },
      "source": [
        "![alt text](https://media.geeksforgeeks.org/wp-content/uploads/multithreading-python-4.png)"
      ]
    },
    {
      "cell_type": "markdown",
      "metadata": {
        "id": "H_yESWRzXEpB",
        "colab_type": "text"
      },
      "source": [
        "Problem 3. create 2 thread to add and sub of two of numbers cuncurrently using multi-threading"
      ]
    },
    {
      "cell_type": "code",
      "metadata": {
        "id": "17iVeZrDXJ5q",
        "colab_type": "code",
        "colab": {}
      },
      "source": [
        ""
      ],
      "execution_count": null,
      "outputs": []
    },
    {
      "cell_type": "markdown",
      "metadata": {
        "id": "Nr2dga3jYB8V",
        "colab_type": "text"
      },
      "source": [
        "### Determining the Current Thread"
      ]
    },
    {
      "cell_type": "markdown",
      "metadata": {
        "id": "PcBpbRd4YEru",
        "colab_type": "text"
      },
      "source": [
        "Using arguments to identify or name the thread is cumbersome and unnecessary. Each Thread instance has a name with a default value that can be changed as the thread is created. Naming threads is useful in server processes with multiple service threads handling different operations"
      ]
    },
    {
      "cell_type": "code",
      "metadata": {
        "id": "OXEWJJGUYO8c",
        "colab_type": "code",
        "colab": {
          "base_uri": "https://localhost:8080/",
          "height": 118
        },
        "outputId": "9b22574b-80cf-408e-bc02-f4f259c99b74"
      },
      "source": [
        "import threading\n",
        "import time\n",
        "\n",
        "def worker():\n",
        "    print(threading.current_thread().getName(), 'Starting')\n",
        "    time.sleep(0.2)\n",
        "    print(threading.current_thread().getName(), 'Exiting')\n",
        "\n",
        "def my_service():\n",
        "    print(threading.current_thread().getName(), 'Starting')\n",
        "    time.sleep(0.3)\n",
        "    print(threading.current_thread().getName(), 'Exiting')\n",
        "\n",
        "t = threading.Thread(name='my_service', target=my_service)\n",
        "w = threading.Thread(name='worker', target=worker)\n",
        "w2 = threading.Thread(target=worker)  # use default name\n",
        "\n",
        "w.start()\n",
        "w2.start()\n",
        "t.start()\n",
        "\n",
        "w.join()\n",
        "w2.join()\n",
        "t.join()"
      ],
      "execution_count": null,
      "outputs": [
        {
          "output_type": "stream",
          "text": [
            "worker Starting\n",
            "Thread-41 Starting\n",
            "my_service Starting\n",
            "worker Exiting\n",
            "Thread-41 Exiting\n",
            "my_service Exiting\n"
          ],
          "name": "stdout"
        }
      ]
    },
    {
      "cell_type": "markdown",
      "metadata": {
        "id": "yRXPBVxvYaV5",
        "colab_type": "text"
      },
      "source": [
        "The debug output includes the name of the current thread on each line. The lines with \"Thread-N\" in the thread name column correspond to the unnamed thread w2."
      ]
    },
    {
      "cell_type": "markdown",
      "metadata": {
        "id": "hMuIlDJhZEGJ",
        "colab_type": "text"
      },
      "source": [
        "### Daemon vs. Non-Daemon Threads"
      ]
    },
    {
      "cell_type": "markdown",
      "metadata": {
        "id": "Xc4MBRRxZY9D",
        "colab_type": "text"
      },
      "source": [
        "Sometimes programs spawn a thread as a daemon that runs without blocking the main program from exiting. o mark a thread as a daemon, pass daemon=True when constructing it or call its set_daemon() method with True. The default is for threads to not be daemons"
      ]
    },
    {
      "cell_type": "code",
      "metadata": {
        "id": "ZiddAdF8Zk7o",
        "colab_type": "code",
        "colab": {
          "base_uri": "https://localhost:8080/",
          "height": 101
        },
        "outputId": "4ef37be4-5d34-43ae-87d8-6e16f84de496"
      },
      "source": [
        "import time\n",
        "import logging\n",
        "\n",
        "\n",
        "def daemon():\n",
        "    logging.debug('Starting')\n",
        "    logging.debug('Exiting')\n",
        "\n",
        "\n",
        "def non_daemon():\n",
        "    logging.debug('Starting')\n",
        "    logging.debug('Exiting')\n",
        "\n",
        "\n",
        "logging.basicConfig(\n",
        "    level=logging.DEBUG,\n",
        "    format='(%(threadName)-10s) %(message)s',\n",
        ")\n",
        "\n",
        "d = threading.Thread(name='daemon', target=daemon, daemon=True)\n",
        "t = threading.Thread(name='non-daemon', target=non_daemon)\n",
        "\n",
        "d.start()\n",
        "t.start()\n",
        "time.sleep(5)\n",
        "for i in range(5):\n",
        "  print(i)"
      ],
      "execution_count": null,
      "outputs": [
        {
          "output_type": "stream",
          "text": [
            "0\n",
            "1\n",
            "2\n",
            "3\n",
            "4\n"
          ],
          "name": "stdout"
        }
      ]
    },
    {
      "cell_type": "markdown",
      "metadata": {
        "id": "tkv_8bHtbtEp",
        "colab_type": "text"
      },
      "source": [
        "By default, join() blocks indefinitely. It is also possible to pass a float value representing the number of seconds to wait for the thread to become inactive. If the thread does not complete within the timeout period, join() returns anyway."
      ]
    },
    {
      "cell_type": "code",
      "metadata": {
        "id": "WRJIzOWlbwHB",
        "colab_type": "code",
        "colab": {
          "base_uri": "https://localhost:8080/",
          "height": 50
        },
        "outputId": "174adf5e-09af-412a-a99f-24343ee6130d"
      },
      "source": [
        "import threading\n",
        "import time\n",
        "import logging\n",
        "\n",
        "\n",
        "def daemon():\n",
        "    logging.debug('Starting')\n",
        "    time.sleep(0.2)\n",
        "    logging.debug('Exiting')\n",
        "\n",
        "\n",
        "def non_daemon():\n",
        "    logging.debug('Starting')\n",
        "    logging.debug('Exiting')\n",
        "\n",
        "\n",
        "logging.basicConfig(\n",
        "    level=logging.DEBUG,\n",
        "    format='(%(threadName)-10s) %(message)s',\n",
        ")\n",
        "\n",
        "d = threading.Thread(name='daemon', target=daemon, daemon=True)\n",
        "\n",
        "t = threading.Thread(name='non-daemon', target=non_daemon)\n",
        "\n",
        "d.start()\n",
        "t.start()\n",
        "\n",
        "d.join(0.1)\n",
        "print('d.isAlive()', d.isAlive())\n",
        "time.sleep(0.2)\n",
        "print('d.isAlive()', d.isAlive())\n",
        "t.join()"
      ],
      "execution_count": null,
      "outputs": [
        {
          "output_type": "stream",
          "text": [
            "d.isAlive() True\n",
            "d.isAlive() False\n"
          ],
          "name": "stdout"
        }
      ]
    },
    {
      "cell_type": "markdown",
      "metadata": {
        "id": "lsdbKNAQcaI-",
        "colab_type": "text"
      },
      "source": [
        "### Subclassing Thread"
      ]
    },
    {
      "cell_type": "markdown",
      "metadata": {
        "id": "ycvAztKrcl2A",
        "colab_type": "text"
      },
      "source": [
        "At start-up, a Thread does some basic initialization and then calls its run() method, which calls the target function passed to the constructor. To create a subclass of Thread, override run() to do whatever is necessary"
      ]
    },
    {
      "cell_type": "code",
      "metadata": {
        "id": "UhbB4OMscw8M",
        "colab_type": "code",
        "colab": {
          "base_uri": "https://localhost:8080/",
          "height": 118
        },
        "outputId": "8b7618d6-c6ca-40f6-d9f2-c4cfcf393dcd"
      },
      "source": [
        "import threading\n",
        "import logging\n",
        "\n",
        "\n",
        "class MyThreadWithArgs(threading.Thread):\n",
        "\n",
        "    def __init__(self, group=None, target=None, name=None,\n",
        "                 args=(), kwargs=None, *, daemon=None):\n",
        "        super().__init__(group=group, target=target, name=name,\n",
        "                         daemon=daemon)\n",
        "        self.args = args\n",
        "        self.kwargs = kwargs\n",
        "\n",
        "    def run(self):\n",
        "        logging.debug('running with %s and %s',\n",
        "                      self.args, self.kwargs)\n",
        "\n",
        "\n",
        "logging.basicConfig(\n",
        "    level=logging.DEBUG,\n",
        "    format='(%(threadName)-10s) %(message)s',\n",
        ")\n",
        "\n",
        "for i in range(5):\n",
        "    t = MyThreadWithArgs(args=(i,), kwargs={'a': 'A', 'b': 'B'})\n",
        "    t.start()"
      ],
      "execution_count": 1,
      "outputs": [
        {
          "output_type": "stream",
          "text": [
            "(Thread-4  ) running with (0,) and {'a': 'A', 'b': 'B'}\n",
            "(Thread-5  ) running with (1,) and {'a': 'A', 'b': 'B'}\n",
            "(Thread-6  ) running with (2,) and {'a': 'A', 'b': 'B'}\n",
            "(Thread-7  ) running with (3,) and {'a': 'A', 'b': 'B'}\n",
            "(Thread-8  ) running with (4,) and {'a': 'A', 'b': 'B'}\n",
            "(MainThread) Loaded backend module://ipykernel.pylab.backend_inline version unknown.\n"
          ],
          "name": "stderr"
        }
      ]
    },
    {
      "cell_type": "markdown",
      "metadata": {
        "id": "rcSz_PVkfGYQ",
        "colab_type": "text"
      },
      "source": [
        "### Signaling Between Threads"
      ]
    },
    {
      "cell_type": "markdown",
      "metadata": {
        "id": "9d3AAgZrf_xj",
        "colab_type": "text"
      },
      "source": [
        "Although the point of using multiple threads is to run separate operations concurrently, there are times when it is important to be able to synchronize the operations in two or more threads. Event objects are a simple way to communicate between threads safely. An Event manages an internal flag that callers can control with the set() and clear() methods. Other threads can use wait() to pause until the flag is set, effectively blocking progress until allowed to continue"
      ]
    },
    {
      "cell_type": "code",
      "metadata": {
        "id": "VFP3XYbMgDPV",
        "colab_type": "code",
        "colab": {
          "base_uri": "https://localhost:8080/",
          "height": 185
        },
        "outputId": "78a21d92-c311-4cad-c3b5-acea404675fd"
      },
      "source": [
        "import logging\n",
        "import threading\n",
        "import time\n",
        "\n",
        "def wait_for_event(e):\n",
        "    \"\"\"Wait for the event to be set before doing anything\"\"\"\n",
        "    logging.debug('wait_for_event starting')\n",
        "    event_is_set = e.wait()\n",
        "    logging.debug('event set: %s', event_is_set)\n",
        "\n",
        "def wait_for_event_timeout(e, t):\n",
        "    \"\"\"Wait t seconds and then timeout\"\"\"\n",
        "    while not e.is_set():\n",
        "        logging.debug('wait_for_event_timeout starting')\n",
        "        event_is_set = e.wait(t)\n",
        "        logging.debug('event set: %s', event_is_set)\n",
        "        if event_is_set:\n",
        "            logging.debug('processing event')\n",
        "        else:\n",
        "            logging.debug('doing other work')\n",
        "\n",
        "logging.basicConfig(\n",
        "    level=logging.DEBUG,\n",
        "    format='(%(threadName)-10s) %(message)s',\n",
        ")\n",
        "\n",
        "e = threading.Event()\n",
        "t1 = threading.Thread(name='block', target=wait_for_event, args=(e,),)\n",
        "t1.start()\n",
        "\n",
        "t2 = threading.Thread(name='nonblock',target=wait_for_event_timeout, args=(e, 2),)\n",
        "t2.start()\n",
        "\n",
        "logging.debug('Waiting before calling Event.set()')\n",
        "time.sleep(2)\n",
        "e.set()\n",
        "logging.debug('Event is set')\n",
        "\n",
        "t1.join()\n",
        "t2.join()"
      ],
      "execution_count": 4,
      "outputs": [
        {
          "output_type": "stream",
          "text": [
            "(block     ) wait_for_event starting\n",
            "(nonblock  ) wait_for_event_timeout starting\n",
            "(MainThread) Waiting before calling Event.set()\n",
            "(nonblock  ) event set: False\n",
            "(nonblock  ) doing other work\n",
            "(nonblock  ) wait_for_event_timeout starting\n",
            "(MainThread) Event is set\n",
            "(block     ) event set: True\n",
            "(nonblock  ) event set: True\n",
            "(nonblock  ) processing event\n"
          ],
          "name": "stderr"
        }
      ]
    },
    {
      "cell_type": "markdown",
      "metadata": {
        "id": "KF8YTZFahSaW",
        "colab_type": "text"
      },
      "source": [
        "The wait() method takes an argument representing the number of seconds to wait for the event before timing out. It returns a Boolean indicating whether or not the event is set, so the caller knows why wait() returned. The is_set() method can be used separately on the event without fear of blocking.\n",
        "\n",
        "In this example, wait_for_event_timeout() checks the event status without blocking indefinitely. The wait_for_event() blocks on the call to wait(), which does not return until the event status changes."
      ]
    },
    {
      "cell_type": "markdown",
      "metadata": {
        "id": "e8PnpShPq8cg",
        "colab_type": "text"
      },
      "source": [
        "### Synchronizing Threads"
      ]
    },
    {
      "cell_type": "markdown",
      "metadata": {
        "id": "mvmQ7oRurBJ6",
        "colab_type": "text"
      },
      "source": [
        "Condition object one of the way of synchronizing threads.Because the Condition uses a Lock, it can be tied to a shared resource, allowing multiple threads to wait for the resource to be updated. In this example, the consumer() threads wait for the Condition to be set before continuing. The producer() thread is responsible for setting the condition and notifying the other threads that they can continue."
      ]
    },
    {
      "cell_type": "code",
      "metadata": {
        "id": "iFDTlYMlrf9I",
        "colab_type": "code",
        "colab": {
          "base_uri": "https://localhost:8080/",
          "height": 118
        },
        "outputId": "46597efe-389f-44c5-d322-68615125fa44"
      },
      "source": [
        "import logging\n",
        "import threading\n",
        "import time\n",
        "\n",
        "def consumer(cond):\n",
        "    \"\"\"wait for the condition and use the resource\"\"\"\n",
        "    logging.debug('Starting consumer thread')\n",
        "    with cond:\n",
        "        cond.wait()\n",
        "        logging.debug('Resource is available to consumer')\n",
        "\n",
        "def producer(cond):\n",
        "    \"\"\"set up the resource to be used by the consumer\"\"\"\n",
        "    logging.debug('Starting producer thread')\n",
        "    with cond:\n",
        "        logging.debug('Making resource available')\n",
        "        cond.notifyAll()\n",
        "\n",
        "\n",
        "logging.basicConfig(\n",
        "    level=logging.DEBUG,\n",
        "    format='%(asctime)s (%(threadName)-2s) %(message)s',\n",
        ")\n",
        "\n",
        "condition = threading.Condition()\n",
        "c1 = threading.Thread(name='c1', target=consumer,\n",
        "                      args=(condition,))\n",
        "c2 = threading.Thread(name='c2', target=consumer,\n",
        "                      args=(condition,))\n",
        "p = threading.Thread(name='p', target=producer,\n",
        "                     args=(condition,))\n",
        "\n",
        "c1.start()\n",
        "time.sleep(0.2)\n",
        "c2.start()\n",
        "time.sleep(0.2)\n",
        "p.start()"
      ],
      "execution_count": 5,
      "outputs": [
        {
          "output_type": "stream",
          "text": [
            "(c1        ) Starting consumer thread\n",
            "(c2        ) Starting consumer thread\n",
            "(p         ) Starting producer thread\n",
            "(p         ) Making resource available\n",
            "(c2        ) Resource is available to consumer\n",
            "(c1        ) Resource is available to consumer\n"
          ],
          "name": "stderr"
        }
      ]
    },
    {
      "cell_type": "markdown",
      "metadata": {
        "id": "j64jGesjituC",
        "colab_type": "text"
      },
      "source": [
        "### Controlling Access to Resources"
      ]
    },
    {
      "cell_type": "markdown",
      "metadata": {
        "id": "ffoEPBxKitxg",
        "colab_type": "text"
      },
      "source": [
        "In addition to synchronizing the operations of threads, it is also important to be able to control access to shared resources to prevent corruption or missed data. Python’s built-in data structures (lists, dictionaries, etc.) are thread-safe as a side-effect of having atomic byte-codes for manipulating them"
      ]
    },
    {
      "cell_type": "markdown",
      "metadata": {
        "id": "bmjOmeC_ksg4",
        "colab_type": "text"
      },
      "source": [
        "Consider the program below to understand the concept of race condition"
      ]
    },
    {
      "cell_type": "code",
      "metadata": {
        "id": "vp6f57owktYZ",
        "colab_type": "code",
        "colab": {
          "base_uri": "https://localhost:8080/",
          "height": 185
        },
        "outputId": "5eabbc62-026c-411a-c808-bc6158e02601"
      },
      "source": [
        "import threading \n",
        "  \n",
        "# global variable x \n",
        "x = 0\n",
        "  \n",
        "def thread_task(): \n",
        "    \"\"\" \n",
        "    task for thread \n",
        "    calls increment function 100000 times. \n",
        "    \"\"\"\n",
        "    global x\n",
        "    for _ in range(100000): \n",
        "        x += 1\n",
        "  \n",
        "def main_task(): \n",
        "    global x \n",
        "    # setting global variable x as 0 \n",
        "    x = 0\n",
        "  \n",
        "    # creating threads \n",
        "    t1 = threading.Thread(target=thread_task) \n",
        "    t2 = threading.Thread(target=thread_task) \n",
        "  \n",
        "    # start threads \n",
        "    t1.start() \n",
        "    t2.start() \n",
        "  \n",
        "    # wait until threads finish their job \n",
        "    t1.join() \n",
        "    t2.join() \n",
        "  \n",
        "if __name__ == \"__main__\": \n",
        "    for i in range(10): \n",
        "        main_task() \n",
        "        print(\"Iteration {0}: x = {1}\".format(i,x))"
      ],
      "execution_count": 6,
      "outputs": [
        {
          "output_type": "stream",
          "text": [
            "Iteration 0: x = 200000\n",
            "Iteration 1: x = 200000\n",
            "Iteration 2: x = 200000\n",
            "Iteration 3: x = 200000\n",
            "Iteration 4: x = 131026\n",
            "Iteration 5: x = 168276\n",
            "Iteration 6: x = 200000\n",
            "Iteration 7: x = 168346\n",
            "Iteration 8: x = 169012\n",
            "Iteration 9: x = 200000\n"
          ],
          "name": "stdout"
        }
      ]
    },
    {
      "cell_type": "markdown",
      "metadata": {
        "id": "p-8rCHoUl1fh",
        "colab_type": "text"
      },
      "source": [
        "The expected final value of x is 200000 but what we get in 10 iterations of main_task function is some different values.\n",
        "\n",
        "This happens due to concurrent access of threads to the shared variable x. This unpredictability in value of x is nothing but race condition."
      ]
    },
    {
      "cell_type": "markdown",
      "metadata": {
        "id": "zduwfvqTl8bN",
        "colab_type": "text"
      },
      "source": [
        "Hence, we need a tool for proper synchronization between multiple threads.threading module provides a Lock class to deal with the race conditions. Lock is implemented using a Semaphore object provided by the Operating System."
      ]
    },
    {
      "cell_type": "code",
      "metadata": {
        "id": "4olVhkB-mHBj",
        "colab_type": "code",
        "colab": {
          "base_uri": "https://localhost:8080/",
          "height": 185
        },
        "outputId": "e36aec8f-11da-4d91-8664-b006f6bd7448"
      },
      "source": [
        "import threading \n",
        "  \n",
        "# global variable x \n",
        "x = 0\n",
        "  \n",
        "def thread_task(lock): \n",
        "    \"\"\" \n",
        "    task for thread \n",
        "    calls increment function 100000 times. \n",
        "    \"\"\"\n",
        "    global x \n",
        "    for _ in range(100000): \n",
        "        lock.acquire() \n",
        "        x += 1 \n",
        "        lock.release() \n",
        "  \n",
        "def main_task(): \n",
        "    global x \n",
        "    # setting global variable x as 0 \n",
        "    x = 0\n",
        "  \n",
        "    # creating a lock \n",
        "    lock = threading.Lock() \n",
        "  \n",
        "    # creating threads \n",
        "    t1 = threading.Thread(target=thread_task, args=(lock,)) \n",
        "    t2 = threading.Thread(target=thread_task, args=(lock,)) \n",
        "  \n",
        "    # start threads \n",
        "    t1.start() \n",
        "    t2.start() \n",
        "  \n",
        "    # wait until threads finish their job \n",
        "    t1.join() \n",
        "    t2.join() \n",
        "  \n",
        "if __name__ == \"__main__\": \n",
        "    for i in range(10): \n",
        "        main_task() \n",
        "        print(\"Iteration {0}: x = {1}\".format(i,x)) "
      ],
      "execution_count": 8,
      "outputs": [
        {
          "output_type": "stream",
          "text": [
            "Iteration 0: x = 200000\n",
            "Iteration 1: x = 200000\n",
            "Iteration 2: x = 200000\n",
            "Iteration 3: x = 200000\n",
            "Iteration 4: x = 200000\n",
            "Iteration 5: x = 200000\n",
            "Iteration 6: x = 200000\n",
            "Iteration 7: x = 200000\n",
            "Iteration 8: x = 200000\n",
            "Iteration 9: x = 200000\n"
          ],
          "name": "stdout"
        }
      ]
    },
    {
      "cell_type": "markdown",
      "metadata": {
        "id": "c2rZnARjmp6Y",
        "colab_type": "text"
      },
      "source": [
        "As you can see in the results, the final value of x comes out to be 200000 every time (which is the expected final result)."
      ]
    }
  ]
}